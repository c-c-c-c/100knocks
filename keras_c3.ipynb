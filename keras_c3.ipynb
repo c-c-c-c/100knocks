{
 "cells": [
  {
   "cell_type": "code",
   "execution_count": 2,
   "metadata": {},
   "outputs": [],
   "source": [
    "from keras import models\n",
    "from keras import layers\n",
    "\n",
    "model = models.Sequential()\n",
    "model.add(layers.Dense(32, activation=\"relu\", input_shape=(784,)))\n",
    "\n",
    "model.add(layers.Dense(10, activation=\"softmax\"))\n"
   ]
  },
  {
   "cell_type": "code",
   "execution_count": 5,
   "metadata": {},
   "outputs": [],
   "source": [
    "input_tensor = layers.Input(shape=(784, ))\n",
    "\n",
    "x = layers.Dense(32, activation= \"relu\")(input_tensor)\n",
    "\n",
    "output_tensor = layers.Dense(10, activation = \"softmax\")(x)\n",
    "\n",
    "model = models.Model(inputs=input_tensor, outputs= output_tensor)\n",
    "\n"
   ]
  },
  {
   "cell_type": "code",
   "execution_count": 7,
   "metadata": {},
   "outputs": [],
   "source": [
    "from keras import optimizers\n",
    "\n",
    "model.compile(optimizer = optimizers.RMSprop(lr=0.001),\n",
    "             loss=\"mse\",\n",
    "              metrics=[\"accuracy\"]\n",
    "             )\n"
   ]
  },
  {
   "cell_type": "code",
   "execution_count": 8,
   "metadata": {},
   "outputs": [
    {
     "ename": "NameError",
     "evalue": "name 'target_tensor' is not defined",
     "output_type": "error",
     "traceback": [
      "\u001b[0;31m---------------------------------------------------------------------------\u001b[0m",
      "\u001b[0;31mNameError\u001b[0m                                 Traceback (most recent call last)",
      "\u001b[0;32m<ipython-input-8-c17b2397d844>\u001b[0m in \u001b[0;36m<module>\u001b[0;34m\u001b[0m\n\u001b[0;32m----> 1\u001b[0;31m \u001b[0mmodel\u001b[0m\u001b[0;34m.\u001b[0m\u001b[0mfit\u001b[0m\u001b[0;34m(\u001b[0m\u001b[0minput_tensor\u001b[0m\u001b[0;34m,\u001b[0m \u001b[0mtarget_tensor\u001b[0m\u001b[0;34m,\u001b[0m \u001b[0mbatch_size\u001b[0m\u001b[0;34m=\u001b[0m\u001b[0;36m128\u001b[0m\u001b[0;34m,\u001b[0m \u001b[0mepochs\u001b[0m\u001b[0;34m=\u001b[0m\u001b[0;36m10\u001b[0m\u001b[0;34m)\u001b[0m\u001b[0;34m\u001b[0m\u001b[0;34m\u001b[0m\u001b[0m\n\u001b[0m",
      "\u001b[0;31mNameError\u001b[0m: name 'target_tensor' is not defined"
     ]
    }
   ],
   "source": [
    "# model.fit(input_tensor, target_tensor, batch_size=128, epochs=10)"
   ]
  },
  {
   "cell_type": "code",
   "execution_count": 9,
   "metadata": {},
   "outputs": [
    {
     "name": "stdout",
     "output_type": "stream",
     "text": [
      "Downloading data from https://s3.amazonaws.com/text-datasets/imdb.npz\n",
      "17465344/17464789 [==============================] - 13s 1us/step\n"
     ]
    }
   ],
   "source": [
    "from keras.datasets import imdb\n",
    "\n",
    "(train_data, train_labels), (test_data , test_labels) = \\\n",
    "    imdb.load_data(num_words = 10000)\n"
   ]
  },
  {
   "cell_type": "code",
   "execution_count": 10,
   "metadata": {},
   "outputs": [
    {
     "data": {
      "text/plain": [
       "[1,\n",
       " 14,\n",
       " 22,\n",
       " 16,\n",
       " 43,\n",
       " 530,\n",
       " 973,\n",
       " 1622,\n",
       " 1385,\n",
       " 65,\n",
       " 458,\n",
       " 4468,\n",
       " 66,\n",
       " 3941,\n",
       " 4,\n",
       " 173,\n",
       " 36,\n",
       " 256,\n",
       " 5,\n",
       " 25,\n",
       " 100,\n",
       " 43,\n",
       " 838,\n",
       " 112,\n",
       " 50,\n",
       " 670,\n",
       " 2,\n",
       " 9,\n",
       " 35,\n",
       " 480,\n",
       " 284,\n",
       " 5,\n",
       " 150,\n",
       " 4,\n",
       " 172,\n",
       " 112,\n",
       " 167,\n",
       " 2,\n",
       " 336,\n",
       " 385,\n",
       " 39,\n",
       " 4,\n",
       " 172,\n",
       " 4536,\n",
       " 1111,\n",
       " 17,\n",
       " 546,\n",
       " 38,\n",
       " 13,\n",
       " 447,\n",
       " 4,\n",
       " 192,\n",
       " 50,\n",
       " 16,\n",
       " 6,\n",
       " 147,\n",
       " 2025,\n",
       " 19,\n",
       " 14,\n",
       " 22,\n",
       " 4,\n",
       " 1920,\n",
       " 4613,\n",
       " 469,\n",
       " 4,\n",
       " 22,\n",
       " 71,\n",
       " 87,\n",
       " 12,\n",
       " 16,\n",
       " 43,\n",
       " 530,\n",
       " 38,\n",
       " 76,\n",
       " 15,\n",
       " 13,\n",
       " 1247,\n",
       " 4,\n",
       " 22,\n",
       " 17,\n",
       " 515,\n",
       " 17,\n",
       " 12,\n",
       " 16,\n",
       " 626,\n",
       " 18,\n",
       " 2,\n",
       " 5,\n",
       " 62,\n",
       " 386,\n",
       " 12,\n",
       " 8,\n",
       " 316,\n",
       " 8,\n",
       " 106,\n",
       " 5,\n",
       " 4,\n",
       " 2223,\n",
       " 5244,\n",
       " 16,\n",
       " 480,\n",
       " 66,\n",
       " 3785,\n",
       " 33,\n",
       " 4,\n",
       " 130,\n",
       " 12,\n",
       " 16,\n",
       " 38,\n",
       " 619,\n",
       " 5,\n",
       " 25,\n",
       " 124,\n",
       " 51,\n",
       " 36,\n",
       " 135,\n",
       " 48,\n",
       " 25,\n",
       " 1415,\n",
       " 33,\n",
       " 6,\n",
       " 22,\n",
       " 12,\n",
       " 215,\n",
       " 28,\n",
       " 77,\n",
       " 52,\n",
       " 5,\n",
       " 14,\n",
       " 407,\n",
       " 16,\n",
       " 82,\n",
       " 2,\n",
       " 8,\n",
       " 4,\n",
       " 107,\n",
       " 117,\n",
       " 5952,\n",
       " 15,\n",
       " 256,\n",
       " 4,\n",
       " 2,\n",
       " 7,\n",
       " 3766,\n",
       " 5,\n",
       " 723,\n",
       " 36,\n",
       " 71,\n",
       " 43,\n",
       " 530,\n",
       " 476,\n",
       " 26,\n",
       " 400,\n",
       " 317,\n",
       " 46,\n",
       " 7,\n",
       " 4,\n",
       " 2,\n",
       " 1029,\n",
       " 13,\n",
       " 104,\n",
       " 88,\n",
       " 4,\n",
       " 381,\n",
       " 15,\n",
       " 297,\n",
       " 98,\n",
       " 32,\n",
       " 2071,\n",
       " 56,\n",
       " 26,\n",
       " 141,\n",
       " 6,\n",
       " 194,\n",
       " 7486,\n",
       " 18,\n",
       " 4,\n",
       " 226,\n",
       " 22,\n",
       " 21,\n",
       " 134,\n",
       " 476,\n",
       " 26,\n",
       " 480,\n",
       " 5,\n",
       " 144,\n",
       " 30,\n",
       " 5535,\n",
       " 18,\n",
       " 51,\n",
       " 36,\n",
       " 28,\n",
       " 224,\n",
       " 92,\n",
       " 25,\n",
       " 104,\n",
       " 4,\n",
       " 226,\n",
       " 65,\n",
       " 16,\n",
       " 38,\n",
       " 1334,\n",
       " 88,\n",
       " 12,\n",
       " 16,\n",
       " 283,\n",
       " 5,\n",
       " 16,\n",
       " 4472,\n",
       " 113,\n",
       " 103,\n",
       " 32,\n",
       " 15,\n",
       " 16,\n",
       " 5345,\n",
       " 19,\n",
       " 178,\n",
       " 32]"
      ]
     },
     "execution_count": 10,
     "metadata": {},
     "output_type": "execute_result"
    }
   ],
   "source": [
    "train_data[0]"
   ]
  },
  {
   "cell_type": "code",
   "execution_count": 11,
   "metadata": {},
   "outputs": [
    {
     "data": {
      "text/plain": [
       "1"
      ]
     },
     "execution_count": 11,
     "metadata": {},
     "output_type": "execute_result"
    }
   ],
   "source": [
    "train_labels[0]"
   ]
  },
  {
   "cell_type": "code",
   "execution_count": 12,
   "metadata": {},
   "outputs": [
    {
     "data": {
      "text/plain": [
       "9999"
      ]
     },
     "execution_count": 12,
     "metadata": {},
     "output_type": "execute_result"
    }
   ],
   "source": [
    "max([max(sequence) for sequence in train_data ])"
   ]
  },
  {
   "cell_type": "code",
   "execution_count": 13,
   "metadata": {},
   "outputs": [
    {
     "name": "stdout",
     "output_type": "stream",
     "text": [
      "Downloading data from https://s3.amazonaws.com/text-datasets/imdb_word_index.json\n",
      "1646592/1641221 [==============================] - 2s 1us/step\n"
     ]
    }
   ],
   "source": [
    "word_index = imdb.get_word_index()"
   ]
  },
  {
   "cell_type": "code",
   "execution_count": 14,
   "metadata": {},
   "outputs": [],
   "source": [
    "reverse_word_index = dict(\n",
    "    [(value, key) for (key, value) in word_index.items()]\n",
    ")"
   ]
  },
  {
   "cell_type": "code",
   "execution_count": 16,
   "metadata": {},
   "outputs": [],
   "source": [
    "decoded_review = \".\".join(\n",
    "    [reverse_word_index.get(i - 3, \"?\") for i in train_data[0]  ]\n",
    ")"
   ]
  },
  {
   "cell_type": "code",
   "execution_count": 17,
   "metadata": {},
   "outputs": [
    {
     "data": {
      "text/plain": [
       "\"?.this.film.was.just.brilliant.casting.location.scenery.story.direction.everyone's.really.suited.the.part.they.played.and.you.could.just.imagine.being.there.robert.?.is.an.amazing.actor.and.now.the.same.being.director.?.father.came.from.the.same.scottish.island.as.myself.so.i.loved.the.fact.there.was.a.real.connection.with.this.film.the.witty.remarks.throughout.the.film.were.great.it.was.just.brilliant.so.much.that.i.bought.the.film.as.soon.as.it.was.released.for.?.and.would.recommend.it.to.everyone.to.watch.and.the.fly.fishing.was.amazing.really.cried.at.the.end.it.was.so.sad.and.you.know.what.they.say.if.you.cry.at.a.film.it.must.have.been.good.and.this.definitely.was.also.?.to.the.two.little.boy's.that.played.the.?.of.norman.and.paul.they.were.just.brilliant.children.are.often.left.out.of.the.?.list.i.think.because.the.stars.that.play.them.all.grown.up.are.such.a.big.profile.for.the.whole.film.but.these.children.are.amazing.and.should.be.praised.for.what.they.have.done.don't.you.think.the.whole.story.was.so.lovely.because.it.was.true.and.was.someone's.life.after.all.that.was.shared.with.us.all\""
      ]
     },
     "execution_count": 17,
     "metadata": {},
     "output_type": "execute_result"
    }
   ],
   "source": [
    "decoded_review"
   ]
  },
  {
   "cell_type": "code",
   "execution_count": 20,
   "metadata": {},
   "outputs": [],
   "source": [
    "import numpy as np\n",
    "\n",
    "def vectorize_sequences(sequences, dimension = 10000) :\n",
    "    results = np.zeros((len(sequences), dimension))\n",
    "    \n",
    "    for i , sequences in enumerate(sequences):\n",
    "        results[i, sequences] = 1.\n",
    "    \n",
    "    return results\n",
    "\n",
    "x_train = vectorize_sequences(train_data)\n",
    "x_test = vectorize_sequences(test_data)\n",
    "    "
   ]
  },
  {
   "cell_type": "code",
   "execution_count": 32,
   "metadata": {},
   "outputs": [],
   "source": [
    "x_train[0]\n",
    "y_train = np.asarray(train_labels).astype(\"float32\")\n",
    "y_test = np.asarray(test_labels).astype(\"float32\")"
   ]
  },
  {
   "cell_type": "code",
   "execution_count": 28,
   "metadata": {},
   "outputs": [],
   "source": [
    "from keras import models\n",
    "from keras import layers\n",
    "\n",
    "model = models.Sequential()\n",
    "model.add(layers.Dense(16, activation=\"relu\", input_shape=(10000,)))\n",
    "model.add(layers.Dense(16, activation=\"relu\"))\n",
    "model.add(layers.Dense(1, activation=\"sigmoid\"))\n",
    "\n",
    "model.compile(optimizer=\"rmsprop\",\n",
    "             loss=\"binary_crossentropy\",\n",
    "             metrics=[\"accuracy\"]\n",
    "             )\n",
    "\n",
    "from keras import optimizers\n",
    "model.compile(optimizer = optimizers.RMSprop(lr=0.001),\n",
    "             loss = \"binary_crossentropy\",\n",
    "              metrics=[\"accuracy\"])\n",
    "             "
   ]
  },
  {
   "cell_type": "code",
   "execution_count": 31,
   "metadata": {},
   "outputs": [],
   "source": [
    "from keras import losses\n",
    "from keras import metrics\n",
    "\n",
    "model.compile(optimizer = optimizers.RMSprop(lr=0.001),\n",
    "             loss = losses.binary_crossentropy,\n",
    "              metrisc=[metrics.binary_accuracy]\n",
    "             )\n"
   ]
  },
  {
   "cell_type": "code",
   "execution_count": 38,
   "metadata": {},
   "outputs": [],
   "source": [
    "x_val = x_train[:10000]\n",
    "partial_x_train = x_train[10000: ]\n",
    "\n",
    "y_val = y_train[:10000]\n",
    "partial_y_train = y_train[10000: ]\n"
   ]
  },
  {
   "cell_type": "code",
   "execution_count": 47,
   "metadata": {},
   "outputs": [
    {
     "name": "stdout",
     "output_type": "stream",
     "text": [
      "Train on 15000 samples, validate on 10000 samples\n",
      "Epoch 1/20\n",
      "15000/15000 [==============================] - 2s 153us/step - loss: 0.0096 - acc: 0.9977 - val_loss: 0.7409 - val_acc: 0.8640\n",
      "Epoch 2/20\n",
      "15000/15000 [==============================] - 2s 124us/step - loss: 0.0061 - acc: 0.9985 - val_loss: 0.7767 - val_acc: 0.8621\n",
      "Epoch 3/20\n",
      "15000/15000 [==============================] - 2s 103us/step - loss: 0.0019 - acc: 0.9999 - val_loss: 0.7983 - val_acc: 0.8624\n",
      "Epoch 4/20\n",
      "15000/15000 [==============================] - 2s 103us/step - loss: 0.0066 - acc: 0.9984 - val_loss: 0.8362 - val_acc: 0.8602\n",
      "Epoch 5/20\n",
      "15000/15000 [==============================] - 2s 120us/step - loss: 0.0013 - acc: 0.9999 - val_loss: 0.8535 - val_acc: 0.8605\n",
      "Epoch 6/20\n",
      "15000/15000 [==============================] - 2s 122us/step - loss: 0.0010 - acc: 0.9999 - val_loss: 0.8920 - val_acc: 0.8615\n",
      "Epoch 7/20\n",
      "15000/15000 [==============================] - 2s 100us/step - loss: 0.0029 - acc: 0.9993 - val_loss: 0.9284 - val_acc: 0.8586\n",
      "Epoch 8/20\n",
      "15000/15000 [==============================] - 1s 99us/step - loss: 6.1317e-04 - acc: 0.9999 - val_loss: 0.9551 - val_acc: 0.8587\n",
      "Epoch 9/20\n",
      "15000/15000 [==============================] - 1s 98us/step - loss: 4.8069e-04 - acc: 1.0000 - val_loss: 1.0192 - val_acc: 0.8545\n",
      "Epoch 10/20\n",
      "15000/15000 [==============================] - 2s 101us/step - loss: 0.0028 - acc: 0.9992 - val_loss: 1.0462 - val_acc: 0.8586\n",
      "Epoch 11/20\n",
      "15000/15000 [==============================] - 2s 101us/step - loss: 2.6962e-04 - acc: 1.0000 - val_loss: 1.0688 - val_acc: 0.8583\n",
      "Epoch 12/20\n",
      "15000/15000 [==============================] - 2s 116us/step - loss: 2.1992e-04 - acc: 1.0000 - val_loss: 1.1059 - val_acc: 0.8577\n",
      "Epoch 13/20\n",
      "15000/15000 [==============================] - 2s 105us/step - loss: 0.0021 - acc: 0.9993 - val_loss: 1.1460 - val_acc: 0.8550\n",
      "Epoch 14/20\n",
      "15000/15000 [==============================] - 2s 121us/step - loss: 1.4723e-04 - acc: 1.0000 - val_loss: 1.1618 - val_acc: 0.8550\n",
      "Epoch 15/20\n",
      "15000/15000 [==============================] - 2s 103us/step - loss: 1.1705e-04 - acc: 1.0000 - val_loss: 1.1911 - val_acc: 0.8548\n",
      "Epoch 16/20\n",
      "15000/15000 [==============================] - 1s 99us/step - loss: 9.1435e-05 - acc: 1.0000 - val_loss: 1.2557 - val_acc: 0.8562\n",
      "Epoch 17/20\n",
      "15000/15000 [==============================] - 2s 101us/step - loss: 0.0014 - acc: 0.9995 - val_loss: 1.2844 - val_acc: 0.8565\n",
      "Epoch 18/20\n",
      "15000/15000 [==============================] - 2s 101us/step - loss: 6.0091e-05 - acc: 1.0000 - val_loss: 1.2965 - val_acc: 0.8565\n",
      "Epoch 19/20\n",
      "15000/15000 [==============================] - 1s 100us/step - loss: 4.8481e-05 - acc: 1.0000 - val_loss: 1.3211 - val_acc: 0.8554\n",
      "Epoch 20/20\n",
      "15000/15000 [==============================] - 2s 101us/step - loss: 0.0021 - acc: 0.9994 - val_loss: 1.3748 - val_acc: 0.8553\n"
     ]
    }
   ],
   "source": [
    "\n",
    "\n",
    "model.compile(optimizer=\"rmsprop\",\n",
    "             loss = \"binary_crossentropy\",\n",
    "            metrics =[\"acc\"]\n",
    "             )\n",
    "\n",
    "history = model.fit(partial_x_train,\n",
    "                   partial_y_train,\n",
    "                   epochs=20,\n",
    "                   batch_size=512, validation_data=(x_val, y_val))\n"
   ]
  },
  {
   "cell_type": "code",
   "execution_count": 48,
   "metadata": {},
   "outputs": [
    {
     "data": {
      "text/plain": [
       "[<matplotlib.lines.Line2D at 0x7fdea822bf50>]"
      ]
     },
     "execution_count": 48,
     "metadata": {},
     "output_type": "execute_result"
    },
    {
     "data": {
      "image/png": "[encoded data removed]",
      "text/plain": [
       "<Figure size 432x288 with 1 Axes>"
      ]
     },
     "metadata": {
      "needs_background": "light"
     },
     "output_type": "display_data"
    }
   ],
   "source": [
    "import matplotlib.pyplot as plt\n",
    "\n",
    "history_dict = history.history\n",
    "loss_values = history_dict[\"loss\"]\n",
    "val_loss_values = history_dict[\"val_loss\"]\n",
    "\n",
    "epochs = range(1, len(loss_values) + 1)\n",
    "\n",
    "plt.plot(epochs, loss_values, \"bo\", label=\" Training loss\")\n",
    "\n",
    "plt.plot(epochs, val_loss_values, \"b\", label= \"Validation loss\")\n",
    "\n",
    "\n",
    "\n"
   ]
  },
  {
   "cell_type": "code",
   "execution_count": 55,
   "metadata": {},
   "outputs": [
    {
     "name": "stdout",
     "output_type": "stream",
     "text": [
      "Epoch 1/4\n",
      "25000/25000 [==============================] - 2s 83us/step - loss: 0.4734 - accuracy: 0.8151\n",
      "Epoch 2/4\n",
      "25000/25000 [==============================] - 2s 76us/step - loss: 0.2675 - accuracy: 0.9092\n",
      "Epoch 3/4\n",
      "25000/25000 [==============================] - 2s 63us/step - loss: 0.2065 - accuracy: 0.9267\n",
      "Epoch 4/4\n",
      "25000/25000 [==============================] - 2s 70us/step - loss: 0.1712 - accuracy: 0.9399\n",
      "25000/25000 [==============================] - 4s 158us/step\n"
     ]
    }
   ],
   "source": [
    "model = models.Sequential()\n",
    "\n",
    "model.add(layers.Dense(16, activation= \"relu\", input_shape=(10000,)))\n",
    "model.add(layers.Dense(16, activation= \"relu\"))\n",
    "model.add(layers.Dense(1, activation= \"sigmoid\"))\n",
    "\n",
    "model.compile(optimizer=\"rmsprop\", loss=\"binary_crossentropy\", metrics=[\"accuracy\"])\n",
    "\n",
    "model.fit(x_train, y_train, epochs=4, batch_size=512)\n",
    "\n",
    "results = model.evaluate(x_test, y_test)\n"
   ]
  },
  {
   "cell_type": "code",
   "execution_count": 56,
   "metadata": {},
   "outputs": [
    {
     "data": {
      "text/plain": [
       "[0.293176138753891, 0.883840024471283]"
      ]
     },
     "execution_count": 56,
     "metadata": {},
     "output_type": "execute_result"
    }
   ],
   "source": [
    "results"
   ]
  },
  {
   "cell_type": "code",
   "execution_count": 57,
   "metadata": {},
   "outputs": [
    {
     "data": {
      "text/plain": [
       "array([[0.26643294],\n",
       "       [0.9993293 ],\n",
       "       [0.9119698 ],\n",
       "       ...,\n",
       "       [0.14136212],\n",
       "       [0.09304796],\n",
       "       [0.67670816]], dtype=float32)"
      ]
     },
     "execution_count": 57,
     "metadata": {},
     "output_type": "execute_result"
    }
   ],
   "source": [
    "model.predict(x_test)"
   ]
  }
 ],
 "metadata": {
  "kernelspec": {
   "display_name": "Python 3",
   "language": "python",
   "name": "python3"
  },
  "language_info": {
   "codemirror_mode": {
    "name": "ipython",
    "version": 3
   },
   "file_extension": ".py",
   "mimetype": "text/x-python",
   "name": "python",
   "nbconvert_exporter": "python",
   "pygments_lexer": "ipython3",
   "version": "3.7.6"
  }
 },
 "nbformat": 4,
 "nbformat_minor": 4
}
