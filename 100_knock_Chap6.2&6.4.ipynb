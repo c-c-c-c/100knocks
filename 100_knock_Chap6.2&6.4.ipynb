{
 "cells": [
  {
   "cell_type": "markdown",
   "metadata": {
    "id": "w1YuuMcq2sMk"
   },
   "source": [
    "# Chap6.2及び6.4\n",
    "\n",
    "\n"
   ]
  },
  {
   "cell_type": "code",
   "execution_count": 1,
   "metadata": {},
   "outputs": [
    {
     "name": "stdout",
     "output_type": "stream",
     "text": [
      "Pixiedust database opened successfully\n"
     ]
    },
    {
     "data": {
      "text/html": [
       "\n",
       "        <div style=\"margin:10px\">\n",
       "            <a href=\"https://github.com/ibm-watson-data-lab/pixiedust\" target=\"_new\">\n",
       "                <img src=\"https://github.com/ibm-watson-data-lab/pixiedust/raw/master/docs/_static/pd_icon32.png\" style=\"float:left;margin-right:10px\"/>\n",
       "            </a>\n",
       "            <span>Pixiedust version 1.1.18</span>\n",
       "        </div>\n",
       "        "
      ],
      "text/plain": [
       "<IPython.core.display.HTML object>"
      ]
     },
     "metadata": {},
     "output_type": "display_data"
    }
   ],
   "source": [
    "# 標準使用ライブラリー\n",
    "import numpy as np # linear algebra\n",
    "import pandas as pd # data processing, CSV file I/O (e.g. pd.read_csv)\n",
    "# Suppress warnings \n",
    "import warnings\n",
    "warnings.filterwarnings('ignore')\n",
    "import gc\n",
    "import os\n",
    "import shutil\n",
    "\n",
    "\n",
    "# matplotlib and seaborn for plotting\n",
    "import matplotlib.pyplot as plt\n",
    "%matplotlib inline\n",
    "import seaborn as sns\n",
    "\n",
    "# 追記\n",
    "import json\n",
    "import datetime\n",
    "import math\n",
    "plt.style.use('dark_background')\n",
    "\n",
    "# debug\n",
    "#%pdb on\n",
    "\n",
    "import pixiedust #%pixie_debugger\n",
    "import os\n",
    "os.environ[\"CUDA_VISIBLE_DEVICES\"]=\"5\"\n",
    "\n",
    "# tfがエラーはかないため\n",
    "import tensorflow as tf\n",
    "physical_devices = tf.config.experimental.list_physical_devices('GPU')\n",
    "# physical_devices = tensorflow.keras.config.experimental.list_physical_devices('GPU')\n",
    "tf.config.experimental.set_memory_growth(physical_devices[0], True)\n"
   ]
  },
  {
   "cell_type": "code",
   "execution_count": 2,
   "metadata": {
    "executionInfo": {
     "elapsed": 651,
     "status": "ok",
     "timestamp": 1606034972242,
     "user": {
      "displayName": "HAYATO NODA",
      "photoUrl": "",
      "userId": "12974659274873789805"
     },
     "user_tz": -540
    },
    "id": "bkKfA3Ewvc0F"
   },
   "outputs": [],
   "source": [
    "import tensorflow as tf\n",
    "from tensorflow.keras import Model, layers\n",
    "# from tf.keras import Model, layers\n",
    "import tensorflow.keras\n",
    "from tensorflow.keras.datasets import imdb\n",
    "from tensorflow.keras.preprocessing import sequence\n",
    "# import matplotlib.pyplot as plt\n",
    "\n"
   ]
  },
  {
   "cell_type": "code",
   "execution_count": 3,
   "metadata": {
    "executionInfo": {
     "elapsed": 2425,
     "status": "ok",
     "timestamp": 1606031235448,
     "user": {
      "displayName": "HAYATO NODA",
      "photoUrl": "",
      "userId": "12974659274873789805"
     },
     "user_tz": -540
    },
    "id": "jOtXURb5wVXO"
   },
   "outputs": [],
   "source": [
    "max_features = 10000\n",
    "max_len = 500\n",
    "BATCH_SIZE = 128\n",
    "EPOCH = 10"
   ]
  },
  {
   "cell_type": "code",
   "execution_count": 4,
   "metadata": {
    "executionInfo": {
     "elapsed": 8778,
     "status": "ok",
     "timestamp": 1606031241810,
     "user": {
      "displayName": "HAYATO NODA",
      "photoUrl": "",
      "userId": "12974659274873789805"
     },
     "user_tz": -540
    },
    "id": "d2wJ2kx7dk8D"
   },
   "outputs": [],
   "source": [
    "(input_train, y_train), ( input_test, y_test) = imdb.load_data(num_words=max_features)\n",
    "\n",
    "x_train = sequence.pad_sequences(input_train, maxlen=max_len)\n",
    "x_test = sequence.pad_sequences(input_test, maxlen=max_len)"
   ]
  },
  {
   "cell_type": "code",
   "execution_count": 5,
   "metadata": {
    "colab": {
     "base_uri": "https://localhost:8080/"
    },
    "executionInfo": {
     "elapsed": 8770,
     "status": "ok",
     "timestamp": 1606031241811,
     "user": {
      "displayName": "HAYATO NODA",
      "photoUrl": "",
      "userId": "12974659274873789805"
     },
     "user_tz": -540
    },
    "id": "2BN79LbQZdye",
    "outputId": "86b56cb2-69f8-48c8-f056-5c115cfa96cc"
   },
   "outputs": [
    {
     "data": {
      "text/plain": [
       "array([[   0,    0,    0, ...,   19,  178,   32],\n",
       "       [   0,    0,    0, ...,   16,  145,   95],\n",
       "       [   0,    0,    0, ...,    7,  129,  113],\n",
       "       ...,\n",
       "       [   0,    0,    0, ...,    4, 3586,    2],\n",
       "       [   0,    0,    0, ...,   12,    9,   23],\n",
       "       [   0,    0,    0, ...,  204,  131,    9]], dtype=int32)"
      ]
     },
     "execution_count": 5,
     "metadata": {},
     "output_type": "execute_result"
    }
   ],
   "source": [
    "x_train"
   ]
  },
  {
   "cell_type": "markdown",
   "metadata": {
    "id": "HsGtWvEL-1JR"
   },
   "source": [
    "０のPadding（？）は後ではなく前に足されるというのに注意"
   ]
  },
  {
   "cell_type": "code",
   "execution_count": 6,
   "metadata": {
    "colab": {
     "base_uri": "https://localhost:8080/",
     "height": 173
    },
    "executionInfo": {
     "elapsed": 8761,
     "status": "ok",
     "timestamp": 1606031241812,
     "user": {
      "displayName": "HAYATO NODA",
      "photoUrl": "",
      "userId": "12974659274873789805"
     },
     "user_tz": -540
    },
    "id": "Oh_TTZEDaLKT",
    "outputId": "ec9f3c80-1579-4708-edb3-4e6e736f4cd9"
   },
   "outputs": [
    {
     "data": {
      "text/plain": [
       "\"? ? ? ? ? ? ? ? ? ? ? ? ? ? ? ? ? ? ? ? ? ? ? ? ? ? ? ? ? ? ? ? ? ? ? ? ? ? ? ? ? ? ? ? ? ? ? ? ? ? ? ? ? ? ? ? ? ? ? ? ? ? ? ? ? ? ? ? ? ? ? ? ? ? ? ? ? ? ? ? ? ? ? ? ? ? ? ? ? ? ? ? ? ? ? ? ? ? ? ? ? ? ? ? ? ? ? ? ? ? ? ? ? ? ? ? ? ? ? ? ? ? ? ? ? ? ? ? ? ? ? ? ? ? ? ? ? ? ? ? ? ? ? ? ? ? ? ? ? ? ? ? ? ? ? ? ? ? ? ? ? ? ? ? ? ? ? ? ? ? ? ? ? ? ? ? ? ? ? ? ? ? ? ? ? ? ? ? ? ? ? ? ? ? ? ? ? ? ? ? ? ? ? ? ? ? ? ? ? ? ? ? ? ? ? ? ? ? ? ? ? ? ? ? ? ? ? ? ? ? ? ? ? ? ? ? ? ? ? ? ? ? ? ? ? ? ? ? ? ? ? ? ? ? ? ? ? ? ? ? ? ? ? ? ? ? ? ? ? ? ? ? ? ? ? ? ? ? ? ? ? ? ? this film was just brilliant casting location scenery story direction everyone's really suited the part they played and you could just imagine being there robert ? is an amazing actor and now the same being director ? father came from the same scottish island as myself so i loved the fact there was a real connection with this film the witty remarks throughout the film were great it was just brilliant so much that i bought the film as soon as it was released for ? and would recommend it to everyone to watch and the fly fishing was amazing really cried at the end it was so sad and you know what they say if you cry at a film it must have been good and this definitely was also ? to the two little boy's that played the ? of norman and paul they were just brilliant children are often left out of the ? list i think because the stars that play them all grown up are such a big profile for the whole film but these children are amazing and should be praised for what they have done don't you think the whole story was so lovely because it was true and was someone's life after all that was shared with us all\""
      ]
     },
     "execution_count": 6,
     "metadata": {},
     "output_type": "execute_result"
    }
   ],
   "source": [
    "word_index = imdb.get_word_index()\n",
    "reverse_word_index = dict([(value, key) for (key, value) in word_index.items()])\n",
    "decoded_reveiw = ' '.join([reverse_word_index.get(i-3, '?') for  i in x_train[0]])\n",
    "decoded_reveiw"
   ]
  },
  {
   "cell_type": "code",
   "execution_count": 7,
   "metadata": {
    "colab": {
     "base_uri": "https://localhost:8080/"
    },
    "executionInfo": {
     "elapsed": 8751,
     "status": "ok",
     "timestamp": 1606031241812,
     "user": {
      "displayName": "HAYATO NODA",
      "photoUrl": "",
      "userId": "12974659274873789805"
     },
     "user_tz": -540
    },
    "id": "9q3KtNgUxOEO",
    "outputId": "55cccef7-386c-4c3a-e13d-e1a2f93d0cee"
   },
   "outputs": [
    {
     "data": {
      "text/plain": [
       "(25000, 500)"
      ]
     },
     "execution_count": 7,
     "metadata": {},
     "output_type": "execute_result"
    }
   ],
   "source": [
    "x_train.shape"
   ]
  },
  {
   "cell_type": "markdown",
   "metadata": {
    "id": "hX6_HsS73q0v"
   },
   "source": [
    "## Chap6.2\n",
    "以下の3つについて説明\\\n",
    "SimpleRNN\n",
    "LSTM\n",
    "GRU　"
   ]
  },
  {
   "cell_type": "markdown",
   "metadata": {
    "id": "QVU8bwCJz5l7"
   },
   "source": [
    "### 6.2.1 SimpleRNNの場合\n",
    "https://www.tensorflow.org/api_docs/python/tf/keras/layers/SimpleRNN\n",
    "\n",
    "※activationはtahnが標準設定"
   ]
  },
  {
   "cell_type": "code",
   "execution_count": 8,
   "metadata": {
    "colab": {
     "base_uri": "https://localhost:8080/"
    },
    "executionInfo": {
     "elapsed": 9034,
     "status": "ok",
     "timestamp": 1606031242104,
     "user": {
      "displayName": "HAYATO NODA",
      "photoUrl": "",
      "userId": "12974659274873789805"
     },
     "user_tz": -540
    },
    "id": "MUdLXL99wq04",
    "outputId": "6d5a50e1-75d9-463b-c059-04fc36f95862",
    "scrolled": true
   },
   "outputs": [
    {
     "name": "stdout",
     "output_type": "stream",
     "text": [
      "Model: \"functional_1\"\n",
      "_________________________________________________________________\n",
      "Layer (type)                 Output Shape              Param #   \n",
      "=================================================================\n",
      "input_1 (InputLayer)         [(None, 500)]             0         \n",
      "_________________________________________________________________\n",
      "embedding (Embedding)        (None, 500, 32)           320000    \n",
      "_________________________________________________________________\n",
      "simple_rnn (SimpleRNN)       (None, 32)                2080      \n",
      "_________________________________________________________________\n",
      "dense (Dense)                (None, 1)                 33        \n",
      "=================================================================\n",
      "Total params: 322,113\n",
      "Trainable params: 322,113\n",
      "Non-trainable params: 0\n",
      "_________________________________________________________________\n"
     ]
    }
   ],
   "source": [
    "class SimpleRNN_model():\n",
    "  def __init__(self, BATCH_SIZE, EPOCH):\n",
    "    self.epoch = EPOCH\n",
    "    self.batch_size = BATCH_SIZE\n",
    "    self.model = self._build_model()\n",
    "    self.model.summary()\n",
    "    self.model.compile(optimizer='rmsprop',loss='binary_crossentropy',metrics=['acc'])\n",
    "    \n",
    "  def _build_model(self):\n",
    "    input = tf.keras.Input(shape=(500,))\n",
    "    x = tf.keras.layers.Embedding(max_features,32)(input)\n",
    "    x = tf.keras.layers.SimpleRNN(32)(x)\n",
    "    y_pred = tf.keras.layers.Dense(1,activation='sigmoid')(x)\n",
    "\n",
    "    return Model(input, y_pred)\n",
    "  \n",
    "  def train(self, x, y):\n",
    "    history = self.model.fit(x , y ,epochs=self.epoch, batch_size=self.batch_size, validation_split=0.2)\n",
    "    return history\n",
    "\n",
    "model = SimpleRNN_model(BATCH_SIZE,EPOCH)"
   ]
  },
  {
   "cell_type": "code",
   "execution_count": 9,
   "metadata": {
    "colab": {
     "base_uri": "https://localhost:8080/"
    },
    "executionInfo": {
     "elapsed": 219445,
     "status": "ok",
     "timestamp": 1606031452523,
     "user": {
      "displayName": "HAYATO NODA",
      "photoUrl": "",
      "userId": "12974659274873789805"
     },
     "user_tz": -540
    },
    "id": "f5XANE_2yg1R",
    "outputId": "0d379102-5fba-4027-8f48-1961707147a8"
   },
   "outputs": [
    {
     "name": "stdout",
     "output_type": "stream",
     "text": [
      "Epoch 1/10\n",
      "157/157 [==============================] - 43s 273ms/step - loss: 0.6354 - acc: 0.6253 - val_loss: 0.5076 - val_acc: 0.7680\n",
      "Epoch 2/10\n",
      "157/157 [==============================] - 42s 265ms/step - loss: 0.3910 - acc: 0.8339 - val_loss: 0.4498 - val_acc: 0.7894\n",
      "Epoch 3/10\n",
      "157/157 [==============================] - 43s 273ms/step - loss: 0.2887 - acc: 0.8820 - val_loss: 0.4160 - val_acc: 0.8206\n",
      "Epoch 4/10\n",
      "157/157 [==============================] - 43s 272ms/step - loss: 0.2194 - acc: 0.9168 - val_loss: 0.3763 - val_acc: 0.8456\n",
      "Epoch 5/10\n",
      "157/157 [==============================] - 42s 266ms/step - loss: 0.1534 - acc: 0.9454 - val_loss: 0.4403 - val_acc: 0.8332\n",
      "Epoch 6/10\n",
      "157/157 [==============================] - 42s 268ms/step - loss: 0.1017 - acc: 0.9661 - val_loss: 0.4833 - val_acc: 0.8100\n",
      "Epoch 7/10\n",
      "157/157 [==============================] - 42s 266ms/step - loss: 0.0696 - acc: 0.9768 - val_loss: 0.6710 - val_acc: 0.7450\n",
      "Epoch 8/10\n",
      "157/157 [==============================] - 43s 273ms/step - loss: 0.0554 - acc: 0.9829 - val_loss: 0.5653 - val_acc: 0.8150\n",
      "Epoch 9/10\n",
      "157/157 [==============================] - 43s 274ms/step - loss: 0.0247 - acc: 0.9926 - val_loss: 0.6289 - val_acc: 0.8114\n",
      "Epoch 10/10\n",
      "157/157 [==============================] - 42s 269ms/step - loss: 0.0178 - acc: 0.9951 - val_loss: 0.6865 - val_acc: 0.8150\n"
     ]
    }
   ],
   "source": [
    "history1 = model.train(x_train,y_train)"
   ]
  },
  {
   "cell_type": "markdown",
   "metadata": {
    "id": "g10jXo4Sm8jW"
   },
   "source": [
    "### 6.2.2 LSTMの場合\n",
    "https://www.tensorflow.org/api_docs/python/tf/keras/layers/LSTM\n",
    "\n",
    "※Activation層はtahnが標準設定されていることに注意\n",
    "※recurrent_activationは、'sigmoid'で標準設定"
   ]
  },
  {
   "cell_type": "code",
   "execution_count": 10,
   "metadata": {
    "colab": {
     "base_uri": "https://localhost:8080/"
    },
    "executionInfo": {
     "elapsed": 219437,
     "status": "ok",
     "timestamp": 1606031452525,
     "user": {
      "displayName": "HAYATO NODA",
      "photoUrl": "",
      "userId": "12974659274873789805"
     },
     "user_tz": -540
    },
    "id": "48B7l9SOnOW-",
    "outputId": "4092bb10-e24e-4251-ca43-5aed99699b8b"
   },
   "outputs": [
    {
     "name": "stdout",
     "output_type": "stream",
     "text": [
      "Model: \"functional_3\"\n",
      "_________________________________________________________________\n",
      "Layer (type)                 Output Shape              Param #   \n",
      "=================================================================\n",
      "input_2 (InputLayer)         [(None, 500)]             0         \n",
      "_________________________________________________________________\n",
      "embedding_1 (Embedding)      (None, 500, 32)           320000    \n",
      "_________________________________________________________________\n",
      "lstm (LSTM)                  (None, 32)                8320      \n",
      "_________________________________________________________________\n",
      "dense_1 (Dense)              (None, 1)                 33        \n",
      "=================================================================\n",
      "Total params: 328,353\n",
      "Trainable params: 328,353\n",
      "Non-trainable params: 0\n",
      "_________________________________________________________________\n"
     ]
    }
   ],
   "source": [
    "class LSTM_model():\n",
    "  def __init__(self, BATCH_SIZE, EPOCH):\n",
    "    self.epoch = EPOCH\n",
    "    self.batch_size = BATCH_SIZE\n",
    "    self.model = self._build_model()\n",
    "    self.model.summary()\n",
    "    self.model.compile(optimizer='rmsprop', loss='binary_crossentropy',metrics=['acc'])\n",
    "  \n",
    "  def _build_model(self):\n",
    "    input = tf.keras.Input(shape=(500,))\n",
    "    x = layers.Embedding(max_features,32)(input)\n",
    "    x = layers.LSTM(32)(x)\n",
    "    y_pred = layers.Dense(1,activation='sigmoid')(x)\n",
    "    return Model(input, y_pred)\n",
    "  \n",
    "  def train(self, x, y):\n",
    "    history = self.model.fit(x , y ,epochs=self.epoch, batch_size=self.batch_size, validation_split=0.2)\n",
    "    \n",
    "    return history\n",
    "\n",
    "model2 = LSTM_model(BATCH_SIZE,EPOCH)"
   ]
  },
  {
   "cell_type": "code",
   "execution_count": 11,
   "metadata": {
    "colab": {
     "base_uri": "https://localhost:8080/"
    },
    "executionInfo": {
     "elapsed": 738521,
     "status": "ok",
     "timestamp": 1606031971622,
     "user": {
      "displayName": "HAYATO NODA",
      "photoUrl": "",
      "userId": "12974659274873789805"
     },
     "user_tz": -540
    },
    "id": "KgssuYQ21NEQ",
    "outputId": "4c4386f7-c09d-4e74-9271-e1d7679209f8"
   },
   "outputs": [
    {
     "name": "stdout",
     "output_type": "stream",
     "text": [
      "Epoch 1/10\n",
      "157/157 [==============================] - 7s 46ms/step - loss: 0.5255 - acc: 0.7487 - val_loss: 0.3607 - val_acc: 0.8668\n",
      "Epoch 2/10\n",
      "157/157 [==============================] - 7s 43ms/step - loss: 0.3092 - acc: 0.8792 - val_loss: 0.3102 - val_acc: 0.8696\n",
      "Epoch 3/10\n",
      "157/157 [==============================] - 7s 43ms/step - loss: 0.2408 - acc: 0.9103 - val_loss: 0.2912 - val_acc: 0.8764\n",
      "Epoch 4/10\n",
      "157/157 [==============================] - 7s 44ms/step - loss: 0.2028 - acc: 0.9237 - val_loss: 0.2823 - val_acc: 0.8862\n",
      "Epoch 5/10\n",
      "157/157 [==============================] - 7s 44ms/step - loss: 0.1779 - acc: 0.9341 - val_loss: 0.3335 - val_acc: 0.8846\n",
      "Epoch 6/10\n",
      "157/157 [==============================] - 7s 44ms/step - loss: 0.1600 - acc: 0.9431 - val_loss: 0.3001 - val_acc: 0.8784\n",
      "Epoch 7/10\n",
      "157/157 [==============================] - 7s 44ms/step - loss: 0.1417 - acc: 0.9485 - val_loss: 0.6407 - val_acc: 0.8054\n",
      "Epoch 8/10\n",
      "157/157 [==============================] - 7s 43ms/step - loss: 0.1324 - acc: 0.9523 - val_loss: 0.3275 - val_acc: 0.8712\n",
      "Epoch 9/10\n",
      "157/157 [==============================] - 7s 43ms/step - loss: 0.1230 - acc: 0.9572 - val_loss: 0.3608 - val_acc: 0.8858\n",
      "Epoch 10/10\n",
      "157/157 [==============================] - 7s 43ms/step - loss: 0.1148 - acc: 0.9616 - val_loss: 0.3678 - val_acc: 0.8732\n"
     ]
    }
   ],
   "source": [
    "history2 = model2.train(x_train,y_train)"
   ]
  },
  {
   "cell_type": "markdown",
   "metadata": {
    "id": "DzKDZ5yCqeZR"
   },
   "source": [
    "###6.2.3 GRUの場合\n",
    "https://www.tensorflow.org/api_docs/python/tf/keras/layers/GRU\n",
    "\n",
    "※Activation層はtahnが標準設定されていることに注意\\\n",
    "※recurrent_activationは、'sigmoid'で標準設定"
   ]
  },
  {
   "cell_type": "code",
   "execution_count": 12,
   "metadata": {
    "colab": {
     "base_uri": "https://localhost:8080/"
    },
    "executionInfo": {
     "elapsed": 738814,
     "status": "ok",
     "timestamp": 1606031971925,
     "user": {
      "displayName": "HAYATO NODA",
      "photoUrl": "",
      "userId": "12974659274873789805"
     },
     "user_tz": -540
    },
    "id": "7sTdQ3sx19Lm",
    "outputId": "6756f875-ccfc-4027-80ae-94bdab340edf"
   },
   "outputs": [
    {
     "name": "stdout",
     "output_type": "stream",
     "text": [
      "Model: \"functional_5\"\n",
      "_________________________________________________________________\n",
      "Layer (type)                 Output Shape              Param #   \n",
      "=================================================================\n",
      "input_3 (InputLayer)         [(None, 500)]             0         \n",
      "_________________________________________________________________\n",
      "embedding_2 (Embedding)      (None, 500, 32)           320000    \n",
      "_________________________________________________________________\n",
      "gru (GRU)                    (None, 32)                6336      \n",
      "_________________________________________________________________\n",
      "dense_2 (Dense)              (None, 1)                 33        \n",
      "=================================================================\n",
      "Total params: 326,369\n",
      "Trainable params: 326,369\n",
      "Non-trainable params: 0\n",
      "_________________________________________________________________\n"
     ]
    }
   ],
   "source": [
    "class GRU_model():\n",
    "  def __init__(self, BATCH_SIZE, EPOCH):\n",
    "    self.epoch = EPOCH\n",
    "    self.batch_size = BATCH_SIZE\n",
    "    self.model = self._build_model()\n",
    "    self.model.summary()\n",
    "    self.model.compile(optimizer='rmsprop',loss='binary_crossentropy',metrics=['acc'])\n",
    "    \n",
    "  def _build_model(self):\n",
    "    input = tf.keras.Input(shape=(500,))\n",
    "    x = layers.Embedding(max_features,32)(input)\n",
    "    x = layers.GRU(32)(x)\n",
    "    y_pred = layers.Dense(1,activation='sigmoid')(x)\n",
    "\n",
    "    return Model(input, y_pred)\n",
    "  \n",
    "  def train(self, x, y):\n",
    "    history = self.model.fit(x , y ,epochs=self.epoch, batch_size=self.batch_size, validation_split=0.2)\n",
    "    return history\n",
    "\n",
    "model3 = GRU_model(BATCH_SIZE,EPOCH)"
   ]
  },
  {
   "cell_type": "code",
   "execution_count": 13,
   "metadata": {
    "colab": {
     "base_uri": "https://localhost:8080/"
    },
    "executionInfo": {
     "elapsed": 1208526,
     "status": "ok",
     "timestamp": 1606032441642,
     "user": {
      "displayName": "HAYATO NODA",
      "photoUrl": "",
      "userId": "12974659274873789805"
     },
     "user_tz": -540
    },
    "id": "N4E6SnXM5sIB",
    "outputId": "69baa9fd-9a37-4fec-9962-2daa1f984d1f"
   },
   "outputs": [
    {
     "name": "stdout",
     "output_type": "stream",
     "text": [
      "Epoch 1/10\n",
      "157/157 [==============================] - 7s 46ms/step - loss: 0.5622 - acc: 0.7053 - val_loss: 0.3989 - val_acc: 0.8224\n",
      "Epoch 2/10\n",
      "157/157 [==============================] - 7s 43ms/step - loss: 0.3329 - acc: 0.8625 - val_loss: 0.3281 - val_acc: 0.8682\n",
      "Epoch 3/10\n",
      "157/157 [==============================] - 7s 43ms/step - loss: 0.2607 - acc: 0.8964 - val_loss: 0.3438 - val_acc: 0.8570\n",
      "Epoch 4/10\n",
      "157/157 [==============================] - 7s 43ms/step - loss: 0.2190 - acc: 0.9168 - val_loss: 0.3759 - val_acc: 0.8556\n",
      "Epoch 5/10\n",
      "157/157 [==============================] - 7s 43ms/step - loss: 0.1911 - acc: 0.9280 - val_loss: 0.6309 - val_acc: 0.7890\n",
      "Epoch 6/10\n",
      "157/157 [==============================] - 7s 43ms/step - loss: 0.1708 - acc: 0.9374 - val_loss: 0.3223 - val_acc: 0.8860\n",
      "Epoch 7/10\n",
      "157/157 [==============================] - 7s 44ms/step - loss: 0.1584 - acc: 0.9416 - val_loss: 0.3212 - val_acc: 0.8824\n",
      "Epoch 8/10\n",
      "157/157 [==============================] - 7s 43ms/step - loss: 0.1387 - acc: 0.9491 - val_loss: 0.3706 - val_acc: 0.8526\n",
      "Epoch 9/10\n",
      "157/157 [==============================] - 7s 42ms/step - loss: 0.1312 - acc: 0.9541 - val_loss: 0.5578 - val_acc: 0.8326\n",
      "Epoch 10/10\n",
      "157/157 [==============================] - 7s 42ms/step - loss: 0.1189 - acc: 0.9579 - val_loss: 0.3461 - val_acc: 0.8860\n"
     ]
    }
   ],
   "source": [
    "history3 = model3.train(x_train,y_train)"
   ]
  },
  {
   "cell_type": "markdown",
   "metadata": {
    "id": "N3tDYXzEl7_U"
   },
   "source": [
    "###6.2.4 Bidirectional_model\n",
    "Chap6.3で説明\\\n",
    "https://www.tensorflow.org/api_docs/python/tf/keras/layers/Bidirectional\n",
    "引数がLayerになっていることに留意\n"
   ]
  },
  {
   "cell_type": "code",
   "execution_count": 14,
   "metadata": {
    "colab": {
     "base_uri": "https://localhost:8080/"
    },
    "executionInfo": {
     "elapsed": 1208812,
     "status": "ok",
     "timestamp": 1606032441937,
     "user": {
      "displayName": "HAYATO NODA",
      "photoUrl": "",
      "userId": "12974659274873789805"
     },
     "user_tz": -540
    },
    "id": "KOKWvWeHdVmk",
    "outputId": "d55e7b98-23b1-4cc8-f011-3d0d4a0b8cc9"
   },
   "outputs": [
    {
     "name": "stdout",
     "output_type": "stream",
     "text": [
      "Model: \"functional_7\"\n",
      "_________________________________________________________________\n",
      "Layer (type)                 Output Shape              Param #   \n",
      "=================================================================\n",
      "input_4 (InputLayer)         [(None, 500)]             0         \n",
      "_________________________________________________________________\n",
      "embedding_3 (Embedding)      (None, 500, 32)           320000    \n",
      "_________________________________________________________________\n",
      "bidirectional (Bidirectional (None, 64)                16640     \n",
      "_________________________________________________________________\n",
      "dense_3 (Dense)              (None, 1)                 65        \n",
      "=================================================================\n",
      "Total params: 336,705\n",
      "Trainable params: 336,705\n",
      "Non-trainable params: 0\n",
      "_________________________________________________________________\n"
     ]
    }
   ],
   "source": [
    "class Bidirectional_model():\n",
    "  def __init__(self, BATCH_SIZE, EPOCH):\n",
    "    self.epoch = EPOCH\n",
    "    self.batch_size = BATCH_SIZE\n",
    "    self.model = self._build_model()\n",
    "    self.model.summary()\n",
    "    self.model.compile(optimizer='rmsprop',loss='binary_crossentropy',metrics=['acc'])\n",
    "    \n",
    "  def _build_model(self):\n",
    "    input = tf.keras.Input(shape=(500,))\n",
    "    x = layers.Embedding(max_features,32)(input)\n",
    "    #引数にはLayerをいれる\n",
    "    x = layers.Bidirectional(layers.LSTM(32))(x)\n",
    "    y_pred = layers.Dense(1,activation='sigmoid')(x)\n",
    "\n",
    "    return Model(input, y_pred)\n",
    "  \n",
    "  def train(self, x, y):\n",
    "    history = self.model.fit(x , y ,epochs=self.epoch, batch_size=self.batch_size, validation_split=0.2)\n",
    "    return history\n",
    "\n",
    "model4 = Bidirectional_model(BATCH_SIZE,EPOCH)"
   ]
  },
  {
   "cell_type": "code",
   "execution_count": 15,
   "metadata": {
    "colab": {
     "base_uri": "https://localhost:8080/"
    },
    "executionInfo": {
     "elapsed": 2137191,
     "status": "ok",
     "timestamp": 1606033370319,
     "user": {
      "displayName": "HAYATO NODA",
      "photoUrl": "",
      "userId": "12974659274873789805"
     },
     "user_tz": -540
    },
    "id": "HGAI25hG5uXI",
    "outputId": "4c436b0f-8f1b-42a0-c455-1a721f334711"
   },
   "outputs": [
    {
     "name": "stdout",
     "output_type": "stream",
     "text": [
      "Epoch 1/10\n",
      "157/157 [==============================] - 12s 77ms/step - loss: 0.5671 - acc: 0.7246 - val_loss: 0.4595 - val_acc: 0.7922\n",
      "Epoch 2/10\n",
      "157/157 [==============================] - 11s 73ms/step - loss: 0.3207 - acc: 0.8747 - val_loss: 0.3564 - val_acc: 0.8412\n",
      "Epoch 3/10\n",
      "157/157 [==============================] - 12s 74ms/step - loss: 0.2450 - acc: 0.9051 - val_loss: 0.3353 - val_acc: 0.8602\n",
      "Epoch 4/10\n",
      "157/157 [==============================] - 12s 74ms/step - loss: 0.2061 - acc: 0.9247 - val_loss: 0.3433 - val_acc: 0.8810\n",
      "Epoch 5/10\n",
      "157/157 [==============================] - 12s 75ms/step - loss: 0.1807 - acc: 0.9362 - val_loss: 0.3626 - val_acc: 0.8696\n",
      "Epoch 6/10\n",
      "157/157 [==============================] - 12s 76ms/step - loss: 0.1560 - acc: 0.9427 - val_loss: 0.3296 - val_acc: 0.8838\n",
      "Epoch 7/10\n",
      "157/157 [==============================] - 12s 76ms/step - loss: 0.1473 - acc: 0.9496 - val_loss: 0.3394 - val_acc: 0.8836\n",
      "Epoch 8/10\n",
      "157/157 [==============================] - 12s 75ms/step - loss: 0.1281 - acc: 0.9563 - val_loss: 0.6471 - val_acc: 0.8232\n",
      "Epoch 9/10\n",
      "157/157 [==============================] - 12s 76ms/step - loss: 0.1190 - acc: 0.9592 - val_loss: 0.3622 - val_acc: 0.8648\n",
      "Epoch 10/10\n",
      "157/157 [==============================] - 12s 75ms/step - loss: 0.1102 - acc: 0.9618 - val_loss: 0.4318 - val_acc: 0.8626\n"
     ]
    }
   ],
   "source": [
    "history4 = model4.train(x_train,y_train)"
   ]
  },
  {
   "cell_type": "markdown",
   "metadata": {
    "id": "ovq1XsAoJjaL"
   },
   "source": [
    "## Chap6.4"
   ]
  },
  {
   "cell_type": "markdown",
   "metadata": {
    "id": "sD_3bZDVJoPe"
   },
   "source": [
    "### 6.4.1 Conv1Dのみの単純なModel"
   ]
  },
  {
   "cell_type": "code",
   "execution_count": 16,
   "metadata": {
    "colab": {
     "base_uri": "https://localhost:8080/"
    },
    "executionInfo": {
     "elapsed": 674,
     "status": "ok",
     "timestamp": 1606035096963,
     "user": {
      "displayName": "HAYATO NODA",
      "photoUrl": "",
      "userId": "12974659274873789805"
     },
     "user_tz": -540
    },
    "id": "YjXCGPSVKXwu",
    "outputId": "c1037e05-e73f-4186-8216-9203ac6f58be"
   },
   "outputs": [
    {
     "name": "stdout",
     "output_type": "stream",
     "text": [
      "Model: \"functional_9\"\n",
      "_________________________________________________________________\n",
      "Layer (type)                 Output Shape              Param #   \n",
      "=================================================================\n",
      "input_5 (InputLayer)         [(None, 500)]             0         \n",
      "_________________________________________________________________\n",
      "embedding_4 (Embedding)      (None, 500, 32)           320000    \n",
      "_________________________________________________________________\n",
      "conv1d (Conv1D)              (None, 500, 32)           7200      \n",
      "_________________________________________________________________\n",
      "max_pooling1d (MaxPooling1D) (None, 100, 32)           0         \n",
      "_________________________________________________________________\n",
      "conv1d_1 (Conv1D)            (None, 100, 32)           7200      \n",
      "_________________________________________________________________\n",
      "global_max_pooling1d (Global (None, 32)                0         \n",
      "_________________________________________________________________\n",
      "dense_4 (Dense)              (None, 1)                 33        \n",
      "=================================================================\n",
      "Total params: 334,433\n",
      "Trainable params: 334,433\n",
      "Non-trainable params: 0\n",
      "_________________________________________________________________\n"
     ]
    }
   ],
   "source": [
    "class SimpleConv1d_model():\n",
    "  def __init__(self, BATCH_SIZE, EPOCH):\n",
    "    self.epoch = EPOCH\n",
    "    self.batch_size = BATCH_SIZE\n",
    "    self.model = self._build_model()\n",
    "    self.model.summary()\n",
    "    self.model.compile(optimizer='rmsprop',loss='binary_crossentropy',metrics=['acc'])\n",
    "    \n",
    "  def _build_model(self):\n",
    "    input = tf.keras.Input(shape=(500,))\n",
    "    x = layers.Embedding(max_features,32)(input)\n",
    "    x = layers.Conv1D(32,7,activation='relu',padding='same')(x)\n",
    "    x = layers.MaxPooling1D(5)(x)\n",
    "    x = layers.Conv1D(32,7,activation='relu',padding='same')(x)\n",
    "    x = layers.GlobalMaxPooling1D()(x)\n",
    "    y_pred = layers.Dense(1,activation='sigmoid')(x)\n",
    "\n",
    "    return Model(input, y_pred)\n",
    "  \n",
    "  def train(self, x, y):\n",
    "    history = self.model.fit(x , y ,epochs=self.epoch, batch_size=self.batch_size, validation_split=0.2)\n",
    "    return history\n",
    "\n",
    "model5 = SimpleConv1d_model(BATCH_SIZE,EPOCH)"
   ]
  },
  {
   "cell_type": "code",
   "execution_count": 17,
   "metadata": {
    "colab": {
     "base_uri": "https://localhost:8080/"
    },
    "executionInfo": {
     "elapsed": 239074,
     "status": "ok",
     "timestamp": 1606035341304,
     "user": {
      "displayName": "HAYATO NODA",
      "photoUrl": "",
      "userId": "12974659274873789805"
     },
     "user_tz": -540
    },
    "id": "MDKiVDyyK6xf",
    "outputId": "979d356d-fd59-48e1-b445-c34f65157f85"
   },
   "outputs": [
    {
     "name": "stdout",
     "output_type": "stream",
     "text": [
      "Epoch 1/10\n",
      "157/157 [==============================] - 2s 16ms/step - loss: 0.5346 - acc: 0.7253 - val_loss: 0.3527 - val_acc: 0.8466\n",
      "Epoch 2/10\n",
      "157/157 [==============================] - 2s 14ms/step - loss: 0.2782 - acc: 0.8861 - val_loss: 0.3144 - val_acc: 0.8658\n",
      "Epoch 3/10\n",
      "157/157 [==============================] - 2s 14ms/step - loss: 0.2092 - acc: 0.9188 - val_loss: 0.3179 - val_acc: 0.8714\n",
      "Epoch 4/10\n",
      "157/157 [==============================] - 2s 14ms/step - loss: 0.1672 - acc: 0.9370 - val_loss: 0.3346 - val_acc: 0.8692\n",
      "Epoch 5/10\n",
      "157/157 [==============================] - 2s 14ms/step - loss: 0.1373 - acc: 0.9507 - val_loss: 0.3109 - val_acc: 0.8836\n",
      "Epoch 6/10\n",
      "157/157 [==============================] - 2s 14ms/step - loss: 0.1126 - acc: 0.9617 - val_loss: 0.3686 - val_acc: 0.8738\n",
      "Epoch 7/10\n",
      "157/157 [==============================] - 2s 14ms/step - loss: 0.0891 - acc: 0.9714 - val_loss: 0.3996 - val_acc: 0.8672\n",
      "Epoch 8/10\n",
      "157/157 [==============================] - 2s 14ms/step - loss: 0.0723 - acc: 0.9776 - val_loss: 0.3956 - val_acc: 0.8754\n",
      "Epoch 9/10\n",
      "157/157 [==============================] - 2s 14ms/step - loss: 0.0541 - acc: 0.9838 - val_loss: 0.4288 - val_acc: 0.8742\n",
      "Epoch 10/10\n",
      "157/157 [==============================] - 2s 14ms/step - loss: 0.0409 - acc: 0.9883 - val_loss: 0.4837 - val_acc: 0.8720\n"
     ]
    }
   ],
   "source": [
    "history5 = model5.train(x_train,y_train)"
   ]
  },
  {
   "cell_type": "markdown",
   "metadata": {
    "id": "ZIcJKGE2J3zg"
   },
   "source": [
    "### 6.4.2 CNNとRNNを組み合わせた長いModel"
   ]
  },
  {
   "cell_type": "code",
   "execution_count": 18,
   "metadata": {
    "colab": {
     "base_uri": "https://localhost:8080/"
    },
    "executionInfo": {
     "elapsed": 714,
     "status": "ok",
     "timestamp": 1606036914967,
     "user": {
      "displayName": "HAYATO NODA",
      "photoUrl": "",
      "userId": "12974659274873789805"
     },
     "user_tz": -540
    },
    "id": "rSlVOGAhLITT",
    "outputId": "3b9611aa-9919-42f3-ab72-64ca20bd0b39"
   },
   "outputs": [
    {
     "name": "stdout",
     "output_type": "stream",
     "text": [
      "Model: \"functional_11\"\n",
      "_________________________________________________________________\n",
      "Layer (type)                 Output Shape              Param #   \n",
      "=================================================================\n",
      "input_6 (InputLayer)         [(None, 500)]             0         \n",
      "_________________________________________________________________\n",
      "embedding_5 (Embedding)      (None, 500, 32)           320000    \n",
      "_________________________________________________________________\n",
      "conv1d_2 (Conv1D)            (None, 500, 32)           5152      \n",
      "_________________________________________________________________\n",
      "max_pooling1d_1 (MaxPooling1 (None, 100, 32)           0         \n",
      "_________________________________________________________________\n",
      "conv1d_3 (Conv1D)            (None, 100, 32)           5152      \n",
      "_________________________________________________________________\n",
      "gru_1 (GRU)                  (None, 32)                6336      \n",
      "_________________________________________________________________\n",
      "dense_5 (Dense)              (None, 1)                 33        \n",
      "=================================================================\n",
      "Total params: 336,673\n",
      "Trainable params: 336,673\n",
      "Non-trainable params: 0\n",
      "_________________________________________________________________\n"
     ]
    }
   ],
   "source": [
    "class Conv1d_model2():\n",
    "  def __init__(self, BATCH_SIZE, EPOCH):\n",
    "    self.epoch = EPOCH\n",
    "    self.batch_size = BATCH_SIZE\n",
    "    self.model = self._build_model()\n",
    "    self.model.summary()\n",
    "    self.model.compile(optimizer='rmsprop',loss='binary_crossentropy',metrics=['acc'])\n",
    "    \n",
    "  def _build_model(self):\n",
    "    input = tf.keras.Input(shape=(500,))\n",
    "    x = layers.Embedding(max_features,32)(input)\n",
    "    x = layers.Conv1D(32,5, activation='relu', padding='same')(x)\n",
    "    x = layers.MaxPooling1D(5)(x)\n",
    "    x = layers.Conv1D(32,5,activation='relu',padding='same')(x)\n",
    "    x = layers.GRU(32,dropout=0.1,recurrent_dropout=0.5)(x)\n",
    "    y_pred = layers.Dense(1,activation='sigmoid')(x)\n",
    "\n",
    "    return Model(input, y_pred)\n",
    "  \n",
    "  def train(self, x, y):\n",
    "    history = self.model.fit(x , y ,epochs=self.epoch, batch_size=self.batch_size, validation_split=0.2)\n",
    "    return history\n",
    "\n",
    "model6 = Conv1d_model2(BATCH_SIZE,EPOCH)"
   ]
  },
  {
   "cell_type": "code",
   "execution_count": null,
   "metadata": {
    "colab": {
     "base_uri": "https://localhost:8080/"
    },
    "executionInfo": {
     "elapsed": 370884,
     "status": "ok",
     "timestamp": 1606037286694,
     "user": {
      "displayName": "HAYATO NODA",
      "photoUrl": "",
      "userId": "12974659274873789805"
     },
     "user_tz": -540
    },
    "id": "5MBy--knLQig",
    "outputId": "9254df67-a193-4bab-ac77-75627141b30a"
   },
   "outputs": [
    {
     "name": "stdout",
     "output_type": "stream",
     "text": [
      "Epoch 1/10\n",
      " 80/157 [==============>...............] - ETA: 23s - loss: 0.6248 - acc: 0.6321"
     ]
    }
   ],
   "source": [
    "history6 = model6.train(x_train,y_train)"
   ]
  },
  {
   "cell_type": "code",
   "execution_count": null,
   "metadata": {
    "executionInfo": {
     "elapsed": 368552,
     "status": "ok",
     "timestamp": 1606037286696,
     "user": {
      "displayName": "HAYATO NODA",
      "photoUrl": "",
      "userId": "12974659274873789805"
     },
     "user_tz": -540
    },
    "id": "SvfEH0ii6CiY"
   },
   "outputs": [],
   "source": [
    "def make_graph(history_list):\n",
    "  name_list = ['RNN', 'LSTM', 'GRU', 'Conv1', 'Conv+RNN']\n",
    "  fig = plt.figure(figsize=(16,8))\n",
    "\n",
    "  plt.subplots_adjust(wspace=0.2, hspace=0.4)\n",
    "\n",
    "  for i in range(len(name_list)):\n",
    "    ax = fig.add_subplot(2,3,i+1)\n",
    "    loss = history_list[i].history['loss']\n",
    "    val_loss = history_list[i].history['val_loss']\n",
    "    epochs = range(1,len(loss)+1)\n",
    "    ax.plot(epochs, loss, linewidth=1,linestyle='--',label='training_loss')\n",
    "    ax.plot(epochs, val_loss, linewidth=1, label='validation_loss')\n",
    "    ax.grid(True)\n",
    "\n",
    "    ax.set_title(name_list[i],fontsize=20)\n",
    "    ax.set_xlabel('Epochs',fontsize=15)\n",
    "    ax.set_ylabel('Loss',fontsize=15)\n",
    "    ax.legend(handlelength=3,loc='upper right')\n",
    "  \n",
    "  plt.show()"
   ]
  },
  {
   "cell_type": "code",
   "execution_count": null,
   "metadata": {
    "colab": {
     "base_uri": "https://localhost:8080/",
     "height": 412
    },
    "executionInfo": {
     "elapsed": 369059,
     "status": "ok",
     "timestamp": 1606037287500,
     "user": {
      "displayName": "HAYATO NODA",
      "photoUrl": "",
      "userId": "12974659274873789805"
     },
     "user_tz": -540
    },
    "id": "IrxN_W8n6rZ-",
    "outputId": "425e55b6-63a9-4e62-b050-ebf1bfb5c077"
   },
   "outputs": [],
   "source": [
    "history_list = [history1,history2,history3,history5,history6]\n",
    "make_graph(history_list)"
   ]
  }
 ],
 "metadata": {
  "colab": {
   "authorship_tag": "ABX9TyOwggTmvsd+l6NtYF5CYrtd",
   "collapsed_sections": [],
   "name": "Chap6.2&6.4.ipynb",
   "provenance": [],
   "toc_visible": true
  },
  "kernelspec": {
   "display_name": "Python 3",
   "language": "python",
   "name": "python3"
  },
  "language_info": {
   "codemirror_mode": {
    "name": "ipython",
    "version": 3
   },
   "file_extension": ".py",
   "mimetype": "text/x-python",
   "name": "python",
   "nbconvert_exporter": "python",
   "pygments_lexer": "ipython3",
   "version": "3.7.6"
  },
  "varInspector": {
   "cols": {
    "lenName": 16,
    "lenType": 16,
    "lenVar": 40
   },
   "kernels_config": {
    "python": {
     "delete_cmd_postfix": "",
     "delete_cmd_prefix": "del ",
     "library": "var_list.py",
     "varRefreshCmd": "print(var_dic_list())"
    },
    "r": {
     "delete_cmd_postfix": ") ",
     "delete_cmd_prefix": "rm(",
     "library": "var_list.r",
     "varRefreshCmd": "cat(var_dic_list()) "
    }
   },
   "types_to_exclude": [
    "module",
    "function",
    "builtin_function_or_method",
    "instance",
    "_Feature"
   ],
   "window_display": false
  }
 },
 "nbformat": 4,
 "nbformat_minor": 1
}
