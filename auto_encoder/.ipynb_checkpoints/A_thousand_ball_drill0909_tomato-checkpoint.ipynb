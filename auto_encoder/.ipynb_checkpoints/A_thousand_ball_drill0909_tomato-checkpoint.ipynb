{
 "cells": [
  {
   "cell_type": "code",
   "execution_count": 1,
   "metadata": {},
   "outputs": [],
   "source": [
    "# Tensorflow 2.3でメモリを指定及び節約して使うためのおまじない。\n",
    "import tensorflow as tf\n",
    "import random\n",
    "import numpy as np\n",
    "\n",
    "physical_devices = tf.config.experimental.list_physical_devices('GPU')\n",
    "tf.config.set_visible_devices(physical_devices[4], 'GPU')\n",
    "tf.config.experimental.set_memory_growth(physical_devices[4], True)\n",
    "\n",
    "# random値を固定\n",
    "np.random.seed(219)\n",
    "random.seed(219)\n",
    "tf.random.set_seed(219)\n"
   ]
  },
  {
   "cell_type": "code",
   "execution_count": 2,
   "metadata": {
    "colab": {},
    "colab_type": "code",
    "id": "fztUVl6-JrQZ"
   },
   "outputs": [],
   "source": [
    "import numpy as np\n",
    "import matplotlib.pyplot as plt\n",
    "%matplotlib inline"
   ]
  },
  {
   "cell_type": "markdown",
   "metadata": {
    "colab_type": "text",
    "id": "EFM-fCjb1BeX"
   },
   "source": [
    "以下ではlayerが\n",
    "```python\n",
    "from keras.layers import  Conv2D\n",
    "```\n",
    "ではなく\n",
    "```python\n",
    "from tensorflow.keras.layers import Conv2D\n",
    "```\n",
    "のようにimportされていますが気にしないでください。どちらか一方のやり方で統一されている限りは問題ありません。"
   ]
  },
  {
   "cell_type": "markdown",
   "metadata": {
    "colab_type": "text",
    "id": "GdqvljZ3KB_J"
   },
   "source": [
    "# <center>ディープラーニング入門</center>\n",
    "# <center>Convolutionと自己符号化器</center>\n",
    "\n"
   ]
  },
  {
   "cell_type": "markdown",
   "metadata": {
    "colab_type": "text",
    "id": "tF4WBMWTKSV1"
   },
   "source": [
    "## 1. Convolution\n",
    "\n",
    "<b>畳み込み（convolution）</b>は、画像（特徴マップ）の空間サイズを縮小させるような演算です。縮小を防ぐためには<b>パディング</b>を使いますが、今はパディングは使わないことにしましょう（validパディング）。また、CNNに含まれる<b>プーリング</b>もまた、画像サイズを縮小させます。"
   ]
  },
  {
   "cell_type": "code",
   "execution_count": 3,
   "metadata": {
    "colab": {
     "base_uri": "https://localhost:8080/",
     "height": 51
    },
    "colab_type": "code",
    "id": "yd7LTVhOL7H2",
    "outputId": "1a82df14-fa9f-48eb-c42f-aded203b692b"
   },
   "outputs": [],
   "source": [
    "from keras.datasets import mnist\n",
    "from sklearn.model_selection import train_test_split\n",
    "\n",
    "(x_train, _), (_, _) = mnist.load_data()\n",
    "\n",
    "x_train = x_train.reshape(x_train.shape[0], 28, 28, 1)\n",
    "x_train = x_train.astype(\"float32\") / 255.\n",
    "\n",
    "x_train, x_val = train_test_split(x_train, test_size=0.1, random_state=42)"
   ]
  },
  {
   "cell_type": "markdown",
   "metadata": {
    "colab_type": "text",
    "id": "TVr4f82OoJaa"
   },
   "source": [
    "MNIST画像が畳み込みやプーリングでどう変わるかを可視化することから始めましょう。\n",
    "\n",
    "そのために、畳み込み層だけからなるモデルと、プーリング層だけからなるモデルをfunctional APIで作って見ます："
   ]
  },
  {
   "cell_type": "code",
   "execution_count": 4,
   "metadata": {
    "colab": {},
    "colab_type": "code",
    "id": "2NH0saD0LoG1"
   },
   "outputs": [],
   "source": [
    "from tensorflow.keras.layers import  Input, Conv2D, MaxPooling2D\n",
    "from tensorflow.keras import Model\n",
    "\n",
    "# Convだけするモデル\n",
    "input_conv = Input(shape=(28,28,1))\n",
    "x_conv = Conv2D(32, (3, 3))(input_conv)\n",
    "model_conv = Model(inputs=input_conv, outputs=x_conv)\n",
    "\n",
    "# Poolだけするモデル\n",
    "input_pool = Input(shape=(28,28,1))\n",
    "x_pool = MaxPooling2D((2, 2))(input_pool)\n",
    "model_pool = Model(inputs=input_pool, outputs=x_pool)"
   ]
  },
  {
   "cell_type": "markdown",
   "metadata": {
    "colab_type": "text",
    "id": "5wVsxHIrnzhV"
   },
   "source": [
    "訓練画像の一枚目を見て見ましょう："
   ]
  },
  {
   "cell_type": "code",
   "execution_count": 5,
   "metadata": {
    "colab": {
     "base_uri": "https://localhost:8080/",
     "height": 265
    },
    "colab_type": "code",
    "id": "uDUWNQHwPMv_",
    "outputId": "685c6d98-e01b-410f-e921-d6b9ffdbab1c"
   },
   "outputs": [
    {
     "data": {
      "image/png": "[encoded data removed]",
      "text/plain": [
       "<Figure size 432x288 with 1 Axes>"
      ]
     },
     "metadata": {
      "needs_background": "light"
     },
     "output_type": "display_data"
    }
   ],
   "source": [
    "plt.imshow(x_train[0,:,:,0], cmap='gray')\n",
    "plt.show()"
   ]
  },
  {
   "cell_type": "markdown",
   "metadata": {
    "colab_type": "text",
    "id": "FES44_xcn4qT"
   },
   "source": [
    "これが畳み込みやプーリングでどう変わるかを、先ほど作った一層モデルで変換して調べましょう："
   ]
  },
  {
   "cell_type": "code",
   "execution_count": 6,
   "metadata": {
    "colab": {},
    "colab_type": "code",
    "id": "tHDJ-TW6OQBd"
   },
   "outputs": [],
   "source": [
    "x_train_conv =  model_conv.predict(x_train[:2000])\n",
    "x_train_pool =  model_pool.predict(x_train[:2000])"
   ]
  },
  {
   "cell_type": "code",
   "execution_count": 7,
   "metadata": {
    "colab": {
     "base_uri": "https://localhost:8080/",
     "height": 513
    },
    "colab_type": "code",
    "id": "qpaLXMPcOkBy",
    "outputId": "e047f8d5-456d-4be9-f975-67d185fcc2dd"
   },
   "outputs": [
    {
     "data": {
      "image/png": "[encoded data removed]",
      "text/plain": [
       "<Figure size 432x288 with 1 Axes>"
      ]
     },
     "metadata": {
      "needs_background": "light"
     },
     "output_type": "display_data"
    },
    {
     "data": {
      "image/png": "[encoded data removed]",
      "text/plain": [
       "<Figure size 432x288 with 1 Axes>"
      ]
     },
     "metadata": {
      "needs_background": "light"
     },
     "output_type": "display_data"
    }
   ],
   "source": [
    "plt.imshow(x_train_conv[0,:,:,0], cmap='gray')\n",
    "plt.show()\n",
    "\n",
    "plt.imshow(x_train_pool[0,:,:,0], cmap='gray')\n",
    "plt.show()"
   ]
  },
  {
   "cell_type": "markdown",
   "metadata": {
    "colab_type": "text",
    "id": "d7r-feiDPP1R"
   },
   "source": [
    "もちろん画像サイズは縮み、画像がぼやけてしまいました。\n",
    "\n",
    "では、このように画質が（縦横それぞれに対して）半分に落ちてしまった画像を復元することはできるでしょうか？"
   ]
  },
  {
   "cell_type": "markdown",
   "metadata": {
    "colab_type": "text",
    "id": "DoaDlZD3Pa9z"
   },
   "source": [
    "## 2. Deconvolutionと超解像\n",
    "\n",
    "小さい画像を大きな画像に回復させるような演算を学習するにはどうすればいいでしょうか？畳み込みで画像が縮んだと考えれば、畳み込みの<b>「逆」</b>の演算が存在すればいいことになります。\n",
    "\n",
    "残念なことに、厳密には畳み込みの逆演算は数学的には存在しません（畳み込みは一般に情報を欠落させるので可逆ではありません。足し算2+3=5の結果から、元の数が2と3だとは断定できないのと同じです。1と4などの可能性もあるからです。）。しかしニューラルネットの汎化能力を活用して、「逆演算のようなもの」を学習によって獲得することはできます。\n",
    "\n",
    "### 2-1. Transposed Convolution\n",
    "\n",
    "学習可能な重みパラメータを持つ、「畳み込みの逆演算」に相当する層に<b>Transposed Convolution</b>というものがあります。この層を使うと、例えば$14\\times14$のサイズの画像を$28\\times28$のサイズに拡大する層を学習できます。\n",
    "\n",
    "これを使って、先ほどのプーリングされた縮小画像を元のサイズに復活させるモデルを学習させて見ましょう。"
   ]
  },
  {
   "cell_type": "code",
   "execution_count": 8,
   "metadata": {
    "colab": {
     "base_uri": "https://localhost:8080/",
     "height": 255
    },
    "colab_type": "code",
    "id": "jy16g-wnO5OG",
    "outputId": "a5d2ba73-ac84-4a94-e9d3-ee311f74282e"
   },
   "outputs": [
    {
     "name": "stdout",
     "output_type": "stream",
     "text": [
      "Model: \"functional_5\"\n",
      "_________________________________________________________________\n",
      "Layer (type)                 Output Shape              Param #   \n",
      "=================================================================\n",
      "input_3 (InputLayer)         [(None, 14, 14, 1)]       0         \n",
      "_________________________________________________________________\n",
      "conv2d_transpose (Conv2DTran (None, 28, 28, 32)        160       \n",
      "_________________________________________________________________\n",
      "conv2d_1 (Conv2D)            (None, 28, 28, 1)         289       \n",
      "=================================================================\n",
      "Total params: 449\n",
      "Trainable params: 449\n",
      "Non-trainable params: 0\n",
      "_________________________________________________________________\n"
     ]
    }
   ],
   "source": [
    "from tensorflow.keras.layers import  Conv2DTranspose\n",
    "\n",
    "input_tr = Input(shape=(14,14,1))\n",
    "x_tr = Conv2DTranspose(32, (2, 2), (2,2), activation='relu')(input_tr)\n",
    "x_tr = Conv2D(1, (3, 3), padding='same', activation='sigmoid')(x_tr)\n",
    "model_tr = Model(inputs=input_tr, outputs=x_tr)\n",
    "\n",
    "model_tr.summary()"
   ]
  },
  {
   "cell_type": "markdown",
   "metadata": {
    "colab_type": "text",
    "id": "lgiKTuYJftPV"
   },
   "source": [
    "このモデルの出力層はサイズが$28\\times28$で、活性化関数はシグモイドです（各ピクセルの画素値は0~1の値をとるからです）。mse誤差関数で学習させて見ましょう。"
   ]
  },
  {
   "cell_type": "code",
   "execution_count": 9,
   "metadata": {
    "colab": {
     "base_uri": "https://localhost:8080/",
     "height": 1000
    },
    "colab_type": "code",
    "id": "PisFujvkSk6K",
    "outputId": "3589a30e-9541-40ef-b9e7-56b2c66030f0"
   },
   "outputs": [
    {
     "name": "stdout",
     "output_type": "stream",
     "text": [
      "Epoch 1/32\n",
      "63/63 [==============================] - 7s 110ms/step - loss: 0.1969\n",
      "Epoch 2/32\n",
      "63/63 [==============================] - 0s 3ms/step - loss: 0.0783\n",
      "Epoch 3/32\n",
      "63/63 [==============================] - 0s 3ms/step - loss: 0.0284\n",
      "Epoch 4/32\n",
      "63/63 [==============================] - 0s 3ms/step - loss: 0.0185\n",
      "Epoch 5/32\n",
      "63/63 [==============================] - 0s 3ms/step - loss: 0.0150\n",
      "Epoch 6/32\n",
      "63/63 [==============================] - 0s 3ms/step - loss: 0.0132\n",
      "Epoch 7/32\n",
      "63/63 [==============================] - 0s 3ms/step - loss: 0.0122\n",
      "Epoch 8/32\n",
      "63/63 [==============================] - 0s 3ms/step - loss: 0.0114\n",
      "Epoch 9/32\n",
      "63/63 [==============================] - 0s 3ms/step - loss: 0.0109\n",
      "Epoch 10/32\n",
      "63/63 [==============================] - 0s 3ms/step - loss: 0.0106\n",
      "Epoch 11/32\n",
      "63/63 [==============================] - 0s 3ms/step - loss: 0.0103\n",
      "Epoch 12/32\n",
      "63/63 [==============================] - 0s 3ms/step - loss: 0.0100\n",
      "Epoch 13/32\n",
      "63/63 [==============================] - 0s 3ms/step - loss: 0.0099\n",
      "Epoch 14/32\n",
      "63/63 [==============================] - 0s 3ms/step - loss: 0.0097\n",
      "Epoch 15/32\n",
      "63/63 [==============================] - 0s 3ms/step - loss: 0.0095\n",
      "Epoch 16/32\n",
      "63/63 [==============================] - 0s 3ms/step - loss: 0.0094\n",
      "Epoch 17/32\n",
      "63/63 [==============================] - 0s 3ms/step - loss: 0.0093\n",
      "Epoch 18/32\n",
      "63/63 [==============================] - 0s 3ms/step - loss: 0.0093\n",
      "Epoch 19/32\n",
      "63/63 [==============================] - 0s 3ms/step - loss: 0.0092\n",
      "Epoch 20/32\n",
      "63/63 [==============================] - 0s 3ms/step - loss: 0.0091\n",
      "Epoch 21/32\n",
      "63/63 [==============================] - 0s 3ms/step - loss: 0.0091\n",
      "Epoch 22/32\n",
      "63/63 [==============================] - 0s 3ms/step - loss: 0.0090\n",
      "Epoch 23/32\n",
      "63/63 [==============================] - 0s 3ms/step - loss: 0.0090\n",
      "Epoch 24/32\n",
      "63/63 [==============================] - 0s 3ms/step - loss: 0.0090\n",
      "Epoch 25/32\n",
      "63/63 [==============================] - 0s 3ms/step - loss: 0.0089\n",
      "Epoch 26/32\n",
      "63/63 [==============================] - 0s 3ms/step - loss: 0.0089\n",
      "Epoch 27/32\n",
      "63/63 [==============================] - 0s 3ms/step - loss: 0.0089\n",
      "Epoch 28/32\n",
      "63/63 [==============================] - 0s 3ms/step - loss: 0.0089\n",
      "Epoch 29/32\n",
      "63/63 [==============================] - 0s 3ms/step - loss: 0.0088\n",
      "Epoch 30/32\n",
      "63/63 [==============================] - 0s 3ms/step - loss: 0.0088\n",
      "Epoch 31/32\n",
      "63/63 [==============================] - 0s 3ms/step - loss: 0.0088\n",
      "Epoch 32/32\n",
      "63/63 [==============================] - 0s 3ms/step - loss: 0.0088\n"
     ]
    },
    {
     "data": {
      "text/plain": [
       "<tensorflow.python.keras.callbacks.History at 0x7f16ce38c130>"
      ]
     },
     "execution_count": 9,
     "metadata": {},
     "output_type": "execute_result"
    }
   ],
   "source": [
    "model_tr.compile(loss='mse', optimizer='adam')\n",
    "model_tr.fit(x_train_pool, x_train[:2000], epochs=32)"
   ]
  },
  {
   "cell_type": "markdown",
   "metadata": {
    "colab_type": "text",
    "id": "YvYU_QHFU0OB"
   },
   "source": [
    "さて汎化したでしょうか？学習済みモデルに対して、validationデータの画質をプーリングで半分に落としたものを入力して、画質が回復されるかを見てみよう："
   ]
  },
  {
   "cell_type": "code",
   "execution_count": 10,
   "metadata": {
    "colab": {
     "base_uri": "https://localhost:8080/",
     "height": 1000
    },
    "colab_type": "code",
    "id": "jf8ZBszzTIn8",
    "outputId": "f7737354-6740-43bc-d682-864c8840185f"
   },
   "outputs": [
    {
     "name": "stdout",
     "output_type": "stream",
     "text": [
      "0 th validation image\n"
     ]
    },
    {
     "data": {
      "image/png": "[encoded data removed]",
      "text/plain": [
       "<Figure size 432x288 with 1 Axes>"
      ]
     },
     "metadata": {
      "needs_background": "light"
     },
     "output_type": "display_data"
    },
    {
     "name": "stdout",
     "output_type": "stream",
     "text": [
      "0 th pooled image\n"
     ]
    },
    {
     "data": {
      "image/png": "[encoded data removed]",
      "text/plain": [
       "<Figure size 432x288 with 1 Axes>"
      ]
     },
     "metadata": {
      "needs_background": "light"
     },
     "output_type": "display_data"
    },
    {
     "name": "stdout",
     "output_type": "stream",
     "text": [
      "0 th reconstructed image\n"
     ]
    },
    {
     "data": {
      "image/png": "[encoded data removed]",
      "text/plain": [
       "<Figure size 432x288 with 1 Axes>"
      ]
     },
     "metadata": {
      "needs_background": "light"
     },
     "output_type": "display_data"
    },
    {
     "name": "stdout",
     "output_type": "stream",
     "text": [
      "1 th validation image\n"
     ]
    },
    {
     "data": {
      "image/png": "[encoded data removed]",
      "text/plain": [
       "<Figure size 432x288 with 1 Axes>"
      ]
     },
     "metadata": {
      "needs_background": "light"
     },
     "output_type": "display_data"
    },
    {
     "name": "stdout",
     "output_type": "stream",
     "text": [
      "1 th pooled image\n"
     ]
    },
    {
     "data": {
      "image/png": "[encoded data removed]",
      "text/plain": [
       "<Figure size 432x288 with 1 Axes>"
      ]
     },
     "metadata": {
      "needs_background": "light"
     },
     "output_type": "display_data"
    },
    {
     "name": "stdout",
     "output_type": "stream",
     "text": [
      "1 th reconstructed image\n"
     ]
    },
    {
     "data": {
      "image/png": "[encoded data removed]",
      "text/plain": [
       "<Figure size 432x288 with 1 Axes>"
      ]
     },
     "metadata": {
      "needs_background": "light"
     },
     "output_type": "display_data"
    },
    {
     "name": "stdout",
     "output_type": "stream",
     "text": [
      "2 th validation image\n"
     ]
    },
    {
     "data": {
      "image/png": "[encoded data removed]",
      "text/plain": [
       "<Figure size 432x288 with 1 Axes>"
      ]
     },
     "metadata": {
      "needs_background": "light"
     },
     "output_type": "display_data"
    },
    {
     "name": "stdout",
     "output_type": "stream",
     "text": [
      "2 th pooled image\n"
     ]
    },
    {
     "data": {
      "image/png": "[encoded data removed]",
      "text/plain": [
       "<Figure size 432x288 with 1 Axes>"
      ]
     },
     "metadata": {
      "needs_background": "light"
     },
     "output_type": "display_data"
    },
    {
     "name": "stdout",
     "output_type": "stream",
     "text": [
      "2 th reconstructed image\n"
     ]
    },
    {
     "data": {
      "image/png": "[encoded data removed]",
      "text/plain": [
       "<Figure size 432x288 with 1 Axes>"
      ]
     },
     "metadata": {
      "needs_background": "light"
     },
     "output_type": "display_data"
    },
    {
     "name": "stdout",
     "output_type": "stream",
     "text": [
      "3 th validation image\n"
     ]
    },
    {
     "data": {
      "image/png": "[encoded data removed]",
      "text/plain": [
       "<Figure size 432x288 with 1 Axes>"
      ]
     },
     "metadata": {
      "needs_background": "light"
     },
     "output_type": "display_data"
    },
    {
     "name": "stdout",
     "output_type": "stream",
     "text": [
      "3 th pooled image\n"
     ]
    },
    {
     "data": {
      "image/png": "[encoded data removed]",
      "text/plain": [
       "<Figure size 432x288 with 1 Axes>"
      ]
     },
     "metadata": {
      "needs_background": "light"
     },
     "output_type": "display_data"
    },
    {
     "name": "stdout",
     "output_type": "stream",
     "text": [
      "3 th reconstructed image\n"
     ]
    },
    {
     "data": {
      "image/png": "[encoded data removed]",
      "text/plain": [
       "<Figure size 432x288 with 1 Axes>"
      ]
     },
     "metadata": {
      "needs_background": "light"
     },
     "output_type": "display_data"
    },
    {
     "name": "stdout",
     "output_type": "stream",
     "text": [
      "4 th validation image\n"
     ]
    },
    {
     "data": {
      "image/png": "[encoded data removed]",
      "text/plain": [
       "<Figure size 432x288 with 1 Axes>"
      ]
     },
     "metadata": {
      "needs_background": "light"
     },
     "output_type": "display_data"
    },
    {
     "name": "stdout",
     "output_type": "stream",
     "text": [
      "4 th pooled image\n"
     ]
    },
    {
     "data": {
      "image/png": "[encoded data removed]",
      "text/plain": [
       "<Figure size 432x288 with 1 Axes>"
      ]
     },
     "metadata": {
      "needs_background": "light"
     },
     "output_type": "display_data"
    },
    {
     "name": "stdout",
     "output_type": "stream",
     "text": [
      "4 th reconstructed image\n"
     ]
    },
    {
     "data": {
      "image/png": "[encoded data removed]",
      "text/plain": [
       "<Figure size 432x288 with 1 Axes>"
      ]
     },
     "metadata": {
      "needs_background": "light"
     },
     "output_type": "display_data"
    },
    {
     "name": "stdout",
     "output_type": "stream",
     "text": [
      "5 th validation image\n"
     ]
    },
    {
     "data": {
      "image/png": "[encoded data removed]",
      "text/plain": [
       "<Figure size 432x288 with 1 Axes>"
      ]
     },
     "metadata": {
      "needs_background": "light"
     },
     "output_type": "display_data"
    },
    {
     "name": "stdout",
     "output_type": "stream",
     "text": [
      "5 th pooled image\n"
     ]
    },
    {
     "data": {
      "image/png": "[encoded data removed]",
      "text/plain": [
       "<Figure size 432x288 with 1 Axes>"
      ]
     },
     "metadata": {
      "needs_background": "light"
     },
     "output_type": "display_data"
    },
    {
     "name": "stdout",
     "output_type": "stream",
     "text": [
      "5 th reconstructed image\n"
     ]
    },
    {
     "data": {
      "image/png": "[encoded data removed]",
      "text/plain": [
       "<Figure size 432x288 with 1 Axes>"
      ]
     },
     "metadata": {
      "needs_background": "light"
     },
     "output_type": "display_data"
    },
    {
     "name": "stdout",
     "output_type": "stream",
     "text": [
      "6 th validation image\n"
     ]
    },
    {
     "data": {
      "image/png": "[encoded data removed]",
      "text/plain": [
       "<Figure size 432x288 with 1 Axes>"
      ]
     },
     "metadata": {
      "needs_background": "light"
     },
     "output_type": "display_data"
    },
    {
     "name": "stdout",
     "output_type": "stream",
     "text": [
      "6 th pooled image\n"
     ]
    },
    {
     "data": {
      "image/png": "[encoded data removed]",
      "text/plain": [
       "<Figure size 432x288 with 1 Axes>"
      ]
     },
     "metadata": {
      "needs_background": "light"
     },
     "output_type": "display_data"
    },
    {
     "name": "stdout",
     "output_type": "stream",
     "text": [
      "6 th reconstructed image\n"
     ]
    },
    {
     "data": {
      "image/png": "[encoded data removed]",
      "text/plain": [
       "<Figure size 432x288 with 1 Axes>"
      ]
     },
     "metadata": {
      "needs_background": "light"
     },
     "output_type": "display_data"
    },
    {
     "name": "stdout",
     "output_type": "stream",
     "text": [
      "7 th validation image\n"
     ]
    },
    {
     "data": {
      "image/png": "[encoded data removed]",
      "text/plain": [
       "<Figure size 432x288 with 1 Axes>"
      ]
     },
     "metadata": {
      "needs_background": "light"
     },
     "output_type": "display_data"
    },
    {
     "name": "stdout",
     "output_type": "stream",
     "text": [
      "7 th pooled image\n"
     ]
    },
    {
     "data": {
      "image/png": "[encoded data removed]",
      "text/plain": [
       "<Figure size 432x288 with 1 Axes>"
      ]
     },
     "metadata": {
      "needs_background": "light"
     },
     "output_type": "display_data"
    },
    {
     "name": "stdout",
     "output_type": "stream",
     "text": [
      "7 th reconstructed image\n"
     ]
    },
    {
     "data": {
      "image/png": "[encoded data removed]",
      "text/plain": [
       "<Figure size 432x288 with 1 Axes>"
      ]
     },
     "metadata": {
      "needs_background": "light"
     },
     "output_type": "display_data"
    },
    {
     "name": "stdout",
     "output_type": "stream",
     "text": [
      "8 th validation image\n"
     ]
    },
    {
     "data": {
      "image/png": "[encoded data removed]",
      "text/plain": [
       "<Figure size 432x288 with 1 Axes>"
      ]
     },
     "metadata": {
      "needs_background": "light"
     },
     "output_type": "display_data"
    },
    {
     "name": "stdout",
     "output_type": "stream",
     "text": [
      "8 th pooled image\n"
     ]
    },
    {
     "data": {
      "image/png": "[encoded data removed]",
      "text/plain": [
       "<Figure size 432x288 with 1 Axes>"
      ]
     },
     "metadata": {
      "needs_background": "light"
     },
     "output_type": "display_data"
    },
    {
     "name": "stdout",
     "output_type": "stream",
     "text": [
      "8 th reconstructed image\n"
     ]
    },
    {
     "data": {
      "image/png": "[encoded data removed]",
      "text/plain": [
       "<Figure size 432x288 with 1 Axes>"
      ]
     },
     "metadata": {
      "needs_background": "light"
     },
     "output_type": "display_data"
    },
    {
     "name": "stdout",
     "output_type": "stream",
     "text": [
      "9 th validation image\n"
     ]
    },
    {
     "data": {
      "image/png": "[encoded data removed]",
      "text/plain": [
       "<Figure size 432x288 with 1 Axes>"
      ]
     },
     "metadata": {
      "needs_background": "light"
     },
     "output_type": "display_data"
    },
    {
     "name": "stdout",
     "output_type": "stream",
     "text": [
      "9 th pooled image\n"
     ]
    },
    {
     "data": {
      "image/png": "[encoded data removed]",
      "text/plain": [
       "<Figure size 432x288 with 1 Axes>"
      ]
     },
     "metadata": {
      "needs_background": "light"
     },
     "output_type": "display_data"
    },
    {
     "name": "stdout",
     "output_type": "stream",
     "text": [
      "9 th reconstructed image\n"
     ]
    },
    {
     "data": {
      "image/png": "[encoded data removed]",
      "text/plain": [
       "<Figure size 432x288 with 1 Axes>"
      ]
     },
     "metadata": {
      "needs_background": "light"
     },
     "output_type": "display_data"
    }
   ],
   "source": [
    "# Poolingでx_valの画質を半分に下げる\n",
    "x_val_pool =  model_pool.predict(x_val[:10])\n",
    "# この低画質画像を、今学習したモデルで画質回復させてみる\n",
    "pred_tr = model_tr.predict(x_val_pool)\n",
    "\n",
    "for i in range(10):\n",
    "  print(i,'th validation image')\n",
    "  plt.imshow(x_val[i,:,:,0], cmap='gray')\n",
    "  plt.show()\n",
    "  print(i,'th pooled image')\n",
    "  plt.imshow(x_val_pool[i,:,:,0], cmap='gray')\n",
    "  plt.show()\n",
    "  print(i,'th reconstructed image')\n",
    "  plt.imshow(pred_tr[i,:,:,0], cmap='gray')\n",
    "  plt.show()"
   ]
  },
  {
   "cell_type": "markdown",
   "metadata": {
    "colab_type": "text",
    "id": "hpItHV8WUh0R"
   },
   "source": [
    "比較的よく画像の解像度回復が学習されています。このようなタスクを<b>超解像</b>（<b>superresolution</b>）と言います。\n",
    "\n",
    "### 2-2. Up-Sampling\n",
    "\n",
    "先ほどは畳み込みの逆のようなものを考えましたが、プーリングの逆のようなものも存在します。それが<b>up-sampling</b>です。Transposed Convolutionとの大きな違いは、Up-Sampling層には学習するパラメータはなく、ただ画像を拡大するだけな点です（Pooling層にも学習パラメータはありませんでしたね）。\n",
    "\n",
    "そこでUp-Sampling層とConv層を使って、さっきと似たモデルを作って学習させて見ましょう："
   ]
  },
  {
   "cell_type": "code",
   "execution_count": 11,
   "metadata": {
    "colab": {
     "base_uri": "https://localhost:8080/",
     "height": 289
    },
    "colab_type": "code",
    "id": "YgELjEKtTdj9",
    "outputId": "9e1baa1e-c53d-48d9-acc4-7136d057022a"
   },
   "outputs": [
    {
     "name": "stdout",
     "output_type": "stream",
     "text": [
      "Model: \"functional_7\"\n",
      "_________________________________________________________________\n",
      "Layer (type)                 Output Shape              Param #   \n",
      "=================================================================\n",
      "input_4 (InputLayer)         [(None, 14, 14, 1)]       0         \n",
      "_________________________________________________________________\n",
      "up_sampling2d (UpSampling2D) (None, 28, 28, 1)         0         \n",
      "_________________________________________________________________\n",
      "conv2d_2 (Conv2D)            (None, 28, 28, 32)        160       \n",
      "_________________________________________________________________\n",
      "conv2d_3 (Conv2D)            (None, 28, 28, 1)         289       \n",
      "=================================================================\n",
      "Total params: 449\n",
      "Trainable params: 449\n",
      "Non-trainable params: 0\n",
      "_________________________________________________________________\n"
     ]
    }
   ],
   "source": [
    "from tensorflow.keras.layers import  UpSampling2D\n",
    "\n",
    "input_up = Input(shape=(14,14,1))\n",
    "x_up = UpSampling2D((2, 2))(input_up)\n",
    "x_up = Conv2D(32, (2, 2), padding='same', activation='relu')(x_up)\n",
    "x_up = Conv2D(1, (3, 3), padding='same', activation='sigmoid')(x_up)\n",
    "model_up = Model(inputs=input_up, outputs=x_up)\n",
    "\n",
    "model_up.summary()"
   ]
  },
  {
   "cell_type": "code",
   "execution_count": 12,
   "metadata": {
    "colab": {
     "base_uri": "https://localhost:8080/",
     "height": 1000
    },
    "colab_type": "code",
    "id": "Z4C-f1FQVeNa",
    "outputId": "2fe49fae-da92-41b4-d135-eb38bf6a257c"
   },
   "outputs": [
    {
     "name": "stdout",
     "output_type": "stream",
     "text": [
      "Epoch 1/32\n",
      "63/63 [==============================] - 3s 40ms/step - loss: 0.1740\n",
      "Epoch 2/32\n",
      "63/63 [==============================] - 0s 3ms/step - loss: 0.0401\n",
      "Epoch 3/32\n",
      "63/63 [==============================] - 0s 3ms/step - loss: 0.0159\n",
      "Epoch 4/32\n",
      "63/63 [==============================] - 0s 3ms/step - loss: 0.0122\n",
      "Epoch 5/32\n",
      "63/63 [==============================] - 0s 3ms/step - loss: 0.0109\n",
      "Epoch 6/32\n",
      "63/63 [==============================] - 0s 3ms/step - loss: 0.0102\n",
      "Epoch 7/32\n",
      "63/63 [==============================] - 0s 3ms/step - loss: 0.0097\n",
      "Epoch 8/32\n",
      "63/63 [==============================] - 0s 3ms/step - loss: 0.0094\n",
      "Epoch 9/32\n",
      "63/63 [==============================] - 0s 3ms/step - loss: 0.0092\n",
      "Epoch 10/32\n",
      "63/63 [==============================] - 0s 3ms/step - loss: 0.0091\n",
      "Epoch 11/32\n",
      "63/63 [==============================] - 0s 3ms/step - loss: 0.0090\n",
      "Epoch 12/32\n",
      "63/63 [==============================] - 0s 3ms/step - loss: 0.0089\n",
      "Epoch 13/32\n",
      "63/63 [==============================] - 0s 3ms/step - loss: 0.0089\n",
      "Epoch 14/32\n",
      "63/63 [==============================] - 0s 3ms/step - loss: 0.0088\n",
      "Epoch 15/32\n",
      "63/63 [==============================] - 0s 3ms/step - loss: 0.0088\n",
      "Epoch 16/32\n",
      "63/63 [==============================] - 0s 3ms/step - loss: 0.0087\n",
      "Epoch 17/32\n",
      "63/63 [==============================] - 0s 3ms/step - loss: 0.0087\n",
      "Epoch 18/32\n",
      "63/63 [==============================] - 0s 3ms/step - loss: 0.0087\n",
      "Epoch 19/32\n",
      "63/63 [==============================] - 0s 3ms/step - loss: 0.0087\n",
      "Epoch 20/32\n",
      "63/63 [==============================] - 0s 3ms/step - loss: 0.0086\n",
      "Epoch 21/32\n",
      "63/63 [==============================] - 0s 3ms/step - loss: 0.0086\n",
      "Epoch 22/32\n",
      "63/63 [==============================] - 0s 3ms/step - loss: 0.0086\n",
      "Epoch 23/32\n",
      "63/63 [==============================] - 0s 3ms/step - loss: 0.0086\n",
      "Epoch 24/32\n",
      "63/63 [==============================] - 0s 3ms/step - loss: 0.0086\n",
      "Epoch 25/32\n",
      "63/63 [==============================] - 0s 3ms/step - loss: 0.0086\n",
      "Epoch 26/32\n",
      "63/63 [==============================] - 0s 3ms/step - loss: 0.0086\n",
      "Epoch 27/32\n",
      "63/63 [==============================] - 0s 3ms/step - loss: 0.0086\n",
      "Epoch 28/32\n",
      "63/63 [==============================] - 0s 3ms/step - loss: 0.0085\n",
      "Epoch 29/32\n",
      "63/63 [==============================] - 0s 3ms/step - loss: 0.0085\n",
      "Epoch 30/32\n",
      "63/63 [==============================] - 0s 3ms/step - loss: 0.0085\n",
      "Epoch 31/32\n",
      "63/63 [==============================] - 0s 3ms/step - loss: 0.0085\n",
      "Epoch 32/32\n",
      "63/63 [==============================] - 0s 3ms/step - loss: 0.0085\n"
     ]
    },
    {
     "data": {
      "text/plain": [
       "<tensorflow.python.keras.callbacks.History at 0x7f16c0336d60>"
      ]
     },
     "execution_count": 12,
     "metadata": {},
     "output_type": "execute_result"
    }
   ],
   "source": [
    "model_up.compile(loss='mse', optimizer='adam')\n",
    "model_up.fit(x_train_pool, x_train[:2000], epochs=32)"
   ]
  },
  {
   "cell_type": "markdown",
   "metadata": {
    "colab_type": "text",
    "id": "KJwi37zYjt2U"
   },
   "source": [
    "訓練誤差はかなり小さくできました。では検証データに関する振る舞いはどうでしょう？"
   ]
  },
  {
   "cell_type": "code",
   "execution_count": 13,
   "metadata": {
    "colab": {
     "base_uri": "https://localhost:8080/",
     "height": 1000
    },
    "colab_type": "code",
    "id": "78NUvX_0VlGP",
    "outputId": "bf53f25b-3a27-44ae-d1ae-4b9323bf41fe"
   },
   "outputs": [
    {
     "name": "stdout",
     "output_type": "stream",
     "text": [
      "0 th validation image\n"
     ]
    },
    {
     "data": {
      "image/png": "[encoded data removed]",
      "text/plain": [
       "<Figure size 432x288 with 1 Axes>"
      ]
     },
     "metadata": {
      "needs_background": "light"
     },
     "output_type": "display_data"
    },
    {
     "name": "stdout",
     "output_type": "stream",
     "text": [
      "0 th pooled image\n"
     ]
    },
    {
     "data": {
      "image/png": "[encoded data removed]",
      "text/plain": [
       "<Figure size 432x288 with 1 Axes>"
      ]
     },
     "metadata": {
      "needs_background": "light"
     },
     "output_type": "display_data"
    },
    {
     "name": "stdout",
     "output_type": "stream",
     "text": [
      "0 th reconstructed image\n"
     ]
    },
    {
     "data": {
      "image/png": "[encoded data removed]",
      "text/plain": [
       "<Figure size 432x288 with 1 Axes>"
      ]
     },
     "metadata": {
      "needs_background": "light"
     },
     "output_type": "display_data"
    },
    {
     "name": "stdout",
     "output_type": "stream",
     "text": [
      "1 th validation image\n"
     ]
    },
    {
     "data": {
      "image/png": "[encoded data removed]",
      "text/plain": [
       "<Figure size 432x288 with 1 Axes>"
      ]
     },
     "metadata": {
      "needs_background": "light"
     },
     "output_type": "display_data"
    },
    {
     "name": "stdout",
     "output_type": "stream",
     "text": [
      "1 th pooled image\n"
     ]
    },
    {
     "data": {
      "image/png": "[encoded data removed]",
      "text/plain": [
       "<Figure size 432x288 with 1 Axes>"
      ]
     },
     "metadata": {
      "needs_background": "light"
     },
     "output_type": "display_data"
    },
    {
     "name": "stdout",
     "output_type": "stream",
     "text": [
      "1 th reconstructed image\n"
     ]
    },
    {
     "data": {
      "image/png": "[encoded data removed]",
      "text/plain": [
       "<Figure size 432x288 with 1 Axes>"
      ]
     },
     "metadata": {
      "needs_background": "light"
     },
     "output_type": "display_data"
    },
    {
     "name": "stdout",
     "output_type": "stream",
     "text": [
      "2 th validation image\n"
     ]
    },
    {
     "data": {
      "image/png": "[encoded data removed]",
      "text/plain": [
       "<Figure size 432x288 with 1 Axes>"
      ]
     },
     "metadata": {
      "needs_background": "light"
     },
     "output_type": "display_data"
    },
    {
     "name": "stdout",
     "output_type": "stream",
     "text": [
      "2 th pooled image\n"
     ]
    },
    {
     "data": {
      "image/png": "[encoded data removed]",
      "text/plain": [
       "<Figure size 432x288 with 1 Axes>"
      ]
     },
     "metadata": {
      "needs_background": "light"
     },
     "output_type": "display_data"
    },
    {
     "name": "stdout",
     "output_type": "stream",
     "text": [
      "2 th reconstructed image\n"
     ]
    },
    {
     "data": {
      "image/png": "[encoded data removed]",
      "text/plain": [
       "<Figure size 432x288 with 1 Axes>"
      ]
     },
     "metadata": {
      "needs_background": "light"
     },
     "output_type": "display_data"
    },
    {
     "name": "stdout",
     "output_type": "stream",
     "text": [
      "3 th validation image\n"
     ]
    },
    {
     "data": {
      "image/png": "[encoded data removed]",
      "text/plain": [
       "<Figure size 432x288 with 1 Axes>"
      ]
     },
     "metadata": {
      "needs_background": "light"
     },
     "output_type": "display_data"
    },
    {
     "name": "stdout",
     "output_type": "stream",
     "text": [
      "3 th pooled image\n"
     ]
    },
    {
     "data": {
      "image/png": "[encoded data removed]",
      "text/plain": [
       "<Figure size 432x288 with 1 Axes>"
      ]
     },
     "metadata": {
      "needs_background": "light"
     },
     "output_type": "display_data"
    },
    {
     "name": "stdout",
     "output_type": "stream",
     "text": [
      "3 th reconstructed image\n"
     ]
    },
    {
     "data": {
      "image/png": "[encoded data removed]",
      "text/plain": [
       "<Figure size 432x288 with 1 Axes>"
      ]
     },
     "metadata": {
      "needs_background": "light"
     },
     "output_type": "display_data"
    },
    {
     "name": "stdout",
     "output_type": "stream",
     "text": [
      "4 th validation image\n"
     ]
    },
    {
     "data": {
      "image/png": "[encoded data removed]",
      "text/plain": [
       "<Figure size 432x288 with 1 Axes>"
      ]
     },
     "metadata": {
      "needs_background": "light"
     },
     "output_type": "display_data"
    },
    {
     "name": "stdout",
     "output_type": "stream",
     "text": [
      "4 th pooled image\n"
     ]
    },
    {
     "data": {
      "image/png": "[encoded data removed]",
      "text/plain": [
       "<Figure size 432x288 with 1 Axes>"
      ]
     },
     "metadata": {
      "needs_background": "light"
     },
     "output_type": "display_data"
    },
    {
     "name": "stdout",
     "output_type": "stream",
     "text": [
      "4 th reconstructed image\n"
     ]
    },
    {
     "data": {
      "image/png": "[encoded data removed]",
      "text/plain": [
       "<Figure size 432x288 with 1 Axes>"
      ]
     },
     "metadata": {
      "needs_background": "light"
     },
     "output_type": "display_data"
    },
    {
     "name": "stdout",
     "output_type": "stream",
     "text": [
      "5 th validation image\n"
     ]
    },
    {
     "data": {
      "image/png": "[encoded data removed]",
      "text/plain": [
       "<Figure size 432x288 with 1 Axes>"
      ]
     },
     "metadata": {
      "needs_background": "light"
     },
     "output_type": "display_data"
    },
    {
     "name": "stdout",
     "output_type": "stream",
     "text": [
      "5 th pooled image\n"
     ]
    },
    {
     "data": {
      "image/png": "[encoded data removed]",
      "text/plain": [
       "<Figure size 432x288 with 1 Axes>"
      ]
     },
     "metadata": {
      "needs_background": "light"
     },
     "output_type": "display_data"
    },
    {
     "name": "stdout",
     "output_type": "stream",
     "text": [
      "5 th reconstructed image\n"
     ]
    },
    {
     "data": {
      "image/png": "[encoded data removed]",
      "text/plain": [
       "<Figure size 432x288 with 1 Axes>"
      ]
     },
     "metadata": {
      "needs_background": "light"
     },
     "output_type": "display_data"
    },
    {
     "name": "stdout",
     "output_type": "stream",
     "text": [
      "6 th validation image\n"
     ]
    },
    {
     "data": {
      "image/png": "[encoded data removed]",
      "text/plain": [
       "<Figure size 432x288 with 1 Axes>"
      ]
     },
     "metadata": {
      "needs_background": "light"
     },
     "output_type": "display_data"
    },
    {
     "name": "stdout",
     "output_type": "stream",
     "text": [
      "6 th pooled image\n"
     ]
    },
    {
     "data": {
      "image/png": "[encoded data removed]",
      "text/plain": [
       "<Figure size 432x288 with 1 Axes>"
      ]
     },
     "metadata": {
      "needs_background": "light"
     },
     "output_type": "display_data"
    },
    {
     "name": "stdout",
     "output_type": "stream",
     "text": [
      "6 th reconstructed image\n"
     ]
    },
    {
     "data": {
      "image/png": "[encoded data removed]",
      "text/plain": [
       "<Figure size 432x288 with 1 Axes>"
      ]
     },
     "metadata": {
      "needs_background": "light"
     },
     "output_type": "display_data"
    },
    {
     "name": "stdout",
     "output_type": "stream",
     "text": [
      "7 th validation image\n"
     ]
    },
    {
     "data": {
      "image/png": "[encoded data removed]",
      "text/plain": [
       "<Figure size 432x288 with 1 Axes>"
      ]
     },
     "metadata": {
      "needs_background": "light"
     },
     "output_type": "display_data"
    },
    {
     "name": "stdout",
     "output_type": "stream",
     "text": [
      "7 th pooled image\n"
     ]
    },
    {
     "data": {
      "image/png": "[encoded data removed]",
      "text/plain": [
       "<Figure size 432x288 with 1 Axes>"
      ]
     },
     "metadata": {
      "needs_background": "light"
     },
     "output_type": "display_data"
    },
    {
     "name": "stdout",
     "output_type": "stream",
     "text": [
      "7 th reconstructed image\n"
     ]
    },
    {
     "data": {
      "image/png": "[encoded data removed]",
      "text/plain": [
       "<Figure size 432x288 with 1 Axes>"
      ]
     },
     "metadata": {
      "needs_background": "light"
     },
     "output_type": "display_data"
    },
    {
     "name": "stdout",
     "output_type": "stream",
     "text": [
      "8 th validation image\n"
     ]
    },
    {
     "data": {
      "image/png": "[encoded data removed]",
      "text/plain": [
       "<Figure size 432x288 with 1 Axes>"
      ]
     },
     "metadata": {
      "needs_background": "light"
     },
     "output_type": "display_data"
    },
    {
     "name": "stdout",
     "output_type": "stream",
     "text": [
      "8 th pooled image\n"
     ]
    },
    {
     "data": {
      "image/png": "[encoded data removed]",
      "text/plain": [
       "<Figure size 432x288 with 1 Axes>"
      ]
     },
     "metadata": {
      "needs_background": "light"
     },
     "output_type": "display_data"
    },
    {
     "name": "stdout",
     "output_type": "stream",
     "text": [
      "8 th reconstructed image\n"
     ]
    },
    {
     "data": {
      "image/png": "[encoded data removed]",
      "text/plain": [
       "<Figure size 432x288 with 1 Axes>"
      ]
     },
     "metadata": {
      "needs_background": "light"
     },
     "output_type": "display_data"
    },
    {
     "name": "stdout",
     "output_type": "stream",
     "text": [
      "9 th validation image\n"
     ]
    },
    {
     "data": {
      "image/png": "[encoded data removed]",
      "text/plain": [
       "<Figure size 432x288 with 1 Axes>"
      ]
     },
     "metadata": {
      "needs_background": "light"
     },
     "output_type": "display_data"
    },
    {
     "name": "stdout",
     "output_type": "stream",
     "text": [
      "9 th pooled image\n"
     ]
    },
    {
     "data": {
      "image/png": "[encoded data removed]",
      "text/plain": [
       "<Figure size 432x288 with 1 Axes>"
      ]
     },
     "metadata": {
      "needs_background": "light"
     },
     "output_type": "display_data"
    },
    {
     "name": "stdout",
     "output_type": "stream",
     "text": [
      "9 th reconstructed image\n"
     ]
    },
    {
     "data": {
      "image/png": "[encoded data removed]",
      "text/plain": [
       "<Figure size 432x288 with 1 Axes>"
      ]
     },
     "metadata": {
      "needs_background": "light"
     },
     "output_type": "display_data"
    }
   ],
   "source": [
    "pred_tr = model_up.predict(x_val_pool)\n",
    "\n",
    "for i in range(10):\n",
    "  print(i,'th validation image')\n",
    "  plt.imshow(x_val[i,:,:,0], cmap='gray')\n",
    "  plt.show()\n",
    "  print(i,'th pooled image')\n",
    "  plt.imshow(x_val_pool[i,:,:,0], cmap='gray')\n",
    "  plt.show()\n",
    "  print(i,'th reconstructed image')\n",
    "  plt.imshow(pred_tr[i,:,:,0], cmap='gray')\n",
    "  plt.show()"
   ]
  },
  {
   "cell_type": "markdown",
   "metadata": {
    "colab_type": "text",
    "id": "k4fCxoMBjG2g"
   },
   "source": [
    "こちらも先ほどと変わらずうまくいきました。"
   ]
  },
  {
   "cell_type": "markdown",
   "metadata": {
    "colab_type": "text",
    "id": "3VfW7hCUWO2z"
   },
   "source": [
    "## 3. Autoencoder"
   ]
  },
  {
   "cell_type": "markdown",
   "metadata": {
    "colab_type": "text",
    "id": "Ij1PhYZxrbhc"
   },
   "source": [
    "では、以上の知識を活用して、<b>畳み込み自己符号化器</b>（<b>convolutional autoencoder</b>）を作って見ましょう。\n",
    "\n",
    "自己符号化器は、画像を低次元ベクトルへ圧縮するencoderと、このベクトルを元の画像へ解凍するdecoderでできています。そこで、次のようなアーキテクチャのencoder、decoderを作って見ましょう："
   ]
  },
  {
   "cell_type": "code",
   "execution_count": 30,
   "metadata": {
    "colab": {
     "base_uri": "https://localhost:8080/",
     "height": 697
    },
    "colab_type": "code",
    "id": "TSaTMWTpiS7s",
    "outputId": "bebc605b-3575-4d95-c1eb-b92fdd140f0f"
   },
   "outputs": [
    {
     "name": "stdout",
     "output_type": "stream",
     "text": [
      "Model: \"functional_17\"\n",
      "_________________________________________________________________\n",
      "Layer (type)                 Output Shape              Param #   \n",
      "=================================================================\n",
      "input_9 (InputLayer)         [(None, 28, 28, 1)]       0         \n",
      "_________________________________________________________________\n",
      "conv2d_6 (Conv2D)            (None, 28, 28, 8)         80        \n",
      "_________________________________________________________________\n",
      "max_pooling2d_3 (MaxPooling2 (None, 14, 14, 8)         0         \n",
      "_________________________________________________________________\n",
      "conv2d_7 (Conv2D)            (None, 14, 14, 16)        1168      \n",
      "_________________________________________________________________\n",
      "max_pooling2d_4 (MaxPooling2 (None, 7, 7, 16)          0         \n",
      "_________________________________________________________________\n",
      "flatten (Flatten)            (None, 784)               0         \n",
      "_________________________________________________________________\n",
      "dense (Dense)                (None, 32)                25120     \n",
      "=================================================================\n",
      "Total params: 26,368\n",
      "Trainable params: 26,368\n",
      "Non-trainable params: 0\n",
      "_________________________________________________________________\n",
      "Model: \"functional_19\"\n",
      "_________________________________________________________________\n",
      "Layer (type)                 Output Shape              Param #   \n",
      "=================================================================\n",
      "input_10 (InputLayer)        [(None, 32)]              0         \n",
      "_________________________________________________________________\n",
      "dense_1 (Dense)              (None, 784)               25872     \n",
      "_________________________________________________________________\n",
      "reshape (Reshape)            (None, 7, 7, 16)          0         \n",
      "_________________________________________________________________\n",
      "conv2d_transpose_1 (Conv2DTr (None, 14, 14, 8)         520       \n",
      "_________________________________________________________________\n",
      "conv2d_transpose_2 (Conv2DTr (None, 28, 28, 1)         33        \n",
      "=================================================================\n",
      "Total params: 26,425\n",
      "Trainable params: 26,425\n",
      "Non-trainable params: 0\n",
      "_________________________________________________________________\n"
     ]
    }
   ],
   "source": [
    "from tensorflow.keras.layers import  Flatten, Dense, Reshape\n",
    "\n",
    "# Encoder\n",
    "input_enc = Input(shape=(28,28,1))\n",
    "x_enc = Conv2D(8, (3, 3), padding='same', activation='relu')(input_enc)\n",
    "x_enc = MaxPooling2D((2, 2))(x_enc)\n",
    "x_enc = Conv2D(16, (3, 3), padding='same', activation='relu')(x_enc)\n",
    "x_enc = MaxPooling2D((2, 2))(x_enc)\n",
    "x_enc = Flatten()(x_enc)\n",
    "x_enc = Dense(32, activation='relu')(x_enc)\n",
    "encoder = Model(inputs=input_enc, outputs=x_enc)\n",
    "\n",
    "encoder.summary()\n",
    "\n",
    "# Decoder\n",
    "input_dec = Input(shape=(32,))\n",
    "x_dec = Dense(7*7*16, activation='relu')(input_dec)\n",
    "x_dec = Reshape((7,7,16))(x_dec)\n",
    "x_dec = Conv2DTranspose(8, (2, 2), (2,2), activation='relu')(x_dec)\n",
    "x_dec = Conv2DTranspose(1, (2, 2), (2,2), activation='sigmoid')(x_dec)\n",
    "decoder = Model(inputs=input_dec, outputs=x_dec)\n",
    "\n",
    "decoder.summary()"
   ]
  },
  {
   "cell_type": "markdown",
   "metadata": {
    "colab_type": "text",
    "id": "bDGM31dAsIMJ"
   },
   "source": [
    "このencoderは$28\\times28$サイズのMNIST画像を32次元ベクトルへ圧縮します。そしてdecoderは32次元ベクトルを$28\\times28$サイズの画像へ拡大するモデルになっています。\n",
    "\n",
    "ですので、この二つのモデルを連結させルト、画像を一回32次元に圧縮させてから元に戻すモデル（自己符号化器）が作れます。この自己符号化器を、入れた画像が元のまま出てくるように学習させられれば、データの圧縮と解凍が一気にまとめて学習できることになります。実際に自己符号化器を作って学習させて見ましょう。ここでは教科書で学んだ、層のようにモデルが使えるテクニックを使用しています："
   ]
  },
  {
   "cell_type": "code",
   "execution_count": 31,
   "metadata": {
    "colab": {
     "base_uri": "https://localhost:8080/",
     "height": 255
    },
    "colab_type": "code",
    "id": "yI-eG06ro0lr",
    "outputId": "782267d2-0bc1-42ae-9459-cc349aa7e70b"
   },
   "outputs": [
    {
     "name": "stdout",
     "output_type": "stream",
     "text": [
      "Model: \"functional_21\"\n",
      "_________________________________________________________________\n",
      "Layer (type)                 Output Shape              Param #   \n",
      "=================================================================\n",
      "input_11 (InputLayer)        [(None, 28, 28, 1)]       0         \n",
      "_________________________________________________________________\n",
      "functional_17 (Functional)   (None, 32)                26368     \n",
      "_________________________________________________________________\n",
      "functional_19 (Functional)   (None, 28, 28, 1)         26425     \n",
      "=================================================================\n",
      "Total params: 52,793\n",
      "Trainable params: 52,793\n",
      "Non-trainable params: 0\n",
      "_________________________________________________________________\n"
     ]
    }
   ],
   "source": [
    "input_auto = Input(shape=(28,28,1))\n",
    "x_auto = encoder(input_auto)\n",
    "x_auto = decoder(x_auto)\n",
    "autoencoder = Model(inputs=input_auto, outputs=x_auto)\n",
    "\n",
    "autoencoder.compile(loss='mse', optimizer='adam')\n",
    "autoencoder.fit(x_train, x_train, epochs=32)"
   ]
  },
  {
   "cell_type": "markdown",
   "metadata": {
    "colab_type": "text",
    "id": "whRPGWjkvFaI"
   },
   "source": [
    "自己符号化器は出力も自分自身なのでx=x_train, y=x_trainです。このような学習を<b>自己教師あり学習</b>とも言います："
   ]
  },
  {
   "cell_type": "code",
   "execution_count": 32,
   "metadata": {
    "colab": {
     "base_uri": "https://localhost:8080/",
     "height": 1000
    },
    "colab_type": "code",
    "id": "03DM0z_frEoZ",
    "outputId": "0ae9d2ba-1268-4a08-b14e-eff039d8f927"
   },
   "outputs": [
    {
     "name": "stdout",
     "output_type": "stream",
     "text": [
      "Epoch 1/32\n",
      "1688/1688 [==============================] - 26s 15ms/step - loss: 0.0469\n",
      "Epoch 2/32\n",
      "1688/1688 [==============================] - 10s 6ms/step - loss: 0.0223\n",
      "Epoch 3/32\n",
      "1688/1688 [==============================] - 10s 6ms/step - loss: 0.0187\n",
      "Epoch 4/32\n",
      "1688/1688 [==============================] - 10s 6ms/step - loss: 0.0172\n",
      "Epoch 5/32\n",
      "1688/1688 [==============================] - 10s 6ms/step - loss: 0.0164\n",
      "Epoch 6/32\n",
      "1688/1688 [==============================] - 10s 6ms/step - loss: 0.0159\n",
      "Epoch 7/32\n",
      "1688/1688 [==============================] - 10s 6ms/step - loss: 0.0155\n",
      "Epoch 8/32\n",
      "1688/1688 [==============================] - 10s 6ms/step - loss: 0.0152\n",
      "Epoch 9/32\n",
      "1688/1688 [==============================] - 10s 6ms/step - loss: 0.0150\n",
      "Epoch 10/32\n",
      "1688/1688 [==============================] - 10s 6ms/step - loss: 0.0147\n",
      "Epoch 11/32\n",
      "1688/1688 [==============================] - 10s 6ms/step - loss: 0.0146\n",
      "Epoch 12/32\n",
      "1688/1688 [==============================] - 10s 6ms/step - loss: 0.0145\n",
      "Epoch 13/32\n",
      "1688/1688 [==============================] - 10s 6ms/step - loss: 0.0144\n",
      "Epoch 14/32\n",
      "1688/1688 [==============================] - 10s 6ms/step - loss: 0.0143\n",
      "Epoch 15/32\n",
      "1688/1688 [==============================] - 10s 6ms/step - loss: 0.0141\n",
      "Epoch 16/32\n",
      "1688/1688 [==============================] - 10s 6ms/step - loss: 0.0141\n",
      "Epoch 17/32\n",
      "1688/1688 [==============================] - 10s 6ms/step - loss: 0.0140\n",
      "Epoch 18/32\n",
      "1688/1688 [==============================] - 10s 6ms/step - loss: 0.0140\n",
      "Epoch 19/32\n",
      "1688/1688 [==============================] - 10s 6ms/step - loss: 0.0139\n",
      "Epoch 20/32\n",
      "1688/1688 [==============================] - 10s 6ms/step - loss: 0.0139\n",
      "Epoch 21/32\n",
      "1688/1688 [==============================] - 10s 6ms/step - loss: 0.0138\n",
      "Epoch 22/32\n",
      "1688/1688 [==============================] - 10s 6ms/step - loss: 0.0138\n",
      "Epoch 23/32\n",
      "1688/1688 [==============================] - 10s 6ms/step - loss: 0.0138\n",
      "Epoch 24/32\n",
      "1688/1688 [==============================] - 10s 6ms/step - loss: 0.0133\n",
      "Epoch 25/32\n",
      "1688/1688 [==============================] - 10s 6ms/step - loss: 0.0131\n",
      "Epoch 26/32\n",
      "1688/1688 [==============================] - 10s 6ms/step - loss: 0.0131\n",
      "Epoch 27/32\n",
      "1688/1688 [==============================] - 10s 6ms/step - loss: 0.0131\n",
      "Epoch 28/32\n",
      "1688/1688 [==============================] - 10s 6ms/step - loss: 0.0130\n",
      "Epoch 29/32\n",
      "1688/1688 [==============================] - 10s 6ms/step - loss: 0.0130\n",
      "Epoch 30/32\n",
      "1688/1688 [==============================] - 10s 6ms/step - loss: 0.0129\n",
      "Epoch 31/32\n",
      "1688/1688 [==============================] - 10s 6ms/step - loss: 0.0129\n",
      "Epoch 32/32\n",
      "1688/1688 [==============================] - 10s 6ms/step - loss: 0.0129\n"
     ]
    },
    {
     "data": {
      "text/plain": [
       "<tensorflow.python.keras.callbacks.History at 0x7fb65c61e310>"
      ]
     },
     "execution_count": 32,
     "metadata": {},
     "output_type": "execute_result"
    }
   ],
   "source": [
    "autoencoder.compile(loss='mse', optimizer='adam')\n",
    "autoencoder.fit(x_train, x_train, epochs=32)"
   ]
  },
  {
   "cell_type": "markdown",
   "metadata": {
    "colab_type": "text",
    "id": "irIyKgte1mAh"
   },
   "source": [
    "では、autoencoderが汎化したかどうかを見るために、検証画像を入れてきちんと再構成できているか確認して見ましょう："
   ]
  },
  {
   "cell_type": "code",
   "execution_count": 16,
   "metadata": {
    "colab": {
     "base_uri": "https://localhost:8080/",
     "height": 1000
    },
    "colab_type": "code",
    "id": "nG1IY5VbrQZl",
    "outputId": "6c5a41d9-d9d5-4fd4-e4ad-c6f9ac5915ba"
   },
   "outputs": [
    {
     "name": "stdout",
     "output_type": "stream",
     "text": [
      "0 th validation image\n"
     ]
    },
    {
     "data": {
      "image/png": "[encoded data removed]",
      "text/plain": [
       "<Figure size 432x288 with 1 Axes>"
      ]
     },
     "metadata": {
      "needs_background": "light"
     },
     "output_type": "display_data"
    },
    {
     "name": "stdout",
     "output_type": "stream",
     "text": [
      "0 th reconstructed image\n"
     ]
    },
    {
     "data": {
      "image/png": "[encoded data removed]",
      "text/plain": [
       "<Figure size 432x288 with 1 Axes>"
      ]
     },
     "metadata": {
      "needs_background": "light"
     },
     "output_type": "display_data"
    },
    {
     "name": "stdout",
     "output_type": "stream",
     "text": [
      "1 th validation image\n"
     ]
    },
    {
     "data": {
      "image/png": "[encoded data removed]",
      "text/plain": [
       "<Figure size 432x288 with 1 Axes>"
      ]
     },
     "metadata": {
      "needs_background": "light"
     },
     "output_type": "display_data"
    },
    {
     "name": "stdout",
     "output_type": "stream",
     "text": [
      "1 th reconstructed image\n"
     ]
    },
    {
     "data": {
      "image/png": "[encoded data removed]",
      "text/plain": [
       "<Figure size 432x288 with 1 Axes>"
      ]
     },
     "metadata": {
      "needs_background": "light"
     },
     "output_type": "display_data"
    },
    {
     "name": "stdout",
     "output_type": "stream",
     "text": [
      "2 th validation image\n"
     ]
    },
    {
     "data": {
      "image/png": "[encoded data removed]",
      "text/plain": [
       "<Figure size 432x288 with 1 Axes>"
      ]
     },
     "metadata": {
      "needs_background": "light"
     },
     "output_type": "display_data"
    },
    {
     "name": "stdout",
     "output_type": "stream",
     "text": [
      "2 th reconstructed image\n"
     ]
    },
    {
     "data": {
      "image/png": "[encoded data removed]",
      "text/plain": [
       "<Figure size 432x288 with 1 Axes>"
      ]
     },
     "metadata": {
      "needs_background": "light"
     },
     "output_type": "display_data"
    },
    {
     "name": "stdout",
     "output_type": "stream",
     "text": [
      "3 th validation image\n"
     ]
    },
    {
     "data": {
      "image/png": "[encoded data removed]",
      "text/plain": [
       "<Figure size 432x288 with 1 Axes>"
      ]
     },
     "metadata": {
      "needs_background": "light"
     },
     "output_type": "display_data"
    },
    {
     "name": "stdout",
     "output_type": "stream",
     "text": [
      "3 th reconstructed image\n"
     ]
    },
    {
     "data": {
      "image/png": "[encoded data removed]",
      "text/plain": [
       "<Figure size 432x288 with 1 Axes>"
      ]
     },
     "metadata": {
      "needs_background": "light"
     },
     "output_type": "display_data"
    },
    {
     "name": "stdout",
     "output_type": "stream",
     "text": [
      "4 th validation image\n"
     ]
    },
    {
     "data": {
      "image/png": "[encoded data removed]",
      "text/plain": [
       "<Figure size 432x288 with 1 Axes>"
      ]
     },
     "metadata": {
      "needs_background": "light"
     },
     "output_type": "display_data"
    },
    {
     "name": "stdout",
     "output_type": "stream",
     "text": [
      "4 th reconstructed image\n"
     ]
    },
    {
     "data": {
      "image/png": "[encoded data removed]",
      "text/plain": [
       "<Figure size 432x288 with 1 Axes>"
      ]
     },
     "metadata": {
      "needs_background": "light"
     },
     "output_type": "display_data"
    },
    {
     "name": "stdout",
     "output_type": "stream",
     "text": [
      "5 th validation image\n"
     ]
    },
    {
     "data": {
      "image/png": "[encoded data removed]",
      "text/plain": [
       "<Figure size 432x288 with 1 Axes>"
      ]
     },
     "metadata": {
      "needs_background": "light"
     },
     "output_type": "display_data"
    },
    {
     "name": "stdout",
     "output_type": "stream",
     "text": [
      "5 th reconstructed image\n"
     ]
    },
    {
     "data": {
      "image/png": "[encoded data removed]",
      "text/plain": [
       "<Figure size 432x288 with 1 Axes>"
      ]
     },
     "metadata": {
      "needs_background": "light"
     },
     "output_type": "display_data"
    },
    {
     "name": "stdout",
     "output_type": "stream",
     "text": [
      "6 th validation image\n"
     ]
    },
    {
     "data": {
      "image/png": "[encoded data removed]",
      "text/plain": [
       "<Figure size 432x288 with 1 Axes>"
      ]
     },
     "metadata": {
      "needs_background": "light"
     },
     "output_type": "display_data"
    },
    {
     "name": "stdout",
     "output_type": "stream",
     "text": [
      "6 th reconstructed image\n"
     ]
    },
    {
     "data": {
      "image/png": "[encoded data removed]",
      "text/plain": [
       "<Figure size 432x288 with 1 Axes>"
      ]
     },
     "metadata": {
      "needs_background": "light"
     },
     "output_type": "display_data"
    },
    {
     "name": "stdout",
     "output_type": "stream",
     "text": [
      "7 th validation image\n"
     ]
    },
    {
     "data": {
      "image/png": "[encoded data removed]",
      "text/plain": [
       "<Figure size 432x288 with 1 Axes>"
      ]
     },
     "metadata": {
      "needs_background": "light"
     },
     "output_type": "display_data"
    },
    {
     "name": "stdout",
     "output_type": "stream",
     "text": [
      "7 th reconstructed image\n"
     ]
    },
    {
     "data": {
      "image/png": "[encoded data removed]",
      "text/plain": [
       "<Figure size 432x288 with 1 Axes>"
      ]
     },
     "metadata": {
      "needs_background": "light"
     },
     "output_type": "display_data"
    },
    {
     "name": "stdout",
     "output_type": "stream",
     "text": [
      "8 th validation image\n"
     ]
    },
    {
     "data": {
      "image/png": "[encoded data removed]",
      "text/plain": [
       "<Figure size 432x288 with 1 Axes>"
      ]
     },
     "metadata": {
      "needs_background": "light"
     },
     "output_type": "display_data"
    },
    {
     "name": "stdout",
     "output_type": "stream",
     "text": [
      "8 th reconstructed image\n"
     ]
    },
    {
     "data": {
      "image/png": "[encoded data removed]",
      "text/plain": [
       "<Figure size 432x288 with 1 Axes>"
      ]
     },
     "metadata": {
      "needs_background": "light"
     },
     "output_type": "display_data"
    },
    {
     "name": "stdout",
     "output_type": "stream",
     "text": [
      "9 th validation image\n"
     ]
    },
    {
     "data": {
      "image/png": "[encoded data removed]",
      "text/plain": [
       "<Figure size 432x288 with 1 Axes>"
      ]
     },
     "metadata": {
      "needs_background": "light"
     },
     "output_type": "display_data"
    },
    {
     "name": "stdout",
     "output_type": "stream",
     "text": [
      "9 th reconstructed image\n"
     ]
    },
    {
     "data": {
      "image/png": "[encoded data removed]",
      "text/plain": [
       "<Figure size 432x288 with 1 Axes>"
      ]
     },
     "metadata": {
      "needs_background": "light"
     },
     "output_type": "display_data"
    }
   ],
   "source": [
    "pred_auto = autoencoder.predict(x_val[:10])\n",
    "\n",
    "for i in range(10):\n",
    "  print(i,'th validation image')\n",
    "  plt.imshow(x_val[i,:,:,0], cmap='gray')\n",
    "  plt.show()\n",
    "  print(i,'th reconstructed image')\n",
    "  plt.imshow(pred_auto[i,:,:,0], cmap='gray')\n",
    "  plt.show()"
   ]
  },
  {
   "cell_type": "markdown",
   "metadata": {
    "colab_type": "text",
    "id": "7b3B6mr7y84O"
   },
   "source": [
    "このプロセスは、encoderによる符号化と、decoderによる復号化の二段階に分けて考えることもできます："
   ]
  },
  {
   "cell_type": "code",
   "execution_count": 35,
   "metadata": {
    "colab": {
     "base_uri": "https://localhost:8080/",
     "height": 627
    },
    "colab_type": "code",
    "id": "BE3Lx4Yiw1hb",
    "outputId": "8be561da-ebd3-4e72-8193-e64eaec90466"
   },
   "outputs": [
    {
     "name": "stdout",
     "output_type": "stream",
     "text": [
      "WARNING:tensorflow:5 out of the last 195 calls to <function Model.make_predict_function.<locals>.predict_function at 0x7fb65c644160> triggered tf.function retracing. Tracing is expensive and the excessive number of tracings could be due to (1) creating @tf.function repeatedly in a loop, (2) passing tensors with different shapes, (3) passing Python objects instead of tensors. For (1), please define your @tf.function outside of the loop. For (2), @tf.function has experimental_relax_shapes=True option that relaxes argument shapes that can avoid unnecessary retracing. For (3), please refer to https://www.tensorflow.org/tutorials/customization/performance#python_or_tensor_args and https://www.tensorflow.org/api_docs/python/tf/function for  more details.\n",
      "WARNING:tensorflow:6 out of the last 196 calls to <function Model.make_predict_function.<locals>.predict_function at 0x7fb66005cb80> triggered tf.function retracing. Tracing is expensive and the excessive number of tracings could be due to (1) creating @tf.function repeatedly in a loop, (2) passing tensors with different shapes, (3) passing Python objects instead of tensors. For (1), please define your @tf.function outside of the loop. For (2), @tf.function has experimental_relax_shapes=True option that relaxes argument shapes that can avoid unnecessary retracing. For (3), please refer to https://www.tensorflow.org/tutorials/customization/performance#python_or_tensor_args and https://www.tensorflow.org/api_docs/python/tf/function for  more details.\n"
     ]
    },
    {
     "data": {
      "image/png": "[encoded data removed]",
      "text/plain": [
       "<Figure size 432x288 with 1 Axes>"
      ]
     },
     "metadata": {
      "needs_background": "light"
     },
     "output_type": "display_data"
    },
    {
     "data": {
      "image/png": "[encoded data removed]",
      "text/plain": [
       "<Figure size 432x288 with 1 Axes>"
      ]
     },
     "metadata": {
      "needs_background": "light"
     },
     "output_type": "display_data"
    }
   ],
   "source": [
    "# 検証画像に対する符号\n",
    "code_val = encoder.predict(x_val[:10])\n",
    "\n",
    "# 二つの検証画像に対する符号をdecode\n",
    "recon_val_0 = decoder.predict(code_val[0:1])\n",
    "recon_val_1 = decoder.predict(code_val[1:2])\n",
    "\n",
    "plt.imshow(np.squeeze(recon_val_0), cmap='gray')\n",
    "plt.show()\n",
    "\n",
    "plt.imshow(np.squeeze(recon_val_1), cmap='gray')\n",
    "plt.show()"
   ]
  },
  {
   "cell_type": "markdown",
   "metadata": {
    "colab_type": "text",
    "id": "KQSMXBlaxylc"
   },
   "source": [
    "この自己符号化器を作るencoderの32次元出力を<b>符号</b>（<b>code</b>）や<b>潜在変数</b>（<b>latent variable</b>）と呼びます。\n",
    "それは（encoder、decoderを通じて）すべての画像の情報はこのたった32個の数字の中にcodeされているからです。\n",
    "\n",
    "するとこのcodeをいじることで、出来上がる画像の様子も操作できることになります。例えば検証データの一枚目と２枚目の画像のcodeの平均値を計算して見ましょう。"
   ]
  },
  {
   "cell_type": "code",
   "execution_count": 47,
   "metadata": {
    "colab": {},
    "colab_type": "code",
    "id": "1lpK95yMxzcp"
   },
   "outputs": [],
   "source": [
    "code_intermediate = (code_val[0:1]+code_val[1:2])/2"
   ]
  },
  {
   "cell_type": "markdown",
   "metadata": {
    "colab_type": "text",
    "id": "Nb63NnBpx0LW"
   },
   "source": [
    "これは二つの画像の「中間地点」を表す潜在的な情報ですが、これをdecoderで画像に直すと"
   ]
  },
  {
   "cell_type": "code",
   "execution_count": 48,
   "metadata": {
    "colab": {
     "base_uri": "https://localhost:8080/",
     "height": 265
    },
    "colab_type": "code",
    "id": "mp3aVngPxjZa",
    "outputId": "55e49051-8418-4efe-f5dd-700c8dba9e07"
   },
   "outputs": [
    {
     "data": {
      "image/png": "[encoded data removed]",
      "text/plain": [
       "<Figure size 432x288 with 1 Axes>"
      ]
     },
     "metadata": {
      "needs_background": "light"
     },
     "output_type": "display_data"
    }
   ],
   "source": [
    "recon_val_0_plus_1 = decoder.predict(code_intermediate)\n",
    "\n",
    "plt.imshow(np.squeeze(recon_val_0_plus_1), cmap='gray')\n",
    "plt.show()"
   ]
  },
  {
   "cell_type": "markdown",
   "metadata": {
    "colab_type": "text",
    "id": "aF0FdfL_zUTo"
   },
   "source": [
    "なにやら二つの画像のキメラのようなものが作れました。\n",
    "\n",
    "平均値ではなく、二つの符号を混ぜる比率を連続的に変えてゆくと、一方の画像が連続的に他方の数字に変形していく様子が見て取れます："
   ]
  },
  {
   "cell_type": "code",
   "execution_count": 49,
   "metadata": {
    "colab": {
     "base_uri": "https://localhost:8080/",
     "height": 1000
    },
    "colab_type": "code",
    "id": "1EpzzF3dxuRp",
    "outputId": "74683e23-87d4-44bd-af75-ab6ea5f4a8d4"
   },
   "outputs": [
    {
     "data": {
      "image/png": "[encoded data removed]",
      "text/plain": [
       "<Figure size 432x288 with 1 Axes>"
      ]
     },
     "metadata": {
      "needs_background": "light"
     },
     "output_type": "display_data"
    },
    {
     "data": {
      "image/png": "[encoded data removed]",
      "text/plain": [
       "<Figure size 432x288 with 1 Axes>"
      ]
     },
     "metadata": {
      "needs_background": "light"
     },
     "output_type": "display_data"
    },
    {
     "data": {
      "image/png": "[encoded data removed]",
      "text/plain": [
       "<Figure size 432x288 with 1 Axes>"
      ]
     },
     "metadata": {
      "needs_background": "light"
     },
     "output_type": "display_data"
    },
    {
     "data": {
      "image/png": "[encoded data removed]",
      "text/plain": [
       "<Figure size 432x288 with 1 Axes>"
      ]
     },
     "metadata": {
      "needs_background": "light"
     },
     "output_type": "display_data"
    },
    {
     "data": {
      "image/png": "[encoded data removed]",
      "text/plain": [
       "<Figure size 432x288 with 1 Axes>"
      ]
     },
     "metadata": {
      "needs_background": "light"
     },
     "output_type": "display_data"
    },
    {
     "data": {
      "image/png": "[encoded data removed]",
      "text/plain": [
       "<Figure size 432x288 with 1 Axes>"
      ]
     },
     "metadata": {
      "needs_background": "light"
     },
     "output_type": "display_data"
    },
    {
     "data": {
      "image/png": "[encoded data removed]",
      "text/plain": [
       "<Figure size 432x288 with 1 Axes>"
      ]
     },
     "metadata": {
      "needs_background": "light"
     },
     "output_type": "display_data"
    },
    {
     "data": {
      "image/png": "[encoded data removed]",
      "text/plain": [
       "<Figure size 432x288 with 1 Axes>"
      ]
     },
     "metadata": {
      "needs_background": "light"
     },
     "output_type": "display_data"
    },
    {
     "data": {
      "image/png": "[encoded data removed]",
      "text/plain": [
       "<Figure size 432x288 with 1 Axes>"
      ]
     },
     "metadata": {
      "needs_background": "light"
     },
     "output_type": "display_data"
    },
    {
     "data": {
      "image/png": "[encoded data removed]",
      "text/plain": [
       "<Figure size 432x288 with 1 Axes>"
      ]
     },
     "metadata": {
      "needs_background": "light"
     },
     "output_type": "display_data"
    }
   ],
   "source": [
    "for w in np.linspace(0,1,10):\n",
    "  code_intermediate = (1-w)*code_val[0:1]+w*code_val[1:2]\n",
    "  recon_val_0_plus_1 = decoder.predict(code_intermediate)\n",
    "\n",
    "  plt.imshow(np.squeeze(recon_val_0_plus_1), cmap='gray')\n",
    "  plt.show()"
   ]
  },
  {
   "cell_type": "markdown",
   "metadata": {
    "colab_type": "text",
    "id": "At_TCGaJ0OS7"
   },
   "source": [
    "このように、ひとたび画像データの本質的情報をコントロールする（低次元）潜在変数が学習できると、その値を使うことで画像の生成を自由自在にコントロールすることが可能になっていくのです。このような考え方は、deep learning研究の最先端でも頻繁に出てくるものです。"
   ]
  },
  {
   "cell_type": "markdown",
   "metadata": {},
   "source": [
    "### 3.1 Sparse AutoEncoder"
   ]
  },
  {
   "cell_type": "code",
   "execution_count": 5,
   "metadata": {},
   "outputs": [
    {
     "name": "stdout",
     "output_type": "stream",
     "text": [
      "Epoch 1/32\n",
      "1688/1688 [==============================] - 24s 14ms/step - loss: 0.0230\n",
      "Epoch 2/32\n",
      "1688/1688 [==============================] - 9s 5ms/step - loss: 0.0075\n",
      "Epoch 3/32\n",
      "1688/1688 [==============================] - 9s 5ms/step - loss: 0.0058\n",
      "Epoch 4/32\n",
      "1688/1688 [==============================] - 9s 5ms/step - loss: 0.0050\n",
      "Epoch 5/32\n",
      "1688/1688 [==============================] - 9s 5ms/step - loss: 0.0045\n",
      "Epoch 6/32\n",
      "1688/1688 [==============================] - 9s 5ms/step - loss: 0.0042\n",
      "Epoch 7/32\n",
      "1688/1688 [==============================] - 9s 5ms/step - loss: 0.0039\n",
      "Epoch 8/32\n",
      "1688/1688 [==============================] - 9s 5ms/step - loss: 0.0037\n",
      "Epoch 9/32\n",
      "1688/1688 [==============================] - 9s 5ms/step - loss: 0.0035\n",
      "Epoch 10/32\n",
      "1688/1688 [==============================] - 9s 5ms/step - loss: 0.0034\n",
      "Epoch 11/32\n",
      "1688/1688 [==============================] - 9s 5ms/step - loss: 0.0033\n",
      "Epoch 12/32\n",
      "1688/1688 [==============================] - 9s 5ms/step - loss: 0.0032\n",
      "Epoch 13/32\n",
      "1688/1688 [==============================] - 9s 5ms/step - loss: 0.0031\n",
      "Epoch 14/32\n",
      "1688/1688 [==============================] - 9s 5ms/step - loss: 0.0030\n",
      "Epoch 15/32\n",
      "1688/1688 [==============================] - 9s 5ms/step - loss: 0.0029\n",
      "Epoch 16/32\n",
      "1688/1688 [==============================] - 9s 5ms/step - loss: 0.0029\n",
      "Epoch 17/32\n",
      "1688/1688 [==============================] - 9s 5ms/step - loss: 0.0028\n",
      "Epoch 18/32\n",
      "1688/1688 [==============================] - 9s 5ms/step - loss: 0.0028\n",
      "Epoch 19/32\n",
      "1688/1688 [==============================] - 9s 5ms/step - loss: 0.0028\n",
      "Epoch 20/32\n",
      "1688/1688 [==============================] - 9s 5ms/step - loss: 0.0027\n",
      "Epoch 21/32\n",
      "1688/1688 [==============================] - 9s 5ms/step - loss: 0.0027\n",
      "Epoch 22/32\n",
      "1688/1688 [==============================] - 9s 5ms/step - loss: 0.0026\n",
      "Epoch 23/32\n",
      "1688/1688 [==============================] - 9s 5ms/step - loss: 0.0026\n",
      "Epoch 24/32\n",
      "1688/1688 [==============================] - 9s 5ms/step - loss: 0.0026\n",
      "Epoch 25/32\n",
      "1688/1688 [==============================] - 9s 5ms/step - loss: 0.0026\n",
      "Epoch 26/32\n",
      "1688/1688 [==============================] - 9s 5ms/step - loss: 0.0025\n",
      "Epoch 27/32\n",
      "1688/1688 [==============================] - 9s 5ms/step - loss: 0.0025\n",
      "Epoch 28/32\n",
      "1688/1688 [==============================] - 9s 5ms/step - loss: 0.0025\n",
      "Epoch 29/32\n",
      "1688/1688 [==============================] - 9s 5ms/step - loss: 0.0025\n",
      "Epoch 30/32\n",
      "1688/1688 [==============================] - 9s 5ms/step - loss: 0.0024\n",
      "Epoch 31/32\n",
      "1688/1688 [==============================] - 9s 5ms/step - loss: 0.0024\n",
      "Epoch 32/32\n",
      "1688/1688 [==============================] - 9s 5ms/step - loss: 0.0024\n"
     ]
    },
    {
     "data": {
      "text/plain": [
       "<tensorflow.python.keras.callbacks.History at 0x7ff498576d90>"
      ]
     },
     "execution_count": 5,
     "metadata": {},
     "output_type": "execute_result"
    }
   ],
   "source": [
    "from tensorflow.keras.layers import  Input,Conv2D, MaxPooling2D, Conv2DTranspose, Flatten, Dense, Reshape\n",
    "from tensorflow.keras import regularizers #正則化クラス\n",
    "from tensorflow.keras import Model\n",
    "\n",
    "\n",
    "# Encoder\n",
    "input_enc_sparse = Input(shape=(28,28,1))\n",
    "x_enc_sparse = Conv2D(8, (3, 3), padding='same', activation='relu')(input_enc_sparse)\n",
    "x_enc_sparse = MaxPooling2D((2, 2))(x_enc_sparse)\n",
    "x_enc_sparse = Conv2D(16, (3, 3), padding='same', activation='relu')(x_enc_sparse)\n",
    "x_enc_sparse = MaxPooling2D((2, 2))(x_enc_sparse)\n",
    "x_enc_sparse = Flatten()(x_enc_sparse)\n",
    "#正則化を加えている ＆ 中間層を1000次元（＞入力の784次元）にしている。\n",
    "x_enc_sparse = Dense(1000, activation='relu', activity_regularizer=regularizers.l1(1e-5))(x_enc_sparse) \n",
    "encoder_sparse = Model(inputs=input_enc_sparse, outputs=x_enc_sparse)\n",
    "\n",
    "# Decoder\n",
    "#中間層の出力に合わせ、decoderの入力を1000次元に\n",
    "input_dec_sparse = Input(shape=(1000,))\n",
    "x_dec_sparse = Dense(7*7*16, activation='relu')(input_dec_sparse)\n",
    "x_dec_sparse = Reshape((7,7,16))(x_dec_sparse)\n",
    "x_dec_sparse = Conv2DTranspose(8, (2, 2), (2,2), activation='relu')(x_dec_sparse)\n",
    "x_dec_sparse = Conv2DTranspose(1, (2, 2), (2,2), activation='sigmoid')(x_dec_sparse)\n",
    "decoder_sparse = Model(inputs=input_dec_sparse, outputs=x_dec_sparse)\n",
    "\n",
    "input_auto_sparse = Input(shape=(28,28,1))\n",
    "x_auto_sparse = encoder_sparse(input_auto_sparse)\n",
    "x_auto_sparse = decoder_sparse(x_auto_sparse)\n",
    "autoencoder_sparse = Model(inputs=input_auto_sparse, outputs=x_auto_sparse)\n",
    "\n",
    "autoencoder_sparse.compile(loss='mse', optimizer='adam')\n",
    "autoencoder_sparse.fit(x_train, x_train, epochs=32)"
   ]
  },
  {
   "cell_type": "code",
   "execution_count": 6,
   "metadata": {},
   "outputs": [
    {
     "name": "stdout",
     "output_type": "stream",
     "text": [
      "Epoch 1/32\n",
      "1688/1688 [==============================] - 9s 5ms/step - loss: 0.0455\n",
      "Epoch 2/32\n",
      "1688/1688 [==============================] - 9s 5ms/step - loss: 0.0224\n",
      "Epoch 3/32\n",
      "1688/1688 [==============================] - 9s 5ms/step - loss: 0.0198\n",
      "Epoch 4/32\n",
      "1688/1688 [==============================] - 9s 5ms/step - loss: 0.0187\n",
      "Epoch 5/32\n",
      "1688/1688 [==============================] - 9s 5ms/step - loss: 0.0181\n",
      "Epoch 6/32\n",
      "1688/1688 [==============================] - 9s 5ms/step - loss: 0.0176\n",
      "Epoch 7/32\n",
      "1688/1688 [==============================] - 9s 5ms/step - loss: 0.0172\n",
      "Epoch 8/32\n",
      "1688/1688 [==============================] - 9s 5ms/step - loss: 0.0168\n",
      "Epoch 9/32\n",
      "1688/1688 [==============================] - 9s 5ms/step - loss: 0.0166\n",
      "Epoch 10/32\n",
      "1688/1688 [==============================] - 9s 5ms/step - loss: 0.0164\n",
      "Epoch 11/32\n",
      "1688/1688 [==============================] - 9s 5ms/step - loss: 0.0162\n",
      "Epoch 12/32\n",
      "1688/1688 [==============================] - 9s 5ms/step - loss: 0.0160\n",
      "Epoch 13/32\n",
      "1688/1688 [==============================] - 9s 5ms/step - loss: 0.0159\n",
      "Epoch 14/32\n",
      "1688/1688 [==============================] - 9s 5ms/step - loss: 0.0157\n",
      "Epoch 15/32\n",
      "1688/1688 [==============================] - 9s 5ms/step - loss: 0.0156\n",
      "Epoch 16/32\n",
      "1688/1688 [==============================] - 9s 5ms/step - loss: 0.0156\n",
      "Epoch 17/32\n",
      "1688/1688 [==============================] - 9s 5ms/step - loss: 0.0155\n",
      "Epoch 18/32\n",
      "1688/1688 [==============================] - 8s 5ms/step - loss: 0.0154\n",
      "Epoch 19/32\n",
      "1688/1688 [==============================] - 9s 5ms/step - loss: 0.0153\n",
      "Epoch 20/32\n",
      "1688/1688 [==============================] - 9s 5ms/step - loss: 0.0153\n",
      "Epoch 21/32\n",
      "1688/1688 [==============================] - 9s 5ms/step - loss: 0.0152\n",
      "Epoch 22/32\n",
      "1688/1688 [==============================] - 9s 5ms/step - loss: 0.0152\n",
      "Epoch 23/32\n",
      "1688/1688 [==============================] - 9s 5ms/step - loss: 0.0151\n",
      "Epoch 24/32\n",
      "1688/1688 [==============================] - 9s 5ms/step - loss: 0.0151\n",
      "Epoch 25/32\n",
      "1688/1688 [==============================] - 9s 5ms/step - loss: 0.0150\n",
      "Epoch 26/32\n",
      "1688/1688 [==============================] - 9s 5ms/step - loss: 0.0150\n",
      "Epoch 27/32\n",
      "1688/1688 [==============================] - 9s 6ms/step - loss: 0.0149\n",
      "Epoch 28/32\n",
      "1688/1688 [==============================] - 9s 5ms/step - loss: 0.0149\n",
      "Epoch 29/32\n",
      "1688/1688 [==============================] - 9s 5ms/step - loss: 0.0149\n",
      "Epoch 30/32\n",
      "1688/1688 [==============================] - 9s 5ms/step - loss: 0.0148\n",
      "Epoch 31/32\n",
      "1688/1688 [==============================] - 9s 5ms/step - loss: 0.0148\n",
      "Epoch 32/32\n",
      "1688/1688 [==============================] - 9s 5ms/step - loss: 0.0147\n"
     ]
    },
    {
     "data": {
      "text/plain": [
       "<tensorflow.python.keras.callbacks.History at 0x7ff48dca7370>"
      ]
     },
     "execution_count": 6,
     "metadata": {},
     "output_type": "execute_result"
    }
   ],
   "source": [
    "from tensorflow.keras.layers import  Flatten, Dense, Reshape\n",
    "\n",
    "# Encoder\n",
    "input_enc = Input(shape=(28,28,1))\n",
    "x_enc = Conv2D(8, (3, 3), padding='same', activation='relu')(input_enc)\n",
    "x_enc = MaxPooling2D((2, 2))(x_enc)\n",
    "x_enc = Conv2D(16, (3, 3), padding='same', activation='relu')(x_enc)\n",
    "x_enc = MaxPooling2D((2, 2))(x_enc)\n",
    "x_enc = Flatten()(x_enc)\n",
    "x_enc = Dense(32, activation='relu')(x_enc)\n",
    "encoder = Model(inputs=input_enc, outputs=x_enc)\n",
    "\n",
    "# Decoder\n",
    "input_dec = Input(shape=(32,))\n",
    "x_dec = Dense(7*7*16, activation='relu')(input_dec)\n",
    "x_dec = Reshape((7,7,16))(x_dec)\n",
    "x_dec = Conv2DTranspose(8, (2, 2), (2,2), activation='relu')(x_dec)\n",
    "x_dec = Conv2DTranspose(1, (2, 2), (2,2), activation='sigmoid')(x_dec)\n",
    "decoder = Model(inputs=input_dec, outputs=x_dec)\n",
    "\n",
    "\n",
    "input_auto = Input(shape=(28,28,1))\n",
    "x_auto = encoder(input_auto)\n",
    "x_auto = decoder(x_auto)\n",
    "autoencoder = Model(inputs=input_auto, outputs=x_auto)\n",
    "\n",
    "autoencoder.compile(loss='mse', optimizer='adam')\n",
    "autoencoder.fit(x_train, x_train, epochs=32)"
   ]
  },
  {
   "cell_type": "code",
   "execution_count": 8,
   "metadata": {},
   "outputs": [
    {
     "data": {
      "image/png": "[encoded data removed]",
      "text/plain": [
       "<Figure size 432x288 with 1 Axes>"
      ]
     },
     "metadata": {
      "needs_background": "light"
     },
     "output_type": "display_data"
    },
    {
     "data": {
      "image/png": "[encoded data removed]",
      "text/plain": [
       "<Figure size 432x288 with 1 Axes>"
      ]
     },
     "metadata": {
      "needs_background": "light"
     },
     "output_type": "display_data"
    },
    {
     "data": {
      "image/png": "[encoded data removed]",
      "text/plain": [
       "<Figure size 432x288 with 1 Axes>"
      ]
     },
     "metadata": {
      "needs_background": "light"
     },
     "output_type": "display_data"
    },
    {
     "data": {
      "image/png": "[encoded data removed]",
      "text/plain": [
       "<Figure size 432x288 with 1 Axes>"
      ]
     },
     "metadata": {
      "needs_background": "light"
     },
     "output_type": "display_data"
    },
    {
     "data": {
      "image/png": "[encoded data removed]",
      "text/plain": [
       "<Figure size 432x288 with 1 Axes>"
      ]
     },
     "metadata": {
      "needs_background": "light"
     },
     "output_type": "display_data"
    },
    {
     "data": {
      "image/png": "[encoded data removed]",
      "text/plain": [
       "<Figure size 432x288 with 1 Axes>"
      ]
     },
     "metadata": {
      "needs_background": "light"
     },
     "output_type": "display_data"
    },
    {
     "data": {
      "image/png": "[encoded data removed]",
      "text/plain": [
       "<Figure size 432x288 with 1 Axes>"
      ]
     },
     "metadata": {
      "needs_background": "light"
     },
     "output_type": "display_data"
    },
    {
     "data": {
      "image/png": "[encoded data removed]",
      "text/plain": [
       "<Figure size 432x288 with 1 Axes>"
      ]
     },
     "metadata": {
      "needs_background": "light"
     },
     "output_type": "display_data"
    },
    {
     "data": {
      "image/png": "[encoded data removed]",
      "text/plain": [
       "<Figure size 432x288 with 1 Axes>"
      ]
     },
     "metadata": {
      "needs_background": "light"
     },
     "output_type": "display_data"
    },
    {
     "data": {
      "image/png": "[encoded data removed]",
      "text/plain": [
       "<Figure size 432x288 with 1 Axes>"
      ]
     },
     "metadata": {
      "needs_background": "light"
     },
     "output_type": "display_data"
    }
   ],
   "source": [
    "preds_normal = autoencoder.predict(x_val[:10])\n",
    "preds_sparse = autoencoder_sparse.predict(x_val[:10])\n",
    "\n",
    "for i in range(10):\n",
    "  img = np.squeeze(np.concatenate([x_val[i],preds_normal[i], preds_sparse[i]], axis=1))\n",
    "  plt.imshow(img, cmap='gray')\n",
    "  plt.show()"
   ]
  },
  {
   "cell_type": "markdown",
   "metadata": {},
   "source": [
    "## 3.2 Denoising Encoder"
   ]
  },
  {
   "cell_type": "code",
   "execution_count": 74,
   "metadata": {},
   "outputs": [],
   "source": [
    "import numpy as np\n",
    "def add_noise(src):\n",
    "    row, col, ch = src.shape\n",
    "    mean = 0\n",
    "    sigma = 0.1\n",
    "    gauss = np.random.normal(mean, sigma, (row, col, ch))\n",
    "    gauss = gauss.reshape(row, col, ch)\n",
    "    noisy = src + gauss\n",
    "    return noisy"
   ]
  },
  {
   "cell_type": "code",
   "execution_count": 82,
   "metadata": {},
   "outputs": [
    {
     "data": {
      "text/plain": [
       "<matplotlib.image.AxesImage at 0x7ff499783eb0>"
      ]
     },
     "execution_count": 82,
     "metadata": {},
     "output_type": "execute_result"
    },
    {
     "data": {
      "image/png": "[encoded data removed]",
      "text/plain": [
       "<Figure size 432x288 with 1 Axes>"
      ]
     },
     "metadata": {
      "needs_background": "light"
     },
     "output_type": "display_data"
    }
   ],
   "source": [
    "x_train_noisy = [add_noise(n) for n in x_train]\n",
    "x_train_noisy = np.array(x_train_noisy)"
   ]
  },
  {
   "cell_type": "code",
   "execution_count": 83,
   "metadata": {},
   "outputs": [
    {
     "data": {
      "image/png": "[encoded data removed]",
      "text/plain": [
       "<Figure size 432x288 with 1 Axes>"
      ]
     },
     "metadata": {
      "needs_background": "light"
     },
     "output_type": "display_data"
    },
    {
     "data": {
      "image/png": "[encoded data removed]",
      "text/plain": [
       "<Figure size 432x288 with 1 Axes>"
      ]
     },
     "metadata": {
      "needs_background": "light"
     },
     "output_type": "display_data"
    }
   ],
   "source": [
    "x = x_train[:2]\n",
    "x_noisy = x_train_noisy[:2]\n",
    "\n",
    "for i in range(2):\n",
    "  img = np.squeeze(np.concatenate([x[i],x_noisy[i]], axis=1))\n",
    "  plt.imshow(img, cmap='gray')\n",
    "  plt.show()"
   ]
  },
  {
   "cell_type": "code",
   "execution_count": 84,
   "metadata": {},
   "outputs": [
    {
     "name": "stdout",
     "output_type": "stream",
     "text": [
      "Epoch 1/32\n",
      "1688/1688 [==============================] - 9s 5ms/step - loss: 0.0154\n",
      "Epoch 2/32\n",
      "1688/1688 [==============================] - 8s 5ms/step - loss: 0.0153\n",
      "Epoch 3/32\n",
      "1688/1688 [==============================] - 9s 5ms/step - loss: 0.0152\n",
      "Epoch 4/32\n",
      "1688/1688 [==============================] - 8s 5ms/step - loss: 0.0152\n",
      "Epoch 5/32\n",
      "1688/1688 [==============================] - 8s 5ms/step - loss: 0.0151\n",
      "Epoch 6/32\n",
      "1688/1688 [==============================] - 9s 5ms/step - loss: 0.0151\n",
      "Epoch 7/32\n",
      "1688/1688 [==============================] - 9s 5ms/step - loss: 0.0151\n",
      "Epoch 8/32\n",
      "1688/1688 [==============================] - 9s 5ms/step - loss: 0.0150\n",
      "Epoch 9/32\n",
      "1688/1688 [==============================] - 9s 5ms/step - loss: 0.0150\n",
      "Epoch 10/32\n",
      "1688/1688 [==============================] - 9s 5ms/step - loss: 0.0150\n",
      "Epoch 11/32\n",
      "1688/1688 [==============================] - 9s 5ms/step - loss: 0.0150\n",
      "Epoch 12/32\n",
      "1688/1688 [==============================] - 9s 5ms/step - loss: 0.0149\n",
      "Epoch 13/32\n",
      "1688/1688 [==============================] - 8s 5ms/step - loss: 0.0149\n",
      "Epoch 14/32\n",
      "1688/1688 [==============================] - 9s 5ms/step - loss: 0.0149\n",
      "Epoch 15/32\n",
      "1688/1688 [==============================] - 9s 5ms/step - loss: 0.0148\n",
      "Epoch 16/32\n",
      "1688/1688 [==============================] - 9s 5ms/step - loss: 0.0148\n",
      "Epoch 17/32\n",
      "1688/1688 [==============================] - 9s 5ms/step - loss: 0.0148\n",
      "Epoch 18/32\n",
      "1688/1688 [==============================] - 9s 5ms/step - loss: 0.0148\n",
      "Epoch 19/32\n",
      "1688/1688 [==============================] - 9s 5ms/step - loss: 0.0147\n",
      "Epoch 20/32\n",
      "1688/1688 [==============================] - 9s 5ms/step - loss: 0.0147\n",
      "Epoch 21/32\n",
      "1688/1688 [==============================] - 9s 5ms/step - loss: 0.0147\n",
      "Epoch 22/32\n",
      "1688/1688 [==============================] - 9s 5ms/step - loss: 0.0147\n",
      "Epoch 23/32\n",
      "1688/1688 [==============================] - 9s 5ms/step - loss: 0.0146\n",
      "Epoch 24/32\n",
      "1688/1688 [==============================] - 8s 5ms/step - loss: 0.0146\n",
      "Epoch 25/32\n",
      "1688/1688 [==============================] - 9s 5ms/step - loss: 0.0146\n",
      "Epoch 26/32\n",
      "1688/1688 [==============================] - 9s 5ms/step - loss: 0.0146\n",
      "Epoch 27/32\n",
      "1688/1688 [==============================] - 9s 5ms/step - loss: 0.0146\n",
      "Epoch 28/32\n",
      "1688/1688 [==============================] - 9s 5ms/step - loss: 0.0146\n",
      "Epoch 29/32\n",
      "1688/1688 [==============================] - 9s 5ms/step - loss: 0.0146\n",
      "Epoch 30/32\n",
      "1688/1688 [==============================] - 9s 5ms/step - loss: 0.0146\n",
      "Epoch 31/32\n",
      "1688/1688 [==============================] - 9s 5ms/step - loss: 0.0145\n",
      "Epoch 32/32\n",
      "1688/1688 [==============================] - 9s 5ms/step - loss: 0.0145\n"
     ]
    },
    {
     "data": {
      "text/plain": [
       "<tensorflow.python.keras.callbacks.History at 0x7ff48dd26c40>"
      ]
     },
     "execution_count": 84,
     "metadata": {},
     "output_type": "execute_result"
    }
   ],
   "source": [
    "input_auto = Input(shape=(28,28,1))\n",
    "x_auto = encoder(input_auto)\n",
    "x_auto = decoder(x_auto)\n",
    "autoencoder_noisy = Model(inputs=input_auto, outputs=x_auto)\n",
    "\n",
    "autoencoder_noisy.compile(loss='mse', optimizer='adam')\n",
    "autoencoder_noisy.fit(x_train_noisy, x_train, epochs=32)"
   ]
  },
  {
   "cell_type": "code",
   "execution_count": 85,
   "metadata": {},
   "outputs": [
    {
     "name": "stdout",
     "output_type": "stream",
     "text": [
      "0 th validation image\n"
     ]
    },
    {
     "data": {
      "image/png": "[encoded data removed]",
      "text/plain": [
       "<Figure size 432x288 with 1 Axes>"
      ]
     },
     "metadata": {
      "needs_background": "light"
     },
     "output_type": "display_data"
    },
    {
     "name": "stdout",
     "output_type": "stream",
     "text": [
      "0 th reconstructed image\n"
     ]
    },
    {
     "data": {
      "image/png": "[encoded data removed]",
      "text/plain": [
       "<Figure size 432x288 with 1 Axes>"
      ]
     },
     "metadata": {
      "needs_background": "light"
     },
     "output_type": "display_data"
    },
    {
     "name": "stdout",
     "output_type": "stream",
     "text": [
      "1 th validation image\n"
     ]
    },
    {
     "data": {
      "image/png": "[encoded data removed]",
      "text/plain": [
       "<Figure size 432x288 with 1 Axes>"
      ]
     },
     "metadata": {
      "needs_background": "light"
     },
     "output_type": "display_data"
    },
    {
     "name": "stdout",
     "output_type": "stream",
     "text": [
      "1 th reconstructed image\n"
     ]
    },
    {
     "data": {
      "image/png": "[encoded data removed]",
      "text/plain": [
       "<Figure size 432x288 with 1 Axes>"
      ]
     },
     "metadata": {
      "needs_background": "light"
     },
     "output_type": "display_data"
    },
    {
     "name": "stdout",
     "output_type": "stream",
     "text": [
      "2 th validation image\n"
     ]
    },
    {
     "data": {
      "image/png": "[encoded data removed]",
      "text/plain": [
       "<Figure size 432x288 with 1 Axes>"
      ]
     },
     "metadata": {
      "needs_background": "light"
     },
     "output_type": "display_data"
    },
    {
     "name": "stdout",
     "output_type": "stream",
     "text": [
      "2 th reconstructed image\n"
     ]
    },
    {
     "data": {
      "image/png": "[encoded data removed]",
      "text/plain": [
       "<Figure size 432x288 with 1 Axes>"
      ]
     },
     "metadata": {
      "needs_background": "light"
     },
     "output_type": "display_data"
    },
    {
     "name": "stdout",
     "output_type": "stream",
     "text": [
      "3 th validation image\n"
     ]
    },
    {
     "data": {
      "image/png": "[encoded data removed]",
      "text/plain": [
       "<Figure size 432x288 with 1 Axes>"
      ]
     },
     "metadata": {
      "needs_background": "light"
     },
     "output_type": "display_data"
    },
    {
     "name": "stdout",
     "output_type": "stream",
     "text": [
      "3 th reconstructed image\n"
     ]
    },
    {
     "data": {
      "image/png": "[encoded data removed]",
      "text/plain": [
       "<Figure size 432x288 with 1 Axes>"
      ]
     },
     "metadata": {
      "needs_background": "light"
     },
     "output_type": "display_data"
    },
    {
     "name": "stdout",
     "output_type": "stream",
     "text": [
      "4 th validation image\n"
     ]
    },
    {
     "data": {
      "image/png": "[encoded data removed]",
      "text/plain": [
       "<Figure size 432x288 with 1 Axes>"
      ]
     },
     "metadata": {
      "needs_background": "light"
     },
     "output_type": "display_data"
    },
    {
     "name": "stdout",
     "output_type": "stream",
     "text": [
      "4 th reconstructed image\n"
     ]
    },
    {
     "data": {
      "image/png": "[encoded data removed]",
      "text/plain": [
       "<Figure size 432x288 with 1 Axes>"
      ]
     },
     "metadata": {
      "needs_background": "light"
     },
     "output_type": "display_data"
    },
    {
     "name": "stdout",
     "output_type": "stream",
     "text": [
      "5 th validation image\n"
     ]
    },
    {
     "data": {
      "image/png": "[encoded data removed]",
      "text/plain": [
       "<Figure size 432x288 with 1 Axes>"
      ]
     },
     "metadata": {
      "needs_background": "light"
     },
     "output_type": "display_data"
    },
    {
     "name": "stdout",
     "output_type": "stream",
     "text": [
      "5 th reconstructed image\n"
     ]
    },
    {
     "data": {
      "image/png": "[encoded data removed]",
      "text/plain": [
       "<Figure size 432x288 with 1 Axes>"
      ]
     },
     "metadata": {
      "needs_background": "light"
     },
     "output_type": "display_data"
    },
    {
     "name": "stdout",
     "output_type": "stream",
     "text": [
      "6 th validation image\n"
     ]
    },
    {
     "data": {
      "image/png": "[encoded data removed]",
      "text/plain": [
       "<Figure size 432x288 with 1 Axes>"
      ]
     },
     "metadata": {
      "needs_background": "light"
     },
     "output_type": "display_data"
    },
    {
     "name": "stdout",
     "output_type": "stream",
     "text": [
      "6 th reconstructed image\n"
     ]
    },
    {
     "data": {
      "image/png": "[encoded data removed]",
      "text/plain": [
       "<Figure size 432x288 with 1 Axes>"
      ]
     },
     "metadata": {
      "needs_background": "light"
     },
     "output_type": "display_data"
    },
    {
     "name": "stdout",
     "output_type": "stream",
     "text": [
      "7 th validation image\n"
     ]
    },
    {
     "data": {
      "image/png": "[encoded data removed]",
      "text/plain": [
       "<Figure size 432x288 with 1 Axes>"
      ]
     },
     "metadata": {
      "needs_background": "light"
     },
     "output_type": "display_data"
    },
    {
     "name": "stdout",
     "output_type": "stream",
     "text": [
      "7 th reconstructed image\n"
     ]
    },
    {
     "data": {
      "image/png": "[encoded data removed]",
      "text/plain": [
       "<Figure size 432x288 with 1 Axes>"
      ]
     },
     "metadata": {
      "needs_background": "light"
     },
     "output_type": "display_data"
    },
    {
     "name": "stdout",
     "output_type": "stream",
     "text": [
      "8 th validation image\n"
     ]
    },
    {
     "data": {
      "image/png": "[encoded data removed]",
      "text/plain": [
       "<Figure size 432x288 with 1 Axes>"
      ]
     },
     "metadata": {
      "needs_background": "light"
     },
     "output_type": "display_data"
    },
    {
     "name": "stdout",
     "output_type": "stream",
     "text": [
      "8 th reconstructed image\n"
     ]
    },
    {
     "data": {
      "image/png": "[encoded data removed]",
      "text/plain": [
       "<Figure size 432x288 with 1 Axes>"
      ]
     },
     "metadata": {
      "needs_background": "light"
     },
     "output_type": "display_data"
    },
    {
     "name": "stdout",
     "output_type": "stream",
     "text": [
      "9 th validation image\n"
     ]
    },
    {
     "data": {
      "image/png": "[encoded data removed]",
      "text/plain": [
       "<Figure size 432x288 with 1 Axes>"
      ]
     },
     "metadata": {
      "needs_background": "light"
     },
     "output_type": "display_data"
    },
    {
     "name": "stdout",
     "output_type": "stream",
     "text": [
      "9 th reconstructed image\n"
     ]
    },
    {
     "data": {
      "image/png": "[encoded data removed]",
      "text/plain": [
       "<Figure size 432x288 with 1 Axes>"
      ]
     },
     "metadata": {
      "needs_background": "light"
     },
     "output_type": "display_data"
    }
   ],
   "source": [
    "pred_auto = autoencoder_noisy.predict(x_val[:10])\n",
    "\n",
    "for i in range(10):\n",
    "  print(i,'th validation image')\n",
    "  plt.imshow(x_val[i,:,:,0], cmap='gray')\n",
    "  plt.show()\n",
    "  print(i,'th reconstructed image')\n",
    "  plt.imshow(pred_auto[i,:,:,0], cmap='gray')\n",
    "  plt.show()"
   ]
  },
  {
   "cell_type": "code",
   "execution_count": null,
   "metadata": {
    "colab": {},
    "colab_type": "code",
    "id": "NCGhhGqvzfUC"
   },
   "outputs": [],
   "source": []
  }
 ],
 "metadata": {
  "accelerator": "GPU",
  "colab": {
   "collapsed_sections": [],
   "name": "A_thousand_ball_drill0909.ipynb のコピー",
   "provenance": []
  },
  "kernelspec": {
   "display_name": "Python 3",
   "language": "python",
   "name": "python3"
  },
  "language_info": {
   "codemirror_mode": {
    "name": "ipython",
    "version": 3
   },
   "file_extension": ".py",
   "mimetype": "text/x-python",
   "name": "python",
   "nbconvert_exporter": "python",
   "pygments_lexer": "ipython3",
   "version": "3.8.3"
  },
  "latex_envs": {
   "LaTeX_envs_menu_present": true,
   "autoclose": false,
   "autocomplete": true,
   "bibliofile": "biblio.bib",
   "cite_by": "apalike",
   "current_citInitial": 1,
   "eqLabelWithNumbers": true,
   "eqNumInitial": 1,
   "hotkeys": {
    "equation": "Ctrl-E",
    "itemize": "Ctrl-I"
   },
   "labels_anchors": false,
   "latex_user_defs": false,
   "report_style_numbering": false,
   "user_envs_cfg": false
  },
  "varInspector": {
   "cols": {
    "lenName": 16,
    "lenType": 16,
    "lenVar": 40
   },
   "kernels_config": {
    "python": {
     "delete_cmd_postfix": "",
     "delete_cmd_prefix": "del ",
     "library": "var_list.py",
     "varRefreshCmd": "print(var_dic_list())"
    },
    "r": {
     "delete_cmd_postfix": ") ",
     "delete_cmd_prefix": "rm(",
     "library": "var_list.r",
     "varRefreshCmd": "cat(var_dic_list()) "
    }
   },
   "types_to_exclude": [
    "module",
    "function",
    "builtin_function_or_method",
    "instance",
    "_Feature"
   ],
   "window_display": false
  }
 },
 "nbformat": 4,
 "nbformat_minor": 4
}
