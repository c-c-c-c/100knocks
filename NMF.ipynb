{
 "cells": [
  {
   "cell_type": "markdown",
   "metadata": {
    "id": "B0ft8zm_LCNh"
   },
   "source": [
    "# <center>非負値行列因子分解NMF</center>\n",
    "\n",
    "行列の扱いの練習として、非負値行列因子分解の詳細を理解してみよう。"
   ]
  },
  {
   "cell_type": "markdown",
   "metadata": {
    "id": "yAafhL8TEl3e"
   },
   "source": [
    "## 欠損値のある場合の非負値行列因子分解\n",
    "\n",
    "https://papers.nips.cc/paper/1861-algorithms-for-non-negative-matrix-factorization.pdf\n",
    "\n",
    "行列因子分解では、関心のある行列$X$が二つの(長方形)行列の積で表されていると仮定する：\n",
    "\n",
    "$$\n",
    "X\\approx WH\n",
    "$$\n",
    "\n",
    "今回は、この$X$の成分の一部が欠損している時、そこを補完する機械学習手法である非負値行列因子分解を理解する。\n",
    "\n",
    "行列の要素のうち、欠損のある部分を指し示すマスクを$m_{ij}$とする：\n",
    "\n",
    "$$\n",
    "m_{ij}=\\left\\{\n",
    "\\begin{array}{ll}\n",
    "0 \\quad x_{ij}=None\\\\\n",
    "1 \\quad otherwise\n",
    "\\end{array}\n",
    "\\right.\n",
    "$$\n",
    "\n",
    "そこで$X\\approx WH$という行列分解を与える$W$と$H$を学習させて、そのついでに欠損値も補うことを考える。そのために、欠損値以外の場所で$X$と$WH$が近づくように、次の目的関数を最小化することを考えよう：\n",
    "$$\n",
    "L=\n",
    "\\frac{1}{2}\n",
    "\\|M\\odot(X-WH)\\|^2_F\n",
    "=\n",
    "\\frac{1}{2}\n",
    "\\sum_{i,j}m_{ij}\\left(x_{ij}-\n",
    "\\sum_kw_{ik}h_{kj}\\right)^2\n",
    "$$\n",
    "\n",
    "行列のフロベニウムノルム$\\|\\|^2_F$は、行列の各要素の二乗和のことである。"
   ]
  },
  {
   "cell_type": "markdown",
   "metadata": {
    "id": "duHPsXIJG549"
   },
   "source": [
    "# アルゴリズムの導出"
   ]
  },
  {
   "cell_type": "markdown",
   "metadata": {
    "id": "iEqOcZK0El3p"
   },
   "source": [
    "$\\sum_kc_k=1$なる任意の係数を用いると、二次関数は下に凸なので\n",
    "$$\n",
    "\\left(\n",
    "\\sum_kw_{ik}h_{kj}\\right)^2\n",
    "=\n",
    "\\left(\n",
    "\\sum_kc_k\n",
    "\\frac{w_{ik}h_{kj}}{c_k}\n",
    "\\right)^2\n",
    "\\leq\n",
    "\\sum_kc_k\n",
    "\\left(\\frac{w_{ik}h_{kj}}{c_k}\n",
    "\\right)^2\n",
    "$$\n"
   ]
  },
  {
   "cell_type": "markdown",
   "metadata": {
    "id": "X6KBM6CGEl3q"
   },
   "source": [
    "すると目的関数$L\\geq0$は次の様に上から押さえられる\n",
    "$$\n",
    "L\n",
    "=\n",
    "\\frac{1}{2}\n",
    "\\sum_{i,j}m_{ij}\\left(x_{ij}^2\n",
    "-2\n",
    "x_{ij}\n",
    "\\sum_kw_{ik}h_{kj}\n",
    "+\n",
    "\\left(\\sum_kw_{ik}h_{kj}\\right)^2\\right)\n",
    "\\leq\n",
    "\\frac{1}{2}\n",
    "\\sum_{i,j}m_{ij}\\left(x_{ij}^2\n",
    "-2\n",
    "x_{ij}\n",
    "\\sum_kw_{ik}h_{kj}\n",
    "+\n",
    "\\sum_{k'}\n",
    "\\frac{(w_{ik'}h_{k'j})^2}{c_{k'ij}}\n",
    "\\right)\n",
    "$$\n",
    "\n",
    "ここで\n",
    "$$\n",
    "c_{kij}=\n",
    "\\frac{w_{ik}h_{kj}}{\\sum_{k'}w_{ik'}h_{k'j}}\n",
    "$$\n",
    "と選ぶこと、等号が成り立つことに注意:\n",
    "$$\n",
    "L\n",
    "=\n",
    "\\frac{1}{2}\n",
    "\\sum_{i,j}m_{ij}\\left(x_{ij}^2\n",
    "-2\n",
    "x_{ij}\n",
    "\\sum_kw_{ik}h_{kj}\n",
    "+\n",
    "\\left(\\sum_kw_{ik}h_{kj}\\right)^2\\right)\n",
    "\\leq\n",
    "\\frac{1}{2}\n",
    "\\sum_{i,j}m_{ij}\\left(x_{ij}^2\n",
    "-2\n",
    "x_{ij}\n",
    "\\sum_kw_{ik}h_{kj}\n",
    "+\n",
    "\\sum_kw_{ik}h_{kj}\\sum_{k'}w_{ik'}h_{k'j}\n",
    "\\right)\n",
    "$$\n",
    "\n",
    "つまり、このように$c$を選べば、右辺の最小化は左辺の最小化と同じ答えを与える。"
   ]
  },
  {
   "cell_type": "markdown",
   "metadata": {
    "id": "sTUrwy-BEl3r"
   },
   "source": [
    "そこで、次の目的関数\n",
    "\n",
    "$$\n",
    "L'\n",
    "=\n",
    "\\frac{1}{2}\n",
    "\\sum_{i,j}m_{ij}\\left(x_{ij}^2\n",
    "-2\n",
    "x_{ij}\n",
    "\\sum_kw_{ik}h_{kj}\n",
    "+\n",
    "\\sum_{k'}\\frac{\\left(w_{ik'}h_{k'j}\\right)^2}{c_{k'ij}}\n",
    "\\right)\n",
    "$$\n",
    "\n",
    "の最小値を求めると、次のようになる"
   ]
  },
  {
   "cell_type": "markdown",
   "metadata": {
    "id": "1b6KnDimEl3r"
   },
   "source": [
    "$$\n",
    "\\frac{\\partial L'}{\\partial w_{ik}}=\n",
    "\\sum_{j}m_{ij}h_{kj}\n",
    "\\left(-x_{ij}\n",
    "+\n",
    "\\frac{w_{ik}h_{kj}}{c_{kij}}\\right)=0\n",
    "$$"
   ]
  },
  {
   "cell_type": "markdown",
   "metadata": {
    "id": "ZTyI-xnREl3s"
   },
   "source": [
    "$$\n",
    "w_{ik}=\\frac{\\sum_{j}m_{ij}h_{kj}x_{ij}}{\\sum_j\\frac{m_{ij}h_{kj}h_{kj}}{c_{kij}}}\n",
    "$$"
   ]
  },
  {
   "cell_type": "markdown",
   "metadata": {
    "id": "_4u34HCsEl3s"
   },
   "source": [
    "これに上の特殊な$c$の値を代入して元の目的関数の最小値を求めると\n",
    "\n",
    "$$\n",
    "w_{ik}=w_{ik}\\frac{\\sum_{j}m_{ij}h_{kj}x_{ij}}{\\sum_jm_{ij}h_{kj}\\sum_{k'}w_{ik'}h_{k'j}}\n",
    "$$\n",
    "\n",
    "$$\n",
    "h_{kj}=h_{kj}\\frac{\\sum_{i}m_{ij}w_{ik}x_{ij}}{\\sum_im_{ij}w_{ik}\\sum_{k'}w_{ik'}h_{k'j}}\n",
    "$$"
   ]
  },
  {
   "cell_type": "markdown",
   "metadata": {
    "id": "ZIazW_KbEl3t"
   },
   "source": [
    "この方程式を行列で書けば\n",
    "\n",
    "$$\n",
    "W=W\\frac{M\\odot(XH^\\top)}{\\left(M\\odot(WH)\\right)H^\\top}\n",
    "$$\n",
    "\n",
    "$$\n",
    "H=H\\frac{M\\odot(W^\\top X)}{W^\\top\\left(M\\odot(WH)\\right)}\n",
    "$$"
   ]
  },
  {
   "cell_type": "markdown",
   "metadata": {
    "id": "o5THU-wxEl3u"
   },
   "source": [
    "この方程式を厳密に解くことはできなが、次の更新式を繰り返すことで求める解に収束することを利用しよう：\n",
    "\n",
    "$$\n",
    "W\\leftarrow W\\frac{M\\odot(XH^\\top)}{\\left(M\\odot(WH)\\right)H^\\top}\n",
    "$$\n",
    "\n",
    "$$\n",
    "H\\leftarrow H\\frac{M\\odot(W^\\top X)}{W^\\top\\left(M\\odot(WH)\\right)}\n",
    "$$"
   ]
  },
  {
   "cell_type": "markdown",
   "metadata": {
    "id": "yGfiUxBJ0Wrb"
   },
   "source": [
    "# NumPyによる実装\n",
    "\n",
    "先ほどの結果を、NumPyを使って実装してみましょう。$W$と$H$の更新プロセスは次の簡単な関数として実装できます："
   ]
  },
  {
   "cell_type": "code",
   "execution_count": 2,
   "metadata": {
    "collapsed": true,
    "executionInfo": {
     "elapsed": 886,
     "status": "ok",
     "timestamp": 1615980304463,
     "user": {
      "displayName": "MASATO TAKI",
      "photoUrl": "",
      "userId": "08030848886777368924"
     },
     "user_tz": -540
    },
    "id": "jnGRlTxJEl3v"
   },
   "outputs": [],
   "source": [
    "import numpy as np\n",
    "\n",
    "def nmf_update(X, W, H, M):\n",
    "    W = W * ((X*M) @ H.T) / (((W@H) * M) @ H.T)\n",
    "    H = H * (W.T @ (X * M)) / (W.T @ ((W @ H) * M))\n",
    "    return W, H"
   ]
  },
  {
   "cell_type": "markdown",
   "metadata": {
    "id": "B03GSDR00mkN"
   },
   "source": [
    "これをLFWの顔データに使ってみましょう"
   ]
  },
  {
   "cell_type": "code",
   "execution_count": 1,
   "metadata": {
    "collapsed": true,
    "executionInfo": {
     "elapsed": 1455,
     "status": "ok",
     "timestamp": 1615980299350,
     "user": {
      "displayName": "MASATO TAKI",
      "photoUrl": "",
      "userId": "08030848886777368924"
     },
     "user_tz": -540
    },
    "id": "UJRUPtGlEl3u"
   },
   "outputs": [],
   "source": [
    "from sklearn.datasets import fetch_lfw_people\n",
    "\n",
    "lfw = fetch_lfw_people(min_faces_per_person=100)\n",
    "x = lfw.images"
   ]
  },
  {
   "cell_type": "markdown",
   "metadata": {
    "id": "ea8Vs3f20q3B"
   },
   "source": [
    "このデータから１枚持ってくる"
   ]
  },
  {
   "cell_type": "code",
   "execution_count": null,
   "metadata": {
    "id": "rXnbCfZ3ohGS"
   },
   "outputs": [],
   "source": [
    "import matplotlib.pyplot as plt\n",
    "%matplotlib inline\n",
    "\n",
    "img = x[0,::2,::2]\n",
    "img = img[4:-3,:]\n",
    "\n",
    "plt.imshow(img, cmap='gray')\n",
    "plt.axis(\"off\")\n",
    "plt.show()"
   ]
  },
  {
   "cell_type": "markdown",
   "metadata": {
    "id": "LNIw9ZE60zBX"
   },
   "source": [
    "これに次にようにマスクで欠損を入れたデータを用意する："
   ]
  },
  {
   "cell_type": "code",
   "execution_count": null,
   "metadata": {
    "id": "qqKLnhPwoyM5"
   },
   "outputs": [],
   "source": [
    "h, w = img.shape\n",
    "M = np.ones(w*w)\n",
    "\n",
    "idxes = np.random.choice(list(range(w*w)),64 )\n",
    "M[idxes]=0\n",
    "M = M.reshape((w,w))\n",
    "\n",
    "X = M*img/255\n",
    "\n",
    "plt.imshow(X, cmap='gray')\n",
    "plt.axis(\"off\")\n",
    "plt.show()"
   ]
  },
  {
   "cell_type": "markdown",
   "metadata": {
    "id": "pw3zxcWM05dA"
   },
   "source": [
    "この欠損画像は、非負値行列因子分解で次のように補完される"
   ]
  },
  {
   "cell_type": "code",
   "execution_count": null,
   "metadata": {
    "id": "F4ikqhYmpuar"
   },
   "outputs": [],
   "source": [
    "W = np.random.rand(h, w)\n",
    "H = np.random.rand(h, w)\n",
    "\n",
    "for _ in range(1000):\n",
    "    W, H = nmf_update(X, W, H, M)"
   ]
  },
  {
   "cell_type": "markdown",
   "metadata": {
    "id": "voJsxDZM1JCT"
   },
   "source": [
    "補完後の画像`W@H`は"
   ]
  },
  {
   "cell_type": "code",
   "execution_count": null,
   "metadata": {
    "id": "pVCB6pHEwEmE"
   },
   "outputs": [],
   "source": [
    "plt.imshow(W@H, cmap='gray')\n",
    "plt.axis(\"off\")\n",
    "plt.show()"
   ]
  },
  {
   "cell_type": "markdown",
   "metadata": {
    "id": "hS6KHxX0za9G"
   },
   "source": [
    "補われたピクセルだけを表示して見ると"
   ]
  },
  {
   "cell_type": "code",
   "execution_count": null,
   "metadata": {
    "id": "YPClcWGHEl3y"
   },
   "outputs": [],
   "source": [
    "plt.imshow((1-M)*(W@H), cmap='gray')\n",
    "plt.axis(\"off\")\n",
    "plt.show()"
   ]
  },
  {
   "cell_type": "markdown",
   "metadata": {
    "id": "mwRvg7ED7s9Q"
   },
   "source": [
    "# 欠損値なしの時の非負行列因子分解\n",
    "\n",
    "簡単な欠損値なしの場合に`X=W@H`を解くのは、簡単にsklearnが使える。今度はLFWデータセット全体の計画行列を行列因子分解しよう："
   ]
  },
  {
   "cell_type": "code",
   "execution_count": 40,
   "metadata": {
    "colab": {
     "base_uri": "https://localhost:8080/"
    },
    "executionInfo": {
     "elapsed": 1088,
     "status": "ok",
     "timestamp": 1615980948618,
     "user": {
      "displayName": "MASATO TAKI",
      "photoUrl": "",
      "userId": "08030848886777368924"
     },
     "user_tz": -540
    },
    "id": "OcQl9fqWzuQK",
    "outputId": "5efe4de9-301d-4229-a950-587edf5ef08e"
   },
   "outputs": [
    {
     "name": "stdout",
     "output_type": "stream",
     "text": [
      "(1140, 744)\n"
     ]
    }
   ],
   "source": [
    "n, h, w = x[:,::2,::2].shape\n",
    "x_train = x[:,::2,::2].reshape((n, h*w))/255\n",
    "\n",
    "print(x_train.shape)"
   ]
  },
  {
   "cell_type": "code",
   "execution_count": 50,
   "metadata": {
    "executionInfo": {
     "elapsed": 3210,
     "status": "ok",
     "timestamp": 1615981205619,
     "user": {
      "displayName": "MASATO TAKI",
      "photoUrl": "",
      "userId": "08030848886777368924"
     },
     "user_tz": -540
    },
    "id": "trLfuCJ78WuS"
   },
   "outputs": [],
   "source": [
    "from sklearn.decomposition import NMF\n",
    "\n",
    "model = NMF(n_components=32)\n",
    "\n",
    "W = model.fit_transform(x_train)\n",
    "H = model.components_"
   ]
  },
  {
   "cell_type": "markdown",
   "metadata": {
    "id": "m4Cc4AxZ-l9G"
   },
   "source": [
    "この結果得られた`W2H`を計算しておこう"
   ]
  },
  {
   "cell_type": "code",
   "execution_count": 51,
   "metadata": {
    "executionInfo": {
     "elapsed": 1442,
     "status": "ok",
     "timestamp": 1615981208760,
     "user": {
      "displayName": "MASATO TAKI",
      "photoUrl": "",
      "userId": "08030848886777368924"
     },
     "user_tz": -540
    },
    "id": "4M1b7UN88iEQ"
   },
   "outputs": [],
   "source": [
    "x_train_reconst = W@H\n",
    "x_train_reconst = x_train_reconst.reshape((n, h, w))"
   ]
  },
  {
   "cell_type": "markdown",
   "metadata": {
    "id": "seDa5Va9-grg"
   },
   "source": [
    "行列因子分解で再構成された画像を一枚見て見る"
   ]
  },
  {
   "cell_type": "code",
   "execution_count": null,
   "metadata": {
    "id": "i414XcmP8j49"
   },
   "outputs": [],
   "source": [
    "plt.imshow(x_train_reconst[0], cmap='gray')\n",
    "plt.axis(\"off\")\n",
    "plt.show()"
   ]
  },
  {
   "cell_type": "markdown",
   "metadata": {
    "id": "UuDO7OVa-eLK"
   },
   "source": [
    "一方本当の画像は"
   ]
  },
  {
   "cell_type": "code",
   "execution_count": null,
   "metadata": {
    "id": "GxmLszQ58yyF"
   },
   "outputs": [],
   "source": [
    "plt.imshow(x[0,::2,::2], cmap='gray')\n",
    "plt.axis(\"off\")\n",
    "plt.show()"
   ]
  },
  {
   "cell_type": "markdown",
   "metadata": {
    "id": "ukU8RrD6-YDZ"
   },
   "source": [
    "Hの成分を可視化して見ると"
   ]
  },
  {
   "cell_type": "code",
   "execution_count": null,
   "metadata": {
    "id": "4RK9c6Pg9Gg6"
   },
   "outputs": [],
   "source": [
    "for d in range(32):\n",
    "    h_d = H[d,:]\n",
    "    plt.imshow(h_d.reshape((h,w)), cmap='gray')\n",
    "    plt.axis(\"off\")\n",
    "    plt.show()"
   ]
  },
  {
   "cell_type": "markdown",
   "metadata": {
    "id": "uwWAbvZe-5Fa"
   },
   "source": [
    "一方で今再構成したインスタンスに対応する係数`W`は"
   ]
  },
  {
   "cell_type": "code",
   "execution_count": null,
   "metadata": {
    "id": "80ADiuYR97Np"
   },
   "outputs": [],
   "source": [
    "plt.plot(W[0])"
   ]
  },
  {
   "cell_type": "code",
   "execution_count": null,
   "metadata": {
    "id": "_3AI7xEN-yut"
   },
   "outputs": [],
   "source": [
    ""
   ]
  }
 ],
 "metadata": {
  "anaconda-cloud": {},
  "colab": {
   "collapsed_sections": [],
   "name": "NMF.ipynb",
   "provenance": []
  },
  "kernelspec": {
   "display_name": "Python [conda root]",
   "language": "python",
   "name": "conda-root-py"
  },
  "language_info": {
   "codemirror_mode": {
    "name": "ipython",
    "version": 3
   },
   "file_extension": ".py",
   "mimetype": "text/x-python",
   "name": "python",
   "nbconvert_exporter": "python",
   "pygments_lexer": "ipython3",
   "version": "3.5.2"
  }
 },
 "nbformat": 4,
 "nbformat_minor": 0
}
