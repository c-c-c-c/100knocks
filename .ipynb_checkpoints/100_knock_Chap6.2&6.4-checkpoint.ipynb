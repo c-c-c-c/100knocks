{
 "cells": [
  {
   "cell_type": "markdown",
   "metadata": {
    "id": "w1YuuMcq2sMk"
   },
   "source": [
    "# Chap6.2及び6.4\n",
    "\n",
    "\n"
   ]
  },
  {
   "cell_type": "code",
   "execution_count": 22,
   "metadata": {
    "executionInfo": {
     "elapsed": 651,
     "status": "ok",
     "timestamp": 1606034972242,
     "user": {
      "displayName": "HAYATO NODA",
      "photoUrl": "",
      "userId": "12974659274873789805"
     },
     "user_tz": -540
    },
    "id": "bkKfA3Ewvc0F"
   },
   "outputs": [],
   "source": [
    "import tensorflow as tf\n",
    "from tensorflow.keras import Model, layers\n",
    "import tensorflow.keras\n",
    "from tensorflow.keras.datasets import imdb\n",
    "from keras.preprocessing import sequence\n",
    "import matplotlib.pyplot as plt"
   ]
  },
  {
   "cell_type": "code",
   "execution_count": 2,
   "metadata": {
    "executionInfo": {
     "elapsed": 2425,
     "status": "ok",
     "timestamp": 1606031235448,
     "user": {
      "displayName": "HAYATO NODA",
      "photoUrl": "",
      "userId": "12974659274873789805"
     },
     "user_tz": -540
    },
    "id": "jOtXURb5wVXO"
   },
   "outputs": [],
   "source": [
    "max_features = 10000\n",
    "max_len = 500\n",
    "BATCH_SIZE = 128\n",
    "EPOCH = 10"
   ]
  },
  {
   "cell_type": "code",
   "execution_count": 3,
   "metadata": {
    "executionInfo": {
     "elapsed": 8778,
     "status": "ok",
     "timestamp": 1606031241810,
     "user": {
      "displayName": "HAYATO NODA",
      "photoUrl": "",
      "userId": "12974659274873789805"
     },
     "user_tz": -540
    },
    "id": "d2wJ2kx7dk8D"
   },
   "outputs": [],
   "source": [
    "(input_train, y_train), ( input_test, y_test) = imdb.load_data(num_words=max_features)\n",
    "\n",
    "x_train = sequence.pad_sequences(input_train, maxlen=max_len)\n",
    "x_test = sequence.pad_sequences(input_test, maxlen=max_len)"
   ]
  },
  {
   "cell_type": "code",
   "execution_count": 4,
   "metadata": {
    "colab": {
     "base_uri": "https://localhost:8080/"
    },
    "executionInfo": {
     "elapsed": 8770,
     "status": "ok",
     "timestamp": 1606031241811,
     "user": {
      "displayName": "HAYATO NODA",
      "photoUrl": "",
      "userId": "12974659274873789805"
     },
     "user_tz": -540
    },
    "id": "2BN79LbQZdye",
    "outputId": "86b56cb2-69f8-48c8-f056-5c115cfa96cc"
   },
   "outputs": [
    {
     "data": {
      "text/plain": [
       "array([[   0,    0,    0, ...,   19,  178,   32],\n",
       "       [   0,    0,    0, ...,   16,  145,   95],\n",
       "       [   0,    0,    0, ...,    7,  129,  113],\n",
       "       ...,\n",
       "       [   0,    0,    0, ...,    4, 3586,    2],\n",
       "       [   0,    0,    0, ...,   12,    9,   23],\n",
       "       [   0,    0,    0, ...,  204,  131,    9]], dtype=int32)"
      ]
     },
     "execution_count": 4,
     "metadata": {
      "tags": []
     },
     "output_type": "execute_result"
    }
   ],
   "source": [
    "x_train"
   ]
  },
  {
   "cell_type": "markdown",
   "metadata": {
    "id": "HsGtWvEL-1JR"
   },
   "source": [
    "０のPadding（？）は後ではなく前に足されるというのに注意"
   ]
  },
  {
   "cell_type": "code",
   "execution_count": 5,
   "metadata": {
    "colab": {
     "base_uri": "https://localhost:8080/",
     "height": 173
    },
    "executionInfo": {
     "elapsed": 8761,
     "status": "ok",
     "timestamp": 1606031241812,
     "user": {
      "displayName": "HAYATO NODA",
      "photoUrl": "",
      "userId": "12974659274873789805"
     },
     "user_tz": -540
    },
    "id": "Oh_TTZEDaLKT",
    "outputId": "ec9f3c80-1579-4708-edb3-4e6e736f4cd9"
   },
   "outputs": [
    {
     "data": {
      "application/vnd.google.colaboratory.intrinsic+json": {
       "type": "string"
      },
      "text/plain": [
       "\"? ? ? ? ? ? ? ? ? ? ? ? ? ? ? ? ? ? ? ? ? ? ? ? ? ? ? ? ? ? ? ? ? ? ? ? ? ? ? ? ? ? ? ? ? ? ? ? ? ? ? ? ? ? ? ? ? ? ? ? ? ? ? ? ? ? ? ? ? ? ? ? ? ? ? ? ? ? ? ? ? ? ? ? ? ? ? ? ? ? ? ? ? ? ? ? ? ? ? ? ? ? ? ? ? ? ? ? ? ? ? ? ? ? ? ? ? ? ? ? ? ? ? ? ? ? ? ? ? ? ? ? ? ? ? ? ? ? ? ? ? ? ? ? ? ? ? ? ? ? ? ? ? ? ? ? ? ? ? ? ? ? ? ? ? ? ? ? ? ? ? ? ? ? ? ? ? ? ? ? ? ? ? ? ? ? ? ? ? ? ? ? ? ? ? ? ? ? ? ? ? ? ? ? ? ? ? ? ? ? ? ? ? ? ? ? ? ? ? ? ? ? ? ? ? ? ? ? ? ? ? ? ? ? ? ? ? ? ? ? ? ? ? ? ? ? ? ? ? ? ? ? ? ? ? ? ? ? ? ? ? ? ? ? ? ? ? ? ? ? ? ? ? ? ? ? ? ? ? ? ? ? ? this film was just brilliant casting location scenery story direction everyone's really suited the part they played and you could just imagine being there robert ? is an amazing actor and now the same being director ? father came from the same scottish island as myself so i loved the fact there was a real connection with this film the witty remarks throughout the film were great it was just brilliant so much that i bought the film as soon as it was released for ? and would recommend it to everyone to watch and the fly fishing was amazing really cried at the end it was so sad and you know what they say if you cry at a film it must have been good and this definitely was also ? to the two little boy's that played the ? of norman and paul they were just brilliant children are often left out of the ? list i think because the stars that play them all grown up are such a big profile for the whole film but these children are amazing and should be praised for what they have done don't you think the whole story was so lovely because it was true and was someone's life after all that was shared with us all\""
      ]
     },
     "execution_count": 5,
     "metadata": {
      "tags": []
     },
     "output_type": "execute_result"
    }
   ],
   "source": [
    "word_index = imdb.get_word_index()\n",
    "reverse_word_index = dict([(value, key) for (key, value) in word_index.items()])\n",
    "decoded_reveiw = ' '.join([reverse_word_index.get(i-3, '?') for  i in x_train[0]])\n",
    "decoded_reveiw"
   ]
  },
  {
   "cell_type": "code",
   "execution_count": 6,
   "metadata": {
    "colab": {
     "base_uri": "https://localhost:8080/"
    },
    "executionInfo": {
     "elapsed": 8751,
     "status": "ok",
     "timestamp": 1606031241812,
     "user": {
      "displayName": "HAYATO NODA",
      "photoUrl": "",
      "userId": "12974659274873789805"
     },
     "user_tz": -540
    },
    "id": "9q3KtNgUxOEO",
    "outputId": "55cccef7-386c-4c3a-e13d-e1a2f93d0cee"
   },
   "outputs": [
    {
     "data": {
      "text/plain": [
       "(25000, 500)"
      ]
     },
     "execution_count": 6,
     "metadata": {
      "tags": []
     },
     "output_type": "execute_result"
    }
   ],
   "source": [
    "x_train.shape"
   ]
  },
  {
   "cell_type": "markdown",
   "metadata": {
    "id": "hX6_HsS73q0v"
   },
   "source": [
    "## Chap6.2\n",
    "以下の3つについて説明\\\n",
    "SimpleRNN\n",
    "LSTM\n",
    "GRU　"
   ]
  },
  {
   "cell_type": "markdown",
   "metadata": {
    "id": "QVU8bwCJz5l7"
   },
   "source": [
    "### 6.2.1 SimpleRNNの場合\n",
    "https://www.tensorflow.org/api_docs/python/tf/keras/layers/SimpleRNN\n",
    "\n",
    "※activationはtahnが標準設定"
   ]
  },
  {
   "cell_type": "code",
   "execution_count": 7,
   "metadata": {
    "colab": {
     "base_uri": "https://localhost:8080/"
    },
    "executionInfo": {
     "elapsed": 9034,
     "status": "ok",
     "timestamp": 1606031242104,
     "user": {
      "displayName": "HAYATO NODA",
      "photoUrl": "",
      "userId": "12974659274873789805"
     },
     "user_tz": -540
    },
    "id": "MUdLXL99wq04",
    "outputId": "6d5a50e1-75d9-463b-c059-04fc36f95862"
   },
   "outputs": [
    {
     "name": "stdout",
     "output_type": "stream",
     "text": [
      "Model: \"functional_1\"\n",
      "_________________________________________________________________\n",
      "Layer (type)                 Output Shape              Param #   \n",
      "=================================================================\n",
      "input_1 (InputLayer)         [(None, 500)]             0         \n",
      "_________________________________________________________________\n",
      "embedding (Embedding)        (None, 500, 32)           320000    \n",
      "_________________________________________________________________\n",
      "simple_rnn (SimpleRNN)       (None, 32)                2080      \n",
      "_________________________________________________________________\n",
      "dense (Dense)                (None, 1)                 33        \n",
      "=================================================================\n",
      "Total params: 322,113\n",
      "Trainable params: 322,113\n",
      "Non-trainable params: 0\n",
      "_________________________________________________________________\n"
     ]
    }
   ],
   "source": [
    "class SimpleRNN_model():\n",
    "  def __init__(self, BATCH_SIZE, EPOCH):\n",
    "    self.epoch = EPOCH\n",
    "    self.batch_size = BATCH_SIZE\n",
    "    self.model = self._build_model()\n",
    "    self.model.summary()\n",
    "    self.model.compile(optimizer='rmsprop',loss='binary_crossentropy',metrics=['acc'])\n",
    "    \n",
    "  def _build_model(self):\n",
    "    input = tf.keras.Input(shape=(500,))\n",
    "    x = layers.Embedding(max_features,32)(input)\n",
    "    x = layers.SimpleRNN(32)(x)\n",
    "    y_pred = layers.Dense(1,activation='sigmoid')(x)\n",
    "\n",
    "    return Model(input, y_pred)\n",
    "  \n",
    "  def train(self, x, y):\n",
    "    history = self.model.fit(x , y ,epochs=self.epoch, batch_size=self.batch_size, validation_split=0.2)\n",
    "    return history\n",
    "\n",
    "model = SimpleRNN_model(BATCH_SIZE,EPOCH)"
   ]
  },
  {
   "cell_type": "code",
   "execution_count": 8,
   "metadata": {
    "colab": {
     "base_uri": "https://localhost:8080/"
    },
    "executionInfo": {
     "elapsed": 219445,
     "status": "ok",
     "timestamp": 1606031452523,
     "user": {
      "displayName": "HAYATO NODA",
      "photoUrl": "",
      "userId": "12974659274873789805"
     },
     "user_tz": -540
    },
    "id": "f5XANE_2yg1R",
    "outputId": "0d379102-5fba-4027-8f48-1961707147a8"
   },
   "outputs": [
    {
     "name": "stdout",
     "output_type": "stream",
     "text": [
      "Epoch 1/10\n",
      "157/157 [==============================] - 21s 137ms/step - loss: 0.6273 - acc: 0.6399 - val_loss: 0.5535 - val_acc: 0.7202\n",
      "Epoch 2/10\n",
      "157/157 [==============================] - 21s 131ms/step - loss: 0.3887 - acc: 0.8378 - val_loss: 0.4676 - val_acc: 0.7778\n",
      "Epoch 3/10\n",
      "157/157 [==============================] - 21s 132ms/step - loss: 0.2964 - acc: 0.8817 - val_loss: 0.3752 - val_acc: 0.8336\n",
      "Epoch 4/10\n",
      "157/157 [==============================] - 21s 132ms/step - loss: 0.2219 - acc: 0.9137 - val_loss: 0.3510 - val_acc: 0.8502\n",
      "Epoch 5/10\n",
      "157/157 [==============================] - 21s 133ms/step - loss: 0.1596 - acc: 0.9420 - val_loss: 0.4371 - val_acc: 0.8216\n",
      "Epoch 6/10\n",
      "157/157 [==============================] - 21s 132ms/step - loss: 0.1068 - acc: 0.9635 - val_loss: 0.4310 - val_acc: 0.8576\n",
      "Epoch 7/10\n",
      "157/157 [==============================] - 21s 131ms/step - loss: 0.0690 - acc: 0.9783 - val_loss: 0.7462 - val_acc: 0.8010\n",
      "Epoch 8/10\n",
      "157/157 [==============================] - 21s 133ms/step - loss: 0.0450 - acc: 0.9870 - val_loss: 0.5102 - val_acc: 0.8396\n",
      "Epoch 9/10\n",
      "157/157 [==============================] - 21s 131ms/step - loss: 0.0285 - acc: 0.9915 - val_loss: 0.5617 - val_acc: 0.8368\n",
      "Epoch 10/10\n",
      "157/157 [==============================] - 21s 133ms/step - loss: 0.0207 - acc: 0.9941 - val_loss: 0.6638 - val_acc: 0.8180\n"
     ]
    }
   ],
   "source": [
    "history1 = model.train(x_train,y_train)"
   ]
  },
  {
   "cell_type": "markdown",
   "metadata": {
    "id": "g10jXo4Sm8jW"
   },
   "source": [
    "### 6.2.2 LSTMの場合\n",
    "https://www.tensorflow.org/api_docs/python/tf/keras/layers/LSTM\n",
    "\n",
    "※Activation層はtahnが標準設定されていることに注意\n",
    "※recurrent_activationは、'sigmoid'で標準設定"
   ]
  },
  {
   "cell_type": "code",
   "execution_count": 9,
   "metadata": {
    "colab": {
     "base_uri": "https://localhost:8080/"
    },
    "executionInfo": {
     "elapsed": 219437,
     "status": "ok",
     "timestamp": 1606031452525,
     "user": {
      "displayName": "HAYATO NODA",
      "photoUrl": "",
      "userId": "12974659274873789805"
     },
     "user_tz": -540
    },
    "id": "48B7l9SOnOW-",
    "outputId": "4092bb10-e24e-4251-ca43-5aed99699b8b"
   },
   "outputs": [
    {
     "name": "stdout",
     "output_type": "stream",
     "text": [
      "Model: \"functional_3\"\n",
      "_________________________________________________________________\n",
      "Layer (type)                 Output Shape              Param #   \n",
      "=================================================================\n",
      "input_2 (InputLayer)         [(None, 500)]             0         \n",
      "_________________________________________________________________\n",
      "embedding_1 (Embedding)      (None, 500, 32)           320000    \n",
      "_________________________________________________________________\n",
      "lstm (LSTM)                  (None, 32)                8320      \n",
      "_________________________________________________________________\n",
      "dense_1 (Dense)              (None, 1)                 33        \n",
      "=================================================================\n",
      "Total params: 328,353\n",
      "Trainable params: 328,353\n",
      "Non-trainable params: 0\n",
      "_________________________________________________________________\n"
     ]
    }
   ],
   "source": [
    "class LSTM_model():\n",
    "  def __init__(self, BATCH_SIZE, EPOCH):\n",
    "    self.epoch = EPOCH\n",
    "    self.batch_size = BATCH_SIZE\n",
    "    self.model = self._build_model()\n",
    "    self.model.summary()\n",
    "    self.model.compile(optimizer='rmsprop', loss='binary_crossentropy',metrics=['acc'])\n",
    "  \n",
    "  def _build_model(self):\n",
    "    input = tf.keras.Input(shape=(500,))\n",
    "    x = layers.Embedding(max_features,32)(input)\n",
    "    x = layers.LSTM(32)(x)\n",
    "    y_pred = layers.Dense(1,activation='sigmoid')(x)\n",
    "    return Model(input, y_pred)\n",
    "  \n",
    "  def train(self, x, y):\n",
    "    history = self.model.fit(x , y ,epochs=self.epoch, batch_size=self.batch_size, validation_split=0.2)\n",
    "    \n",
    "    return history\n",
    "\n",
    "model2 = LSTM_model(BATCH_SIZE,EPOCH)"
   ]
  },
  {
   "cell_type": "code",
   "execution_count": 10,
   "metadata": {
    "colab": {
     "base_uri": "https://localhost:8080/"
    },
    "executionInfo": {
     "elapsed": 738521,
     "status": "ok",
     "timestamp": 1606031971622,
     "user": {
      "displayName": "HAYATO NODA",
      "photoUrl": "",
      "userId": "12974659274873789805"
     },
     "user_tz": -540
    },
    "id": "KgssuYQ21NEQ",
    "outputId": "4c4386f7-c09d-4e74-9271-e1d7679209f8"
   },
   "outputs": [
    {
     "name": "stdout",
     "output_type": "stream",
     "text": [
      "Epoch 1/10\n",
      "157/157 [==============================] - 48s 305ms/step - loss: 0.5089 - acc: 0.7650 - val_loss: 0.3402 - val_acc: 0.8620\n",
      "Epoch 2/10\n",
      "157/157 [==============================] - 52s 330ms/step - loss: 0.3006 - acc: 0.8813 - val_loss: 0.3460 - val_acc: 0.8694\n",
      "Epoch 3/10\n",
      "157/157 [==============================] - 52s 331ms/step - loss: 0.2333 - acc: 0.9139 - val_loss: 0.2966 - val_acc: 0.8876\n",
      "Epoch 4/10\n",
      "157/157 [==============================] - 51s 327ms/step - loss: 0.2020 - acc: 0.9243 - val_loss: 0.3414 - val_acc: 0.8484\n",
      "Epoch 5/10\n",
      "157/157 [==============================] - 52s 330ms/step - loss: 0.1800 - acc: 0.9336 - val_loss: 0.3107 - val_acc: 0.8846\n",
      "Epoch 6/10\n",
      "157/157 [==============================] - 52s 330ms/step - loss: 0.1640 - acc: 0.9413 - val_loss: 0.3137 - val_acc: 0.8782\n",
      "Epoch 7/10\n",
      "157/157 [==============================] - 52s 329ms/step - loss: 0.1454 - acc: 0.9478 - val_loss: 0.3051 - val_acc: 0.8832\n",
      "Epoch 8/10\n",
      "157/157 [==============================] - 52s 329ms/step - loss: 0.1315 - acc: 0.9553 - val_loss: 0.3982 - val_acc: 0.8776\n",
      "Epoch 9/10\n",
      "157/157 [==============================] - 52s 332ms/step - loss: 0.1213 - acc: 0.9577 - val_loss: 0.3984 - val_acc: 0.8498\n",
      "Epoch 10/10\n",
      "157/157 [==============================] - 52s 328ms/step - loss: 0.1161 - acc: 0.9597 - val_loss: 0.3370 - val_acc: 0.8806\n"
     ]
    }
   ],
   "source": [
    "history2 = model2.train(x_train,y_train)"
   ]
  },
  {
   "cell_type": "markdown",
   "metadata": {
    "id": "DzKDZ5yCqeZR"
   },
   "source": [
    "###6.2.3 GRUの場合\n",
    "https://www.tensorflow.org/api_docs/python/tf/keras/layers/GRU\n",
    "\n",
    "※Activation層はtahnが標準設定されていることに注意\\\n",
    "※recurrent_activationは、'sigmoid'で標準設定"
   ]
  },
  {
   "cell_type": "code",
   "execution_count": 11,
   "metadata": {
    "colab": {
     "base_uri": "https://localhost:8080/"
    },
    "executionInfo": {
     "elapsed": 738814,
     "status": "ok",
     "timestamp": 1606031971925,
     "user": {
      "displayName": "HAYATO NODA",
      "photoUrl": "",
      "userId": "12974659274873789805"
     },
     "user_tz": -540
    },
    "id": "7sTdQ3sx19Lm",
    "outputId": "6756f875-ccfc-4027-80ae-94bdab340edf"
   },
   "outputs": [
    {
     "name": "stdout",
     "output_type": "stream",
     "text": [
      "Model: \"functional_5\"\n",
      "_________________________________________________________________\n",
      "Layer (type)                 Output Shape              Param #   \n",
      "=================================================================\n",
      "input_3 (InputLayer)         [(None, 500)]             0         \n",
      "_________________________________________________________________\n",
      "embedding_2 (Embedding)      (None, 500, 32)           320000    \n",
      "_________________________________________________________________\n",
      "gru (GRU)                    (None, 32)                6336      \n",
      "_________________________________________________________________\n",
      "dense_2 (Dense)              (None, 1)                 33        \n",
      "=================================================================\n",
      "Total params: 326,369\n",
      "Trainable params: 326,369\n",
      "Non-trainable params: 0\n",
      "_________________________________________________________________\n"
     ]
    }
   ],
   "source": [
    "class GRU_model():\n",
    "  def __init__(self, BATCH_SIZE, EPOCH):\n",
    "    self.epoch = EPOCH\n",
    "    self.batch_size = BATCH_SIZE\n",
    "    self.model = self._build_model()\n",
    "    self.model.summary()\n",
    "    self.model.compile(optimizer='rmsprop',loss='binary_crossentropy',metrics=['acc'])\n",
    "    \n",
    "  def _build_model(self):\n",
    "    input = tf.keras.Input(shape=(500,))\n",
    "    x = layers.Embedding(max_features,32)(input)\n",
    "    x = layers.GRU(32)(x)\n",
    "    y_pred = layers.Dense(1,activation='sigmoid')(x)\n",
    "\n",
    "    return Model(input, y_pred)\n",
    "  \n",
    "  def train(self, x, y):\n",
    "    history = self.model.fit(x , y ,epochs=self.epoch, batch_size=self.batch_size, validation_split=0.2)\n",
    "    return history\n",
    "\n",
    "model3 = GRU_model(BATCH_SIZE,EPOCH)"
   ]
  },
  {
   "cell_type": "code",
   "execution_count": 12,
   "metadata": {
    "colab": {
     "base_uri": "https://localhost:8080/"
    },
    "executionInfo": {
     "elapsed": 1208526,
     "status": "ok",
     "timestamp": 1606032441642,
     "user": {
      "displayName": "HAYATO NODA",
      "photoUrl": "",
      "userId": "12974659274873789805"
     },
     "user_tz": -540
    },
    "id": "N4E6SnXM5sIB",
    "outputId": "69baa9fd-9a37-4fec-9962-2daa1f984d1f"
   },
   "outputs": [
    {
     "name": "stdout",
     "output_type": "stream",
     "text": [
      "Epoch 1/10\n",
      "157/157 [==============================] - 45s 288ms/step - loss: 0.5317 - acc: 0.7219 - val_loss: 0.3546 - val_acc: 0.8516\n",
      "Epoch 2/10\n",
      "157/157 [==============================] - 45s 288ms/step - loss: 0.3026 - acc: 0.8738 - val_loss: 0.5037 - val_acc: 0.7562\n",
      "Epoch 3/10\n",
      "157/157 [==============================] - 45s 289ms/step - loss: 0.2490 - acc: 0.9028 - val_loss: 0.3341 - val_acc: 0.8594\n",
      "Epoch 4/10\n",
      "157/157 [==============================] - 45s 289ms/step - loss: 0.2199 - acc: 0.9162 - val_loss: 0.3159 - val_acc: 0.8682\n",
      "Epoch 5/10\n",
      "157/157 [==============================] - 46s 291ms/step - loss: 0.1872 - acc: 0.9302 - val_loss: 0.4391 - val_acc: 0.8234\n",
      "Epoch 6/10\n",
      "157/157 [==============================] - 46s 292ms/step - loss: 0.1743 - acc: 0.9355 - val_loss: 0.3492 - val_acc: 0.8588\n",
      "Epoch 7/10\n",
      "157/157 [==============================] - 46s 290ms/step - loss: 0.1599 - acc: 0.9426 - val_loss: 0.4964 - val_acc: 0.8516\n",
      "Epoch 8/10\n",
      "157/157 [==============================] - 49s 309ms/step - loss: 0.1449 - acc: 0.9485 - val_loss: 0.3401 - val_acc: 0.8700\n",
      "Epoch 9/10\n",
      "157/157 [==============================] - 50s 317ms/step - loss: 0.1367 - acc: 0.9520 - val_loss: 0.3607 - val_acc: 0.8722\n",
      "Epoch 10/10\n",
      "157/157 [==============================] - 49s 310ms/step - loss: 0.1312 - acc: 0.9556 - val_loss: 0.3789 - val_acc: 0.8660\n"
     ]
    }
   ],
   "source": [
    "history3 = model3.train(x_train,y_train)"
   ]
  },
  {
   "cell_type": "markdown",
   "metadata": {
    "id": "N3tDYXzEl7_U"
   },
   "source": [
    "###6.2.4 Bidirectional_model\n",
    "Chap6.3で説明\\\n",
    "https://www.tensorflow.org/api_docs/python/tf/keras/layers/Bidirectional\n",
    "引数がLayerになっていることに留意\n"
   ]
  },
  {
   "cell_type": "code",
   "execution_count": 13,
   "metadata": {
    "colab": {
     "base_uri": "https://localhost:8080/"
    },
    "executionInfo": {
     "elapsed": 1208812,
     "status": "ok",
     "timestamp": 1606032441937,
     "user": {
      "displayName": "HAYATO NODA",
      "photoUrl": "",
      "userId": "12974659274873789805"
     },
     "user_tz": -540
    },
    "id": "KOKWvWeHdVmk",
    "outputId": "d55e7b98-23b1-4cc8-f011-3d0d4a0b8cc9"
   },
   "outputs": [
    {
     "name": "stdout",
     "output_type": "stream",
     "text": [
      "Model: \"functional_7\"\n",
      "_________________________________________________________________\n",
      "Layer (type)                 Output Shape              Param #   \n",
      "=================================================================\n",
      "input_4 (InputLayer)         [(None, 500)]             0         \n",
      "_________________________________________________________________\n",
      "embedding_3 (Embedding)      (None, 500, 32)           320000    \n",
      "_________________________________________________________________\n",
      "bidirectional (Bidirectional (None, 64)                16640     \n",
      "_________________________________________________________________\n",
      "dense_3 (Dense)              (None, 1)                 65        \n",
      "=================================================================\n",
      "Total params: 336,705\n",
      "Trainable params: 336,705\n",
      "Non-trainable params: 0\n",
      "_________________________________________________________________\n"
     ]
    }
   ],
   "source": [
    "class Bidirectional_model():\n",
    "  def __init__(self, BATCH_SIZE, EPOCH):\n",
    "    self.epoch = EPOCH\n",
    "    self.batch_size = BATCH_SIZE\n",
    "    self.model = self._build_model()\n",
    "    self.model.summary()\n",
    "    self.model.compile(optimizer='rmsprop',loss='binary_crossentropy',metrics=['acc'])\n",
    "    \n",
    "  def _build_model(self):\n",
    "    input = tf.keras.Input(shape=(500,))\n",
    "    x = layers.Embedding(max_features,32)(input)\n",
    "    #引数にはLayerをいれる\n",
    "    x = layers.Bidirectional(layers.LSTM(32))(x)\n",
    "    y_pred = layers.Dense(1,activation='sigmoid')(x)\n",
    "\n",
    "    return Model(input, y_pred)\n",
    "  \n",
    "  def train(self, x, y):\n",
    "    history = self.model.fit(x , y ,epochs=self.epoch, batch_size=self.batch_size, validation_split=0.2)\n",
    "    return history\n",
    "\n",
    "model4 = Bidirectional_model(BATCH_SIZE,EPOCH)"
   ]
  },
  {
   "cell_type": "code",
   "execution_count": 14,
   "metadata": {
    "colab": {
     "base_uri": "https://localhost:8080/"
    },
    "executionInfo": {
     "elapsed": 2137191,
     "status": "ok",
     "timestamp": 1606033370319,
     "user": {
      "displayName": "HAYATO NODA",
      "photoUrl": "",
      "userId": "12974659274873789805"
     },
     "user_tz": -540
    },
    "id": "HGAI25hG5uXI",
    "outputId": "4c436b0f-8f1b-42a0-c455-1a721f334711"
   },
   "outputs": [
    {
     "name": "stdout",
     "output_type": "stream",
     "text": [
      "Epoch 1/10\n",
      "157/157 [==============================] - 92s 584ms/step - loss: 0.5511 - acc: 0.7261 - val_loss: 0.3949 - val_acc: 0.8498\n",
      "Epoch 2/10\n",
      "157/157 [==============================] - 91s 580ms/step - loss: 0.3257 - acc: 0.8722 - val_loss: 0.3873 - val_acc: 0.8334\n",
      "Epoch 3/10\n",
      "157/157 [==============================] - 95s 606ms/step - loss: 0.2489 - acc: 0.9066 - val_loss: 0.3100 - val_acc: 0.8840\n",
      "Epoch 4/10\n",
      "157/157 [==============================] - 91s 580ms/step - loss: 0.2069 - acc: 0.9243 - val_loss: 0.3799 - val_acc: 0.8714\n",
      "Epoch 5/10\n",
      "157/157 [==============================] - 91s 579ms/step - loss: 0.1821 - acc: 0.9340 - val_loss: 0.2866 - val_acc: 0.8830\n",
      "Epoch 6/10\n",
      "157/157 [==============================] - 91s 577ms/step - loss: 0.1609 - acc: 0.9427 - val_loss: 0.3132 - val_acc: 0.8686\n",
      "Epoch 7/10\n",
      "157/157 [==============================] - 91s 579ms/step - loss: 0.1487 - acc: 0.9484 - val_loss: 0.3625 - val_acc: 0.8688\n",
      "Epoch 8/10\n",
      "157/157 [==============================] - 91s 578ms/step - loss: 0.1352 - acc: 0.9532 - val_loss: 0.3075 - val_acc: 0.8778\n",
      "Epoch 9/10\n",
      "157/157 [==============================] - 96s 611ms/step - loss: 0.1223 - acc: 0.9581 - val_loss: 0.5071 - val_acc: 0.8308\n",
      "Epoch 10/10\n",
      "157/157 [==============================] - 91s 582ms/step - loss: 0.1126 - acc: 0.9620 - val_loss: 0.3322 - val_acc: 0.8734\n"
     ]
    }
   ],
   "source": [
    "history4 = model4.train(x_train,y_train)"
   ]
  },
  {
   "cell_type": "markdown",
   "metadata": {
    "id": "ovq1XsAoJjaL"
   },
   "source": [
    "## Chap6.4"
   ]
  },
  {
   "cell_type": "markdown",
   "metadata": {
    "id": "sD_3bZDVJoPe"
   },
   "source": [
    "### 6.4.1 Conv1Dのみの単純なModel"
   ]
  },
  {
   "cell_type": "code",
   "execution_count": 25,
   "metadata": {
    "colab": {
     "base_uri": "https://localhost:8080/"
    },
    "executionInfo": {
     "elapsed": 674,
     "status": "ok",
     "timestamp": 1606035096963,
     "user": {
      "displayName": "HAYATO NODA",
      "photoUrl": "",
      "userId": "12974659274873789805"
     },
     "user_tz": -540
    },
    "id": "YjXCGPSVKXwu",
    "outputId": "c1037e05-e73f-4186-8216-9203ac6f58be"
   },
   "outputs": [
    {
     "name": "stdout",
     "output_type": "stream",
     "text": [
      "Model: \"functional_15\"\n",
      "_________________________________________________________________\n",
      "Layer (type)                 Output Shape              Param #   \n",
      "=================================================================\n",
      "input_8 (InputLayer)         [(None, 500)]             0         \n",
      "_________________________________________________________________\n",
      "embedding_7 (Embedding)      (None, 500, 32)           320000    \n",
      "_________________________________________________________________\n",
      "conv1d_6 (Conv1D)            (None, 500, 32)           7200      \n",
      "_________________________________________________________________\n",
      "max_pooling1d_3 (MaxPooling1 (None, 100, 32)           0         \n",
      "_________________________________________________________________\n",
      "conv1d_7 (Conv1D)            (None, 100, 32)           7200      \n",
      "_________________________________________________________________\n",
      "global_max_pooling1d_1 (Glob (None, 32)                0         \n",
      "_________________________________________________________________\n",
      "dense_7 (Dense)              (None, 1)                 33        \n",
      "=================================================================\n",
      "Total params: 334,433\n",
      "Trainable params: 334,433\n",
      "Non-trainable params: 0\n",
      "_________________________________________________________________\n"
     ]
    }
   ],
   "source": [
    "class SimpleConv1d_model():\n",
    "  def __init__(self, BATCH_SIZE, EPOCH):\n",
    "    self.epoch = EPOCH\n",
    "    self.batch_size = BATCH_SIZE\n",
    "    self.model = self._build_model()\n",
    "    self.model.summary()\n",
    "    self.model.compile(optimizer='rmsprop',loss='binary_crossentropy',metrics=['acc'])\n",
    "    \n",
    "  def _build_model(self):\n",
    "    input = tf.keras.Input(shape=(500,))\n",
    "    x = layers.Embedding(max_features,32)(input)\n",
    "    x = layers.Conv1D(32,7,activation='relu',padding='same')(x)\n",
    "    x = layers.MaxPooling1D(5)(x)\n",
    "    x = layers.Conv1D(32,7,activation='relu',padding='same')(x)\n",
    "    x = layers.GlobalMaxPooling1D()(x)\n",
    "    y_pred = layers.Dense(1,activation='sigmoid')(x)\n",
    "\n",
    "    return Model(input, y_pred)\n",
    "  \n",
    "  def train(self, x, y):\n",
    "    history = self.model.fit(x , y ,epochs=self.epoch, batch_size=self.batch_size, validation_split=0.2)\n",
    "    return history\n",
    "\n",
    "model5 = SimpleConv1d_model(BATCH_SIZE,EPOCH)"
   ]
  },
  {
   "cell_type": "code",
   "execution_count": 26,
   "metadata": {
    "colab": {
     "base_uri": "https://localhost:8080/"
    },
    "executionInfo": {
     "elapsed": 239074,
     "status": "ok",
     "timestamp": 1606035341304,
     "user": {
      "displayName": "HAYATO NODA",
      "photoUrl": "",
      "userId": "12974659274873789805"
     },
     "user_tz": -540
    },
    "id": "MDKiVDyyK6xf",
    "outputId": "979d356d-fd59-48e1-b445-c34f65157f85"
   },
   "outputs": [
    {
     "name": "stdout",
     "output_type": "stream",
     "text": [
      "Epoch 1/10\n",
      "157/157 [==============================] - 24s 152ms/step - loss: 0.5528 - acc: 0.7099 - val_loss: 0.3626 - val_acc: 0.8382\n",
      "Epoch 2/10\n",
      "157/157 [==============================] - 24s 151ms/step - loss: 0.2815 - acc: 0.8867 - val_loss: 0.2894 - val_acc: 0.8822\n",
      "Epoch 3/10\n",
      "157/157 [==============================] - 24s 150ms/step - loss: 0.2131 - acc: 0.9175 - val_loss: 0.3197 - val_acc: 0.8700\n",
      "Epoch 4/10\n",
      "157/157 [==============================] - 23s 150ms/step - loss: 0.1717 - acc: 0.9354 - val_loss: 0.2862 - val_acc: 0.8866\n",
      "Epoch 5/10\n",
      "157/157 [==============================] - 24s 151ms/step - loss: 0.1385 - acc: 0.9506 - val_loss: 0.4838 - val_acc: 0.8284\n",
      "Epoch 6/10\n",
      "157/157 [==============================] - 24s 150ms/step - loss: 0.1171 - acc: 0.9595 - val_loss: 0.3420 - val_acc: 0.8780\n",
      "Epoch 7/10\n",
      "157/157 [==============================] - 23s 150ms/step - loss: 0.0973 - acc: 0.9671 - val_loss: 0.3797 - val_acc: 0.8750\n",
      "Epoch 8/10\n",
      "157/157 [==============================] - 24s 151ms/step - loss: 0.0785 - acc: 0.9750 - val_loss: 0.3792 - val_acc: 0.8830\n",
      "Epoch 9/10\n",
      "157/157 [==============================] - 23s 150ms/step - loss: 0.0642 - acc: 0.9793 - val_loss: 0.4592 - val_acc: 0.8708\n",
      "Epoch 10/10\n",
      "157/157 [==============================] - 24s 151ms/step - loss: 0.0491 - acc: 0.9858 - val_loss: 0.4395 - val_acc: 0.8800\n"
     ]
    }
   ],
   "source": [
    "history5 = model5.train(x_train,y_train)"
   ]
  },
  {
   "cell_type": "markdown",
   "metadata": {
    "id": "ZIcJKGE2J3zg"
   },
   "source": [
    "### 6.4.2 CNNとRNNを組み合わせた長いModel"
   ]
  },
  {
   "cell_type": "code",
   "execution_count": 37,
   "metadata": {
    "colab": {
     "base_uri": "https://localhost:8080/"
    },
    "executionInfo": {
     "elapsed": 714,
     "status": "ok",
     "timestamp": 1606036914967,
     "user": {
      "displayName": "HAYATO NODA",
      "photoUrl": "",
      "userId": "12974659274873789805"
     },
     "user_tz": -540
    },
    "id": "rSlVOGAhLITT",
    "outputId": "3b9611aa-9919-42f3-ab72-64ca20bd0b39"
   },
   "outputs": [
    {
     "name": "stdout",
     "output_type": "stream",
     "text": [
      "Model: \"functional_19\"\n",
      "_________________________________________________________________\n",
      "Layer (type)                 Output Shape              Param #   \n",
      "=================================================================\n",
      "input_10 (InputLayer)        [(None, 500)]             0         \n",
      "_________________________________________________________________\n",
      "embedding_9 (Embedding)      (None, 500, 32)           320000    \n",
      "_________________________________________________________________\n",
      "conv1d_10 (Conv1D)           (None, 500, 32)           5152      \n",
      "_________________________________________________________________\n",
      "max_pooling1d_5 (MaxPooling1 (None, 100, 32)           0         \n",
      "_________________________________________________________________\n",
      "conv1d_11 (Conv1D)           (None, 100, 32)           5152      \n",
      "_________________________________________________________________\n",
      "gru_4 (GRU)                  (None, 32)                6336      \n",
      "_________________________________________________________________\n",
      "dense_9 (Dense)              (None, 1)                 33        \n",
      "=================================================================\n",
      "Total params: 336,673\n",
      "Trainable params: 336,673\n",
      "Non-trainable params: 0\n",
      "_________________________________________________________________\n"
     ]
    }
   ],
   "source": [
    "class Conv1d_model2():\n",
    "  def __init__(self, BATCH_SIZE, EPOCH):\n",
    "    self.epoch = EPOCH\n",
    "    self.batch_size = BATCH_SIZE\n",
    "    self.model = self._build_model()\n",
    "    self.model.summary()\n",
    "    self.model.compile(optimizer='rmsprop',loss='binary_crossentropy',metrics=['acc'])\n",
    "    \n",
    "  def _build_model(self):\n",
    "    input = tf.keras.Input(shape=(500,))\n",
    "    x = layers.Embedding(max_features,32)(input)\n",
    "    x = layers.Conv1D(32,5, activation='relu', padding='same')(x)\n",
    "    x = layers.MaxPooling1D(5)(x)\n",
    "    x = layers.Conv1D(32,5,activation='relu',padding='same')(x)\n",
    "    x = layers.GRU(32,dropout=0.1,recurrent_dropout=0.5)(x)\n",
    "    y_pred = layers.Dense(1,activation='sigmoid')(x)\n",
    "\n",
    "    return Model(input, y_pred)\n",
    "  \n",
    "  def train(self, x, y):\n",
    "    history = self.model.fit(x , y ,epochs=self.epoch, batch_size=self.batch_size, validation_split=0.2)\n",
    "    return history\n",
    "\n",
    "model6 = Conv1d_model2(BATCH_SIZE,EPOCH)"
   ]
  },
  {
   "cell_type": "code",
   "execution_count": 38,
   "metadata": {
    "colab": {
     "base_uri": "https://localhost:8080/"
    },
    "executionInfo": {
     "elapsed": 370884,
     "status": "ok",
     "timestamp": 1606037286694,
     "user": {
      "displayName": "HAYATO NODA",
      "photoUrl": "",
      "userId": "12974659274873789805"
     },
     "user_tz": -540
    },
    "id": "5MBy--knLQig",
    "outputId": "9254df67-a193-4bab-ac77-75627141b30a"
   },
   "outputs": [
    {
     "name": "stdout",
     "output_type": "stream",
     "text": [
      "Epoch 1/10\n",
      "157/157 [==============================] - 36s 231ms/step - loss: 0.5018 - acc: 0.7369 - val_loss: 0.3626 - val_acc: 0.8476\n",
      "Epoch 2/10\n",
      "157/157 [==============================] - 36s 232ms/step - loss: 0.2878 - acc: 0.8830 - val_loss: 0.3253 - val_acc: 0.8598\n",
      "Epoch 3/10\n",
      "157/157 [==============================] - 36s 232ms/step - loss: 0.2204 - acc: 0.9149 - val_loss: 0.4241 - val_acc: 0.8298\n",
      "Epoch 4/10\n",
      "157/157 [==============================] - 36s 231ms/step - loss: 0.1730 - acc: 0.9358 - val_loss: 0.2876 - val_acc: 0.8934\n",
      "Epoch 5/10\n",
      "157/157 [==============================] - 36s 230ms/step - loss: 0.1494 - acc: 0.9444 - val_loss: 0.3035 - val_acc: 0.8904\n",
      "Epoch 6/10\n",
      "157/157 [==============================] - 37s 235ms/step - loss: 0.1142 - acc: 0.9606 - val_loss: 0.3475 - val_acc: 0.8816\n",
      "Epoch 7/10\n",
      "157/157 [==============================] - 37s 234ms/step - loss: 0.0958 - acc: 0.9669 - val_loss: 0.3366 - val_acc: 0.8934\n",
      "Epoch 8/10\n",
      "157/157 [==============================] - 37s 233ms/step - loss: 0.0724 - acc: 0.9761 - val_loss: 0.3718 - val_acc: 0.8824\n",
      "Epoch 9/10\n",
      "157/157 [==============================] - 37s 234ms/step - loss: 0.0559 - acc: 0.9821 - val_loss: 0.3903 - val_acc: 0.8916\n",
      "Epoch 10/10\n",
      "157/157 [==============================] - 37s 234ms/step - loss: 0.0400 - acc: 0.9870 - val_loss: 0.4523 - val_acc: 0.8838\n"
     ]
    }
   ],
   "source": [
    "history6 = model6.train(x_train,y_train)"
   ]
  },
  {
   "cell_type": "code",
   "execution_count": 39,
   "metadata": {
    "executionInfo": {
     "elapsed": 368552,
     "status": "ok",
     "timestamp": 1606037286696,
     "user": {
      "displayName": "HAYATO NODA",
      "photoUrl": "",
      "userId": "12974659274873789805"
     },
     "user_tz": -540
    },
    "id": "SvfEH0ii6CiY"
   },
   "outputs": [],
   "source": [
    "def make_graph(history_list):\n",
    "  name_list = ['RNN', 'LSTM', 'GRU', 'Conv1', 'Conv+RNN']\n",
    "  fig = plt.figure(figsize=(16,8))\n",
    "\n",
    "  plt.subplots_adjust(wspace=0.2, hspace=0.4)\n",
    "\n",
    "  for i in range(len(name_list)):\n",
    "    ax = fig.add_subplot(2,3,i+1)\n",
    "    loss = history_list[i].history['loss']\n",
    "    val_loss = history_list[i].history['val_loss']\n",
    "    epochs = range(1,len(loss)+1)\n",
    "    ax.plot(epochs, loss, linewidth=1,linestyle='--',label='training_loss')\n",
    "    ax.plot(epochs, val_loss, linewidth=1, label='validation_loss')\n",
    "    ax.grid(True)\n",
    "\n",
    "    ax.set_title(name_list[i],fontsize=20)\n",
    "    ax.set_xlabel('Epochs',fontsize=15)\n",
    "    ax.set_ylabel('Loss',fontsize=15)\n",
    "    ax.legend(handlelength=3,loc='upper right')\n",
    "  \n",
    "  plt.show()"
   ]
  },
  {
   "cell_type": "code",
   "execution_count": 40,
   "metadata": {
    "colab": {
     "base_uri": "https://localhost:8080/",
     "height": 412
    },
    "executionInfo": {
     "elapsed": 369059,
     "status": "ok",
     "timestamp": 1606037287500,
     "user": {
      "displayName": "HAYATO NODA",
      "photoUrl": "",
      "userId": "12974659274873789805"
     },
     "user_tz": -540
    },
    "id": "IrxN_W8n6rZ-",
    "outputId": "425e55b6-63a9-4e62-b050-ebf1bfb5c077"
   },
   "outputs": [
    {
     "data": {
      "image/png": "[encoded data removed]",
      "text/plain": [
       "<Figure size 1152x576 with 5 Axes>"
      ]
     },
     "metadata": {
      "needs_background": "light",
      "tags": []
     },
     "output_type": "display_data"
    }
   ],
   "source": [
    "history_list = [history1,history2,history3,history5,history6]\n",
    "make_graph(history_list)"
   ]
  }
 ],
 "metadata": {
  "colab": {
   "authorship_tag": "ABX9TyOwggTmvsd+l6NtYF5CYrtd",
   "collapsed_sections": [],
   "name": "Chap6.2&6.4.ipynb",
   "provenance": [],
   "toc_visible": true
  },
  "kernelspec": {
   "display_name": "Python 3",
   "name": "python3"
  }
 },
 "nbformat": 4,
 "nbformat_minor": 0
}
