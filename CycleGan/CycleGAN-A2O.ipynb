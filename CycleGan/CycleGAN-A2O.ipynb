{
 "cells": [
  {
   "cell_type": "code",
   "execution_count": 2,
   "metadata": {},
   "outputs": [],
   "source": [
    "import tensorflow as tf\n",
    "\n",
    "import numpy as np\n",
    "import matplotlib.pyplot as plt\n",
    "%matplotlib inline"
   ]
  },
  {
   "cell_type": "code",
   "execution_count": 3,
   "metadata": {},
   "outputs": [],
   "source": [
    "# pip install tensorflow"
   ]
  },
  {
   "cell_type": "code",
   "execution_count": 4,
   "metadata": {},
   "outputs": [
    {
     "name": "stdout",
     "output_type": "stream",
     "text": [
      "Pixiedust database opened successfully\n"
     ]
    },
    {
     "data": {
      "text/html": [
       "\n",
       "        <div style=\"margin:10px\">\n",
       "            <a href=\"https://github.com/ibm-watson-data-lab/pixiedust\" target=\"_new\">\n",
       "                <img src=\"https://github.com/ibm-watson-data-lab/pixiedust/raw/master/docs/_static/pd_icon32.png\" style=\"float:left;margin-right:10px\"/>\n",
       "            </a>\n",
       "            <span>Pixiedust version 1.1.18</span>\n",
       "        </div>\n",
       "        "
      ],
      "text/plain": [
       "<IPython.core.display.HTML object>"
      ]
     },
     "metadata": {},
     "output_type": "display_data"
    },
    {
     "data": {
      "text/html": [
       "<div>Warning: You are not running the latest version of PixieDust. Current is 1.1.18, Latest is 1.1.19</div>"
      ],
      "text/plain": [
       "<IPython.core.display.HTML object>"
      ]
     },
     "metadata": {},
     "output_type": "display_data"
    },
    {
     "data": {
      "text/html": [
       "\n",
       "                <div>Please copy and run the following command in a new cell to upgrade: <span style=\"background-color:#ececec;font-family:monospace;padding:0 5px\">!pip install --user --upgrade pixiedust</span></div>\n",
       "            "
      ],
      "text/plain": [
       "<IPython.core.display.HTML object>"
      ]
     },
     "metadata": {},
     "output_type": "display_data"
    },
    {
     "data": {
      "text/html": [
       "<div>Please restart kernel after upgrading.</div>"
      ],
      "text/plain": [
       "<IPython.core.display.HTML object>"
      ]
     },
     "metadata": {},
     "output_type": "display_data"
    }
   ],
   "source": [
    "\n",
    "\n",
    "# 標準使用ライブラリー\n",
    "import numpy as np # linear algebra\n",
    "import pandas as pd # data processing, CSV file I/O (e.g. pd.read_csv)\n",
    "# Suppress warnings \n",
    "import warnings\n",
    "warnings.filterwarnings('ignore')\n",
    "import gc\n",
    "import os\n",
    "import shutil\n",
    "\n",
    "\n",
    "# matplotlib and seaborn for plotting\n",
    "import matplotlib.pyplot as plt\n",
    "%matplotlib inline\n",
    "import seaborn as sns\n",
    "\n",
    "# 追記\n",
    "import json\n",
    "import datetime\n",
    "import math\n",
    "plt.style.use('dark_background')\n",
    "\n",
    "# debug\n",
    "#%pdb on\n",
    "\n",
    "import pixiedust #%pixie_debugger\n",
    "import os\n",
    "os.environ[\"CUDA_VISIBLE_DEVICES\"]=\"5\"\n",
    "\n",
    "# tfがエラーはかないため\n",
    "import tensorflow as tf\n",
    "physical_devices = tf.config.experimental.list_physical_devices('GPU')\n",
    "tf.config.experimental.set_memory_growth(physical_devices[0], True)\n"
   ]
  },
  {
   "cell_type": "code",
   "execution_count": 5,
   "metadata": {},
   "outputs": [],
   "source": [
    "# 画像サイズ\n",
    "img_size = 128\n",
    "channels = 3\n",
    "img_shape = (img_size, img_size, channels)\n",
    "\n",
    "# 学習の設定\n",
    "batch_size = 32\n",
    "epochs = 100"
   ]
  },
  {
   "cell_type": "markdown",
   "metadata": {},
   "source": [
    "画像のデータジェネレータ"
   ]
  },
  {
   "cell_type": "code",
   "execution_count": 6,
   "metadata": {},
   "outputs": [
    {
     "name": "stdout",
     "output_type": "stream",
     "text": [
      "Found 995 images belonging to 1 classes.\n",
      "Found 1019 images belonging to 1 classes.\n"
     ]
    }
   ],
   "source": [
    "from tensorflow.keras.preprocessing.image import ImageDataGenerator\n",
    "\n",
    "def preprocessing_function(x):\n",
    "    return x / 127.5 - 1\n",
    "\n",
    "A_datagen = ImageDataGenerator(width_shift_range=0.1,\n",
    "                 height_shift_range=0.1,\n",
    "                 preprocessing_function = preprocessing_function\n",
    "                 )\n",
    "B_datagen = ImageDataGenerator(width_shift_range=0.1,\n",
    "                 height_shift_range=0.1,\n",
    "                 preprocessing_function = preprocessing_function\n",
    "                 )\n",
    "\n",
    "# apple画像へのpathを渡す\n",
    "A_generator = A_datagen.flow_from_directory('./apple2orange/trainA',\n",
    "                                            class_mode=None,\n",
    "                                            batch_size=batch_size,\n",
    "                                            target_size=(img_size, img_size), \n",
    "                                            color_mode='rgb')\n",
    "\n",
    "# orange画像へのpathを渡す\n",
    "B_generator = B_datagen.flow_from_directory('./apple2orange/trainB',\n",
    "                                            class_mode=None, \n",
    "                                            batch_size=batch_size,\n",
    "                                            target_size=(img_size, img_size), \n",
    "                                            color_mode='rgb')"
   ]
  },
  {
   "cell_type": "markdown",
   "metadata": {},
   "source": [
    "モデルの作成"
   ]
  },
  {
   "cell_type": "code",
   "execution_count": 7,
   "metadata": {},
   "outputs": [],
   "source": [
    "from tensorflow.keras.initializers import RandomNormal\n",
    "\n",
    "kernel_init = RandomNormal(mean=0.0, stddev=0.02)\n",
    "gamma_init = RandomNormal(mean=0.0, stddev=0.02)"
   ]
  },
  {
   "cell_type": "code",
   "execution_count": 8,
   "metadata": {},
   "outputs": [],
   "source": [
    "# ! pip install tensorflow_addons "
   ]
  },
  {
   "cell_type": "code",
   "execution_count": 9,
   "metadata": {},
   "outputs": [],
   "source": [
    "import tensorflow.keras.backend as K\n",
    "\n",
    "import tensorflow as tf\n",
    "from tensorflow.keras.layers import Input, Dense, Flatten, Reshape, UpSampling2D, BatchNormalization, Conv2D, Activation, Dropout, Conv2DTranspose\n",
    "from tensorflow.keras.layers import LeakyReLU, LayerNormalization, Concatenate\n",
    "from tensorflow.keras.models import Sequential, Model\n",
    "from tensorflow.keras.optimizers import Adam\n",
    "\n",
    "from tensorflow_addons.layers import InstanceNormalization\n",
    "\n",
    "\n",
    "patch_size = int(img_size/2**4)\n",
    "patch_shape = (patch_size, patch_size, 1)\n",
    "\n",
    "\n",
    "def build_generator(filters=32):\n",
    "    \n",
    "    model_input = Input(shape=img_shape)\n",
    "    \n",
    "    # Encoder\n",
    "    x = Conv2D(filters, kernel_size=4, strides=2, padding=\"same\", use_bias=False, kernel_initializer=kernel_init)(model_input)\n",
    "    x = LeakyReLU(0.2)(x)\n",
    "    x1 = InstanceNormalization(gamma_initializer=gamma_init)(x)\n",
    "    \n",
    "    x = Conv2D(filters*2, kernel_size=4, strides=2, padding=\"same\", use_bias=False, kernel_initializer=kernel_init)(x1)\n",
    "    x = LeakyReLU(0.2)(x)\n",
    "    x2 = InstanceNormalization(gamma_initializer=gamma_init)(x)\n",
    "    \n",
    "    x = Conv2D(filters*4, kernel_size=4, strides=2, padding=\"same\", use_bias=False, kernel_initializer=kernel_init)(x2)\n",
    "    x = LeakyReLU(0.2)(x)\n",
    "    x3 = InstanceNormalization()(x)  \n",
    "    \n",
    "    x = Conv2D(filters*8, kernel_size=4, strides=2, padding=\"same\", use_bias=False, kernel_initializer=kernel_init)(x3)\n",
    "    x = LeakyReLU(0.2)(x)\n",
    "    x4 = InstanceNormalization(gamma_initializer=gamma_init)(x)\n",
    "\n",
    "    \n",
    "    # Decoder\n",
    "    x = UpSampling2D((2, 2))(x4)\n",
    "    x = Conv2D(filters*4, kernel_size=4, strides=1, padding=\"same\", use_bias=False, kernel_initializer=kernel_init)(x)\n",
    "    x = LeakyReLU(0.2)(x)\n",
    "    x = InstanceNormalization(gamma_initializer=gamma_init)(x)  \n",
    "    x = Concatenate()([x, x3])\n",
    "    \n",
    "    x = UpSampling2D((2, 2))(x)\n",
    "    x = Conv2D(filters*2, kernel_size=4, strides=1, padding=\"same\", use_bias=False, kernel_initializer=kernel_init)(x)\n",
    "    x = LeakyReLU(0.2)(x)\n",
    "    x = InstanceNormalization(gamma_initializer=gamma_init)(x)  \n",
    "    x = Concatenate()([x, x2])\n",
    "    \n",
    "    x = UpSampling2D((2, 2))(x)\n",
    "    x = Conv2D(filters, kernel_size=4, strides=1, padding=\"same\", use_bias=False, kernel_initializer=kernel_init)(x)\n",
    "    x = LeakyReLU(0.2)(x)\n",
    "    x = InstanceNormalization(gamma_initializer=gamma_init)(x)  \n",
    "    x = Concatenate()([x, x1])\n",
    "    \n",
    "    x = UpSampling2D((2, 2))(x)\n",
    "    x = Conv2D(3, kernel_size=4, strides=1, padding=\"same\", activation=\"tanh\", use_bias=False, kernel_initializer=kernel_init)(x)\n",
    "\n",
    "    model = Model(model_input, x)\n",
    "    \n",
    "    model.summary()\n",
    "    \n",
    "    return model\n",
    "\n",
    "\n",
    "def build_discriminator(filters=64):\n",
    "    \n",
    "    model_input = Input(shape=img_shape)\n",
    "    \n",
    "    x = Conv2D(filters, kernel_size=4, strides=2, padding=\"same\", use_bias=False, kernel_initializer=kernel_init)(model_input)\n",
    "    x = LeakyReLU(0.2)(x)\n",
    "    \n",
    "    x = Conv2D(filters*2, kernel_size=4, strides=2, padding=\"same\", use_bias=False, kernel_initializer=kernel_init)(x)\n",
    "    x = LeakyReLU(0.2)(x)\n",
    "    x = InstanceNormalization(gamma_initializer=gamma_init)(x)\n",
    "    \n",
    "    x = Conv2D(filters*4, kernel_size=4, strides=2, padding=\"same\", use_bias=False, kernel_initializer=kernel_init)(x)\n",
    "    x = LeakyReLU(0.2)(x)\n",
    "    x = InstanceNormalization(gamma_initializer=gamma_init)(x)  \n",
    "    \n",
    "    x = Conv2D(filters*8, kernel_size=4, strides=2, padding=\"same\", use_bias=False, kernel_initializer=kernel_init)(x)\n",
    "    x = LeakyReLU(0.2)(x)\n",
    "    x = InstanceNormalization(gamma_initializer=gamma_init)(x)\n",
    "    \n",
    "    x = Conv2D(1, kernel_size=4, strides=1, padding=\"same\", use_bias=False, kernel_initializer=kernel_init)(x)\n",
    "    \n",
    "    model = Model(model_input, x)\n",
    "    \n",
    "    model.summary()\n",
    "    \n",
    "    return model"
   ]
  },
  {
   "cell_type": "code",
   "execution_count": 10,
   "metadata": {},
   "outputs": [
    {
     "name": "stdout",
     "output_type": "stream",
     "text": [
      "Model: \"functional_1\"\n",
      "_________________________________________________________________\n",
      "Layer (type)                 Output Shape              Param #   \n",
      "=================================================================\n",
      "input_1 (InputLayer)         [(None, 128, 128, 3)]     0         \n",
      "_________________________________________________________________\n",
      "conv2d (Conv2D)              (None, 64, 64, 64)        3072      \n",
      "_________________________________________________________________\n",
      "leaky_re_lu (LeakyReLU)      (None, 64, 64, 64)        0         \n",
      "_________________________________________________________________\n",
      "conv2d_1 (Conv2D)            (None, 32, 32, 128)       131072    \n",
      "_________________________________________________________________\n",
      "leaky_re_lu_1 (LeakyReLU)    (None, 32, 32, 128)       0         \n",
      "_________________________________________________________________\n",
      "instance_normalization (Inst (None, 32, 32, 128)       256       \n",
      "_________________________________________________________________\n",
      "conv2d_2 (Conv2D)            (None, 16, 16, 256)       524288    \n",
      "_________________________________________________________________\n",
      "leaky_re_lu_2 (LeakyReLU)    (None, 16, 16, 256)       0         \n",
      "_________________________________________________________________\n",
      "instance_normalization_1 (In (None, 16, 16, 256)       512       \n",
      "_________________________________________________________________\n",
      "conv2d_3 (Conv2D)            (None, 8, 8, 512)         2097152   \n",
      "_________________________________________________________________\n",
      "leaky_re_lu_3 (LeakyReLU)    (None, 8, 8, 512)         0         \n",
      "_________________________________________________________________\n",
      "instance_normalization_2 (In (None, 8, 8, 512)         1024      \n",
      "_________________________________________________________________\n",
      "conv2d_4 (Conv2D)            (None, 8, 8, 1)           8192      \n",
      "=================================================================\n",
      "Total params: 2,765,568\n",
      "Trainable params: 2,765,568\n",
      "Non-trainable params: 0\n",
      "_________________________________________________________________\n",
      "Model: \"functional_3\"\n",
      "_________________________________________________________________\n",
      "Layer (type)                 Output Shape              Param #   \n",
      "=================================================================\n",
      "input_2 (InputLayer)         [(None, 128, 128, 3)]     0         \n",
      "_________________________________________________________________\n",
      "conv2d_5 (Conv2D)            (None, 64, 64, 64)        3072      \n",
      "_________________________________________________________________\n",
      "leaky_re_lu_4 (LeakyReLU)    (None, 64, 64, 64)        0         \n",
      "_________________________________________________________________\n",
      "conv2d_6 (Conv2D)            (None, 32, 32, 128)       131072    \n",
      "_________________________________________________________________\n",
      "leaky_re_lu_5 (LeakyReLU)    (None, 32, 32, 128)       0         \n",
      "_________________________________________________________________\n",
      "instance_normalization_3 (In (None, 32, 32, 128)       256       \n",
      "_________________________________________________________________\n",
      "conv2d_7 (Conv2D)            (None, 16, 16, 256)       524288    \n",
      "_________________________________________________________________\n",
      "leaky_re_lu_6 (LeakyReLU)    (None, 16, 16, 256)       0         \n",
      "_________________________________________________________________\n",
      "instance_normalization_4 (In (None, 16, 16, 256)       512       \n",
      "_________________________________________________________________\n",
      "conv2d_8 (Conv2D)            (None, 8, 8, 512)         2097152   \n",
      "_________________________________________________________________\n",
      "leaky_re_lu_7 (LeakyReLU)    (None, 8, 8, 512)         0         \n",
      "_________________________________________________________________\n",
      "instance_normalization_5 (In (None, 8, 8, 512)         1024      \n",
      "_________________________________________________________________\n",
      "conv2d_9 (Conv2D)            (None, 8, 8, 1)           8192      \n",
      "=================================================================\n",
      "Total params: 2,765,568\n",
      "Trainable params: 2,765,568\n",
      "Non-trainable params: 0\n",
      "_________________________________________________________________\n",
      "Model: \"functional_5\"\n",
      "__________________________________________________________________________________________________\n",
      "Layer (type)                    Output Shape         Param #     Connected to                     \n",
      "==================================================================================================\n",
      "input_3 (InputLayer)            [(None, 128, 128, 3) 0                                            \n",
      "__________________________________________________________________________________________________\n",
      "conv2d_10 (Conv2D)              (None, 64, 64, 32)   1536        input_3[0][0]                    \n",
      "__________________________________________________________________________________________________\n",
      "leaky_re_lu_8 (LeakyReLU)       (None, 64, 64, 32)   0           conv2d_10[0][0]                  \n",
      "__________________________________________________________________________________________________\n",
      "instance_normalization_6 (Insta (None, 64, 64, 32)   64          leaky_re_lu_8[0][0]              \n",
      "__________________________________________________________________________________________________\n",
      "conv2d_11 (Conv2D)              (None, 32, 32, 64)   32768       instance_normalization_6[0][0]   \n",
      "__________________________________________________________________________________________________\n",
      "leaky_re_lu_9 (LeakyReLU)       (None, 32, 32, 64)   0           conv2d_11[0][0]                  \n",
      "__________________________________________________________________________________________________\n",
      "instance_normalization_7 (Insta (None, 32, 32, 64)   128         leaky_re_lu_9[0][0]              \n",
      "__________________________________________________________________________________________________\n",
      "conv2d_12 (Conv2D)              (None, 16, 16, 128)  131072      instance_normalization_7[0][0]   \n",
      "__________________________________________________________________________________________________\n",
      "leaky_re_lu_10 (LeakyReLU)      (None, 16, 16, 128)  0           conv2d_12[0][0]                  \n",
      "__________________________________________________________________________________________________\n",
      "instance_normalization_8 (Insta (None, 16, 16, 128)  256         leaky_re_lu_10[0][0]             \n",
      "__________________________________________________________________________________________________\n",
      "conv2d_13 (Conv2D)              (None, 8, 8, 256)    524288      instance_normalization_8[0][0]   \n",
      "__________________________________________________________________________________________________\n",
      "leaky_re_lu_11 (LeakyReLU)      (None, 8, 8, 256)    0           conv2d_13[0][0]                  \n",
      "__________________________________________________________________________________________________\n",
      "instance_normalization_9 (Insta (None, 8, 8, 256)    512         leaky_re_lu_11[0][0]             \n",
      "__________________________________________________________________________________________________\n",
      "up_sampling2d (UpSampling2D)    (None, 16, 16, 256)  0           instance_normalization_9[0][0]   \n",
      "__________________________________________________________________________________________________\n",
      "conv2d_14 (Conv2D)              (None, 16, 16, 128)  524288      up_sampling2d[0][0]              \n",
      "__________________________________________________________________________________________________\n",
      "leaky_re_lu_12 (LeakyReLU)      (None, 16, 16, 128)  0           conv2d_14[0][0]                  \n",
      "__________________________________________________________________________________________________\n",
      "instance_normalization_10 (Inst (None, 16, 16, 128)  256         leaky_re_lu_12[0][0]             \n",
      "__________________________________________________________________________________________________\n",
      "concatenate (Concatenate)       (None, 16, 16, 256)  0           instance_normalization_10[0][0]  \n",
      "                                                                 instance_normalization_8[0][0]   \n",
      "__________________________________________________________________________________________________\n",
      "up_sampling2d_1 (UpSampling2D)  (None, 32, 32, 256)  0           concatenate[0][0]                \n",
      "__________________________________________________________________________________________________\n",
      "conv2d_15 (Conv2D)              (None, 32, 32, 64)   262144      up_sampling2d_1[0][0]            \n",
      "__________________________________________________________________________________________________\n",
      "leaky_re_lu_13 (LeakyReLU)      (None, 32, 32, 64)   0           conv2d_15[0][0]                  \n",
      "__________________________________________________________________________________________________\n",
      "instance_normalization_11 (Inst (None, 32, 32, 64)   128         leaky_re_lu_13[0][0]             \n",
      "__________________________________________________________________________________________________\n",
      "concatenate_1 (Concatenate)     (None, 32, 32, 128)  0           instance_normalization_11[0][0]  \n",
      "                                                                 instance_normalization_7[0][0]   \n",
      "__________________________________________________________________________________________________\n",
      "up_sampling2d_2 (UpSampling2D)  (None, 64, 64, 128)  0           concatenate_1[0][0]              \n",
      "__________________________________________________________________________________________________\n",
      "conv2d_16 (Conv2D)              (None, 64, 64, 32)   65536       up_sampling2d_2[0][0]            \n",
      "__________________________________________________________________________________________________\n",
      "leaky_re_lu_14 (LeakyReLU)      (None, 64, 64, 32)   0           conv2d_16[0][0]                  \n",
      "__________________________________________________________________________________________________\n",
      "instance_normalization_12 (Inst (None, 64, 64, 32)   64          leaky_re_lu_14[0][0]             \n",
      "__________________________________________________________________________________________________\n",
      "concatenate_2 (Concatenate)     (None, 64, 64, 64)   0           instance_normalization_12[0][0]  \n",
      "                                                                 instance_normalization_6[0][0]   \n",
      "__________________________________________________________________________________________________\n",
      "up_sampling2d_3 (UpSampling2D)  (None, 128, 128, 64) 0           concatenate_2[0][0]              \n",
      "__________________________________________________________________________________________________\n",
      "conv2d_17 (Conv2D)              (None, 128, 128, 3)  3072        up_sampling2d_3[0][0]            \n",
      "==================================================================================================\n",
      "Total params: 1,546,112\n",
      "Trainable params: 1,546,112\n",
      "Non-trainable params: 0\n",
      "__________________________________________________________________________________________________\n"
     ]
    },
    {
     "name": "stdout",
     "output_type": "stream",
     "text": [
      "Model: \"functional_7\"\n",
      "__________________________________________________________________________________________________\n",
      "Layer (type)                    Output Shape         Param #     Connected to                     \n",
      "==================================================================================================\n",
      "input_4 (InputLayer)            [(None, 128, 128, 3) 0                                            \n",
      "__________________________________________________________________________________________________\n",
      "conv2d_18 (Conv2D)              (None, 64, 64, 32)   1536        input_4[0][0]                    \n",
      "__________________________________________________________________________________________________\n",
      "leaky_re_lu_15 (LeakyReLU)      (None, 64, 64, 32)   0           conv2d_18[0][0]                  \n",
      "__________________________________________________________________________________________________\n",
      "instance_normalization_13 (Inst (None, 64, 64, 32)   64          leaky_re_lu_15[0][0]             \n",
      "__________________________________________________________________________________________________\n",
      "conv2d_19 (Conv2D)              (None, 32, 32, 64)   32768       instance_normalization_13[0][0]  \n",
      "__________________________________________________________________________________________________\n",
      "leaky_re_lu_16 (LeakyReLU)      (None, 32, 32, 64)   0           conv2d_19[0][0]                  \n",
      "__________________________________________________________________________________________________\n",
      "instance_normalization_14 (Inst (None, 32, 32, 64)   128         leaky_re_lu_16[0][0]             \n",
      "__________________________________________________________________________________________________\n",
      "conv2d_20 (Conv2D)              (None, 16, 16, 128)  131072      instance_normalization_14[0][0]  \n",
      "__________________________________________________________________________________________________\n",
      "leaky_re_lu_17 (LeakyReLU)      (None, 16, 16, 128)  0           conv2d_20[0][0]                  \n",
      "__________________________________________________________________________________________________\n",
      "instance_normalization_15 (Inst (None, 16, 16, 128)  256         leaky_re_lu_17[0][0]             \n",
      "__________________________________________________________________________________________________\n",
      "conv2d_21 (Conv2D)              (None, 8, 8, 256)    524288      instance_normalization_15[0][0]  \n",
      "__________________________________________________________________________________________________\n",
      "leaky_re_lu_18 (LeakyReLU)      (None, 8, 8, 256)    0           conv2d_21[0][0]                  \n",
      "__________________________________________________________________________________________________\n",
      "instance_normalization_16 (Inst (None, 8, 8, 256)    512         leaky_re_lu_18[0][0]             \n",
      "__________________________________________________________________________________________________\n",
      "up_sampling2d_4 (UpSampling2D)  (None, 16, 16, 256)  0           instance_normalization_16[0][0]  \n",
      "__________________________________________________________________________________________________\n",
      "conv2d_22 (Conv2D)              (None, 16, 16, 128)  524288      up_sampling2d_4[0][0]            \n",
      "__________________________________________________________________________________________________\n",
      "leaky_re_lu_19 (LeakyReLU)      (None, 16, 16, 128)  0           conv2d_22[0][0]                  \n",
      "__________________________________________________________________________________________________\n",
      "instance_normalization_17 (Inst (None, 16, 16, 128)  256         leaky_re_lu_19[0][0]             \n",
      "__________________________________________________________________________________________________\n",
      "concatenate_3 (Concatenate)     (None, 16, 16, 256)  0           instance_normalization_17[0][0]  \n",
      "                                                                 instance_normalization_15[0][0]  \n",
      "__________________________________________________________________________________________________\n",
      "up_sampling2d_5 (UpSampling2D)  (None, 32, 32, 256)  0           concatenate_3[0][0]              \n",
      "__________________________________________________________________________________________________\n",
      "conv2d_23 (Conv2D)              (None, 32, 32, 64)   262144      up_sampling2d_5[0][0]            \n",
      "__________________________________________________________________________________________________\n",
      "leaky_re_lu_20 (LeakyReLU)      (None, 32, 32, 64)   0           conv2d_23[0][0]                  \n",
      "__________________________________________________________________________________________________\n",
      "instance_normalization_18 (Inst (None, 32, 32, 64)   128         leaky_re_lu_20[0][0]             \n",
      "__________________________________________________________________________________________________\n",
      "concatenate_4 (Concatenate)     (None, 32, 32, 128)  0           instance_normalization_18[0][0]  \n",
      "                                                                 instance_normalization_14[0][0]  \n",
      "__________________________________________________________________________________________________\n",
      "up_sampling2d_6 (UpSampling2D)  (None, 64, 64, 128)  0           concatenate_4[0][0]              \n",
      "__________________________________________________________________________________________________\n",
      "conv2d_24 (Conv2D)              (None, 64, 64, 32)   65536       up_sampling2d_6[0][0]            \n",
      "__________________________________________________________________________________________________\n",
      "leaky_re_lu_21 (LeakyReLU)      (None, 64, 64, 32)   0           conv2d_24[0][0]                  \n",
      "__________________________________________________________________________________________________\n",
      "instance_normalization_19 (Inst (None, 64, 64, 32)   64          leaky_re_lu_21[0][0]             \n",
      "__________________________________________________________________________________________________\n",
      "concatenate_5 (Concatenate)     (None, 64, 64, 64)   0           instance_normalization_19[0][0]  \n",
      "                                                                 instance_normalization_13[0][0]  \n",
      "__________________________________________________________________________________________________\n",
      "up_sampling2d_7 (UpSampling2D)  (None, 128, 128, 64) 0           concatenate_5[0][0]              \n",
      "__________________________________________________________________________________________________\n",
      "conv2d_25 (Conv2D)              (None, 128, 128, 3)  3072        up_sampling2d_7[0][0]            \n",
      "==================================================================================================\n",
      "Total params: 1,546,112\n",
      "Trainable params: 1,546,112\n",
      "Non-trainable params: 0\n",
      "__________________________________________________________________________________________________\n"
     ]
    }
   ],
   "source": [
    "from tensorflow.keras import optimizers\n",
    "\n",
    "optimizer = optimizers.Adam(learning_rate=0.0002, beta_1=0.5)\n",
    "\n",
    "lambda_cycyle = 10.\n",
    "lambda_id = 5.\n",
    "\n",
    "D_A = build_discriminator()\n",
    "D_B = build_discriminator()\n",
    "\n",
    "D_A.compile(loss='mse', optimizer=optimizer, metrics=['accuracy'])\n",
    "D_B.compile(loss='mse', optimizer=optimizer, metrics=['accuracy'])\n",
    "\n",
    "G_AB = build_generator()\n",
    "G_BA = build_generator()\n",
    "\n",
    "# 入力画像のためのプレースホルダー\n",
    "real_A = Input(shape=img_shape)\n",
    "real_B = Input(shape=img_shape)\n",
    "\n",
    "# 生成器一回でできるフェイク画像\n",
    "fake_A = G_BA(real_B)\n",
    "fake_B = G_AB(real_A)\n",
    "\n",
    "# サイクル整合性のための再構成\n",
    "cycle_A = G_BA(fake_B)\n",
    "cycle_B = G_AB(fake_A)\n",
    "\n",
    "# 同一性\n",
    "same_A = G_BA(real_A)\n",
    "same_B = G_AB(real_B)\n",
    "\n",
    "# fake画像に対する識別器の出力\n",
    "disc_fake_A = D_A(fake_A)\n",
    "disc_fake_B = D_B(fake_B)\n",
    "\n",
    "D_A.trainable = False\n",
    "D_B.trainable = False\n",
    "\n",
    "cycle_gan = Model(inputs=[real_A, real_B],\n",
    "                 outputs=[disc_fake_A, disc_fake_B,\n",
    "                         cycle_A, cycle_B,\n",
    "                         same_A, same_B])\n",
    "\n",
    "cycle_gan.compile(loss=['mse', 'mse', 'mae', 'mae', 'mae', 'mae'],\n",
    "                 loss_weights=[1, 1, lambda_cycyle, lambda_cycyle, lambda_id, lambda_id],\n",
    "                 optimizer=optimizer)"
   ]
  },
  {
   "cell_type": "markdown",
   "metadata": {},
   "source": [
    "学習"
   ]
  },
  {
   "cell_type": "code",
   "execution_count": 11,
   "metadata": {},
   "outputs": [],
   "source": [
    "disc_A_loss_hoistory = []\n",
    "disc_B_loss_hoistory = []\n",
    "disc_loss_hoistory = []\n",
    "\n",
    "gen_loss_hoistory = []\n",
    "\n",
    "\n",
    "def train(epochs, iterations_per_epochs, batch_size=128):\n",
    "    \n",
    "    valid = np.ones((batch_size,) + patch_shape)\n",
    "    fake = np.zeros((batch_size,) + patch_shape)\n",
    "    \n",
    "    for epoch in range(epochs):\n",
    "        for i in range(iterations_per_epochs):\n",
    "            \n",
    "            batch_A = next(A_generator)\n",
    "            batch_B = next(B_generator)\n",
    "            \n",
    "            # generatorのミニバッチの余りの処理。もっと実装を賢くし直した方がいい\n",
    "            batch_size_modified = batch_size\n",
    "            if batch_A.shape[0]!=batch_B.shape[0]:\n",
    "                batch_size_modified = min(batch_A.shape[0], batch_B.shape[0])\n",
    "                \n",
    "            batch_A = batch_A[:batch_size_modified]\n",
    "            batch_B = batch_B[:batch_size_modified]\n",
    "            \n",
    "            fake_B = G_AB.predict(batch_A)\n",
    "            fake_A = G_BA.predict(batch_B)\n",
    "            \n",
    "            disc_A_loss_real = D_A.train_on_batch(batch_A, valid[:batch_size_modified])\n",
    "            disc_A_loss_fake = D_A.train_on_batch(fake_A, fake[:batch_size_modified])\n",
    "            \n",
    "            disc_A_loss = 0.5 * np.add(disc_A_loss_real, disc_A_loss_fake)\n",
    "            disc_A_loss_hoistory.append(disc_A_loss)\n",
    "            \n",
    "            disc_B_loss_real = D_B.train_on_batch(batch_B, valid[:batch_size_modified])\n",
    "            disc_B_loss_fake = D_B.train_on_batch(fake_B, fake[:batch_size_modified])\n",
    "            \n",
    "            disc_B_loss = 0.5 * np.add(disc_B_loss_real, disc_B_loss_fake)\n",
    "            disc_B_loss_hoistory.append(disc_B_loss)\n",
    "            \n",
    "            d_loss = 0.5 * np.add(disc_A_loss, disc_B_loss)\n",
    "            disc_loss_hoistory.append(d_loss)\n",
    "            \n",
    "            g_loss = cycle_gan.train_on_batch([batch_A, batch_B],\n",
    "                                              [valid[:batch_size_modified], valid[:batch_size_modified],\n",
    "                                               batch_A, batch_B,\n",
    "                                               batch_A, batch_B])\n",
    "            gen_loss_hoistory.append(g_loss)\n",
    "            \n",
    "            if i==0:\n",
    "                print('d loss, g loss:', d_loss[0],  g_loss)"
   ]
  },
  {
   "cell_type": "code",
   "execution_count": 12,
   "metadata": {},
   "outputs": [
    {
     "name": "stdout",
     "output_type": "stream",
     "text": [
      "d loss, g loss: 0.4999165259764595 [19.16208267211914, 0.9847031235694885, 0.9841373562812805, 0.5853414535522461, 0.560097336769104, 0.5866570472717285, 0.5611135959625244]\n",
      "d loss, g loss: 0.2273029424250126 [11.205707550048828, 0.5486558079719543, 0.538940966129303, 0.4102889597415924, 0.2720063030719757, 0.40206781029701233, 0.25696393847465515]\n",
      "d loss, g loss: 0.11476925946772099 [10.658384323120117, 0.805019736289978, 0.6553251147270203, 0.2983318567276001, 0.3251206874847412, 0.2855234742164612, 0.3071795105934143]\n",
      "d loss, g loss: 0.11971727386116982 [10.623266220092773, 0.9117295742034912, 0.747999906539917, 0.2791449725627899, 0.33174487948417664, 0.2639445662498474, 0.3069829046726227]\n",
      "d loss, g loss: 0.21095392107963562 [9.530851364135742, 0.544865071773529, 0.6474292278289795, 0.2658417820930481, 0.3022240102291107, 0.2550603151321411, 0.27651941776275635]\n",
      "d loss, g loss: 0.18477915972471237 [8.884145736694336, 0.5769512057304382, 0.6849018335342407, 0.25045454502105713, 0.2697821259498596, 0.23301038146018982, 0.25097477436065674]\n",
      "d loss, g loss: 0.13335033878684044 [9.075669288635254, 0.6906418800354004, 0.6517507433891296, 0.251430481672287, 0.2714696526527405, 0.24021926522254944, 0.2606358528137207]\n",
      "d loss, g loss: 0.19486064091324806 [8.744035720825195, 0.5514131188392639, 0.7314351201057434, 0.2641248106956482, 0.24521948397159576, 0.24324141442775726, 0.2303074598312378]\n",
      "d loss, g loss: 0.1779344454407692 [8.213968276977539, 0.4769003987312317, 0.7096887826919556, 0.2372405230998993, 0.24214604496955872, 0.22143623232841492, 0.2252665013074875]\n",
      "d loss, g loss: 0.14724202081561089 [8.713129043579102, 0.4985910654067993, 0.8275690078735352, 0.2607616186141968, 0.24255728721618652, 0.2572181522846222, 0.21353788673877716]\n",
      "d loss, g loss: 0.14532272331416607 [8.241438865661621, 0.520147442817688, 0.7128902673721313, 0.2291705310344696, 0.2450619637966156, 0.2274284064769745, 0.22578686475753784]\n",
      "d loss, g loss: 0.13277632929384708 [7.279883861541748, 0.6054400205612183, 0.7365589141845703, 0.1818445324897766, 0.22169044613838196, 0.1672445833683014, 0.2132624387741089]\n",
      "d loss, g loss: 0.11373973451554775 [8.18609619140625, 0.6316776275634766, 0.8331579566001892, 0.22841361165046692, 0.23823878169059753, 0.19981449842453003, 0.21113285422325134]\n",
      "d loss, g loss: 0.10948045738041401 [7.641119003295898, 0.6596648693084717, 0.8721342086791992, 0.18813273310661316, 0.22953583300113678, 0.17961007356643677, 0.20691673457622528]\n",
      "d loss, g loss: 0.10788103938102722 [7.489182472229004, 0.7003610134124756, 0.8318080902099609, 0.2035607397556305, 0.20481911301612854, 0.18122617900371552, 0.1934168040752411]\n",
      "d loss, g loss: 0.13786631263792515 [7.750558853149414, 0.6706157922744751, 0.7786927223205566, 0.2213800847530365, 0.21568578481674194, 0.20313498377799988, 0.18298327922821045]\n",
      "d loss, g loss: 0.11202927120029926 [7.196603775024414, 0.7636124491691589, 0.823861837387085, 0.18112431466579437, 0.2002088725566864, 0.16558492183685303, 0.19357460737228394]\n",
      "d loss, g loss: 0.10907834582030773 [7.185447692871094, 0.7201569676399231, 0.8720208406448364, 0.18410058319568634, 0.19444286823272705, 0.17833773791790009, 0.18322935700416565]\n",
      "d loss, g loss: 0.1682781483978033 [6.479220390319824, 0.7197200059890747, 0.6939136385917664, 0.17329901456832886, 0.17469018697738647, 0.16210868954658508, 0.15503022074699402]\n",
      "d loss, g loss: 0.1182564627379179 [6.721024036407471, 0.7816312313079834, 0.7662034630775452, 0.1757059544324875, 0.17457999289035797, 0.17158520221710205, 0.16248086094856262]\n",
      "d loss, g loss: 0.12211924232542515 [7.216568946838379, 0.7645746469497681, 0.7799520492553711, 0.1873180866241455, 0.20017120242118835, 0.1695331633090973, 0.18989667296409607]\n",
      "d loss, g loss: 0.12249789014458656 [6.93507194519043, 0.7456169128417969, 0.7615001201629639, 0.19658654928207397, 0.17000439763069153, 0.19139520823955536, 0.1610139012336731]\n",
      "d loss, g loss: 0.1187346950173378 [6.794633865356445, 0.7446773052215576, 0.752069890499115, 0.1879199743270874, 0.1741856187582016, 0.17526763677597046, 0.16009855270385742]\n",
      "d loss, g loss: 0.12099532224237919 [6.846954822540283, 0.7410250306129456, 0.8064306974411011, 0.18933290243148804, 0.17513826489448547, 0.17550355195999146, 0.1554538458585739]\n",
      "d loss, g loss: 0.10128897614777088 [7.105737209320068, 0.7583188414573669, 0.8201505541801453, 0.18757440149784088, 0.18797411024570465, 0.17333349585533142, 0.18102312088012695]\n",
      "d loss, g loss: 0.10593789257109165 [6.900762557983398, 0.8117119073867798, 0.8179384469985962, 0.17456454038619995, 0.18472906947135925, 0.16682559251785278, 0.16880962252616882]\n",
      "d loss, g loss: 0.12962840590626 [7.070430755615234, 0.8010004758834839, 0.7866895794868469, 0.1883094161748886, 0.18592675030231476, 0.1658148467540741, 0.18226085603237152]\n",
      "d loss, g loss: 0.1367473490536213 [6.5004682540893555, 0.6947686076164246, 0.7975016832351685, 0.17262113094329834, 0.17324255406856537, 0.15638025104999542, 0.15353187918663025]\n",
      "d loss, g loss: 0.10539611615240574 [6.909280776977539, 0.8086990714073181, 0.825553834438324, 0.1886441707611084, 0.17369012534618378, 0.17360901832580566, 0.1567278504371643]\n",
      "d loss, g loss: 0.13474124297499657 [6.903878211975098, 0.6896199584007263, 0.9145581722259521, 0.1717303991317749, 0.19619661569595337, 0.15242606401443481, 0.1716599315404892]\n",
      "d loss, g loss: 0.14091048389673233 [7.791805267333984, 0.7988359332084656, 0.8950104713439941, 0.20321181416511536, 0.22799168527126312, 0.16900353133678436, 0.18818119168281555]\n",
      "d loss, g loss: 0.20511807687580585 [6.20526123046875, 1.148093342781067, 0.9066309928894043, 0.14827868342399597, 0.1457872837781906, 0.13665366172790527, 0.1053217425942421]\n",
      "d loss, g loss: 0.09252662397921085 [6.619143486022949, 0.7835969924926758, 0.9073601961135864, 0.1680700182914734, 0.1767929494380951, 0.14785617589950562, 0.14805515110492706]\n",
      "d loss, g loss: 0.08080090209841728 [6.620372295379639, 0.8042282462120056, 0.8823577165603638, 0.15872760117053986, 0.1828247606754303, 0.14263880252838135, 0.16101375222206116]\n",
      "d loss, g loss: 0.0994279533624649 [6.465201377868652, 0.7921503186225891, 0.8807309865951538, 0.15791833400726318, 0.16808471083641052, 0.1458529680967331, 0.16060498356819153]\n",
      "d loss, g loss: 0.07831614837050438 [6.486361503601074, 0.8408548831939697, 0.9275804162025452, 0.1536807119846344, 0.1690962016582489, 0.14005506038665771, 0.15797638893127441]\n",
      "d loss, g loss: 0.10189828090369701 [6.712845802307129, 0.8676103949546814, 1.0513032674789429, 0.1652854084968567, 0.15785515308380127, 0.16429559886455536, 0.14820972084999084]\n",
      "d loss, g loss: 0.11002881452441216 [6.233071327209473, 0.8138777017593384, 0.8530319333076477, 0.1536949872970581, 0.15879575908184052, 0.1403992772102356, 0.14785155653953552]\n",
      "d loss, g loss: 0.07727596908807755 [6.620356559753418, 0.9005056619644165, 0.8626524806022644, 0.1652441769838333, 0.16838303208351135, 0.15430869162082672, 0.14987656474113464]\n",
      "d loss, g loss: 0.0979769416153431 [6.529006481170654, 0.8254467248916626, 0.8919572830200195, 0.15816229581832886, 0.17083321511745453, 0.143077552318573, 0.16125190258026123]\n",
      "d loss, g loss: 0.10386759042739868 [6.540771484375, 0.7960395812988281, 0.8995574116706848, 0.17547234892845154, 0.15741226077079773, 0.160942941904068, 0.14232270419597626]\n",
      "d loss, g loss: 0.09477157238870859 [6.593526363372803, 0.8185173869132996, 0.903037428855896, 0.15277719497680664, 0.18208669126033783, 0.14288464188575745, 0.16178186237812042]\n",
      "d loss, g loss: 0.09565440192818642 [6.470564365386963, 0.8650291562080383, 0.8734351396560669, 0.154330313205719, 0.16785871982574463, 0.14430466294288635, 0.1577373594045639]\n",
      "d loss, g loss: 0.149263022467494 [6.502898693084717, 0.7678260803222656, 0.999549150466919, 0.1573086380958557, 0.1701304316520691, 0.1328442394733429, 0.15938235819339752]\n",
      "d loss, g loss: 0.11542500369250774 [6.681024074554443, 0.8076586127281189, 0.899222731590271, 0.174305260181427, 0.16616332530975342, 0.15842783451080322, 0.15546363592147827]\n",
      "d loss, g loss: 0.08086038939654827 [7.029577255249023, 0.8802481293678284, 0.9329240322113037, 0.17359964549541473, 0.1841726303100586, 0.15660527348518372, 0.1711312085390091]\n",
      "d loss, g loss: 0.08401751890778542 [6.386557102203369, 0.8621748089790344, 0.9233621954917908, 0.15057873725891113, 0.1615218222141266, 0.13911086320877075, 0.15689197182655334]\n"
     ]
    },
    {
     "name": "stdout",
     "output_type": "stream",
     "text": [
      "d loss, g loss: 0.07115549501031637 [6.386547565460205, 0.8594188690185547, 0.8559460639953613, 0.15691252052783966, 0.15939365327358246, 0.1439490020275116, 0.1576751321554184]\n",
      "d loss, g loss: 0.14552415907382965 [6.169507026672363, 0.7676623463630676, 1.0109689235687256, 0.14926262199878693, 0.14706730842590332, 0.14392362534999847, 0.14159168303012848]\n",
      "d loss, g loss: 0.06780981458723545 [6.5659918785095215, 0.8677035570144653, 0.9141994714736938, 0.16286064684391022, 0.16015878319740295, 0.15462073683738708, 0.15615828335285187]\n",
      "d loss, g loss: 0.09343448281288147 [6.066399574279785, 0.8475950360298157, 0.8473482131958008, 0.1490599811077118, 0.14919112622737885, 0.13700225949287415, 0.14078682661056519]\n",
      "d loss, g loss: 0.10892591532319784 [6.800067901611328, 0.8282220959663391, 1.0551592111587524, 0.15462252497673035, 0.18427971005439758, 0.14054974913597107, 0.16498297452926636]\n",
      "d loss, g loss: 0.10376465879380703 [6.1393513679504395, 0.7949581742286682, 0.8766424655914307, 0.14971871674060822, 0.1579025685787201, 0.13378578424453735, 0.1445218026638031]\n",
      "d loss, g loss: 0.11278326623141766 [6.457143783569336, 0.8218279480934143, 0.998706579208374, 0.1579248607158661, 0.15663868188858032, 0.15530507266521454, 0.14288972318172455]\n",
      "d loss, g loss: 0.0710793761536479 [6.363550662994385, 0.9946457743644714, 0.9046182036399841, 0.14749769866466522, 0.15374545753002167, 0.14505493640899658, 0.14531612396240234]\n",
      "d loss, g loss: 0.09141036123037338 [6.181334018707275, 0.8957700729370117, 0.9787526726722717, 0.14226271212100983, 0.15008698403835297, 0.13406696915626526, 0.14259594678878784]\n",
      "d loss, g loss: 0.11384091526269913 [6.530974388122559, 0.8535037040710449, 0.8738592863082886, 0.16384221613407135, 0.16111278533935547, 0.15874305367469788, 0.1520693004131317]\n",
      "d loss, g loss: 0.10441839881241322 [6.765799045562744, 0.8431446552276611, 0.9459682703018188, 0.1784377545118332, 0.1616615653038025, 0.16254456341266632, 0.15259402990341187]\n",
      "d loss, g loss: 0.08193136006593704 [6.600377082824707, 0.8451496362686157, 0.9823485612869263, 0.1631147563457489, 0.16702774167060852, 0.14189395308494568, 0.1523968130350113]\n",
      "d loss, g loss: 0.08332472201436758 [6.504634380340576, 0.9468349814414978, 0.943430483341217, 0.15850220620632172, 0.15387092530727386, 0.14819452166557312, 0.14993304014205933]\n",
      "d loss, g loss: 0.12414403958246112 [7.960975646972656, 0.8050193786621094, 0.9569986462593079, 0.2208285927772522, 0.22274860739707947, 0.18217115104198456, 0.17046597599983215]\n",
      "d loss, g loss: 0.07671110425144434 [7.051376819610596, 1.076470136642456, 1.6788283586502075, 0.1482865810394287, 0.14964167773723602, 0.12722843885421753, 0.13613061606884003]\n",
      "d loss, g loss: 0.10744617693126202 [6.442502021789551, 0.8565948009490967, 0.9899576902389526, 0.16439172625541687, 0.14890334010124207, 0.15481741726398468, 0.13778242468833923]\n",
      "d loss, g loss: 0.09135676827281713 [6.114624500274658, 0.9098404049873352, 0.9178967475891113, 0.14535607397556305, 0.14675605297088623, 0.1401730179786682, 0.13298019766807556]\n",
      "d loss, g loss: 0.08071781881153584 [6.3758931159973145, 0.8562496900558472, 0.9256280660629272, 0.1575687825679779, 0.15613949298858643, 0.14400476217269897, 0.1473817676305771]\n",
      "d loss, g loss: 0.08254989236593246 [6.564502716064453, 0.9176307916641235, 0.9854177236557007, 0.16016951203346252, 0.1591508984565735, 0.1579858362674713, 0.1356641799211502]\n",
      "d loss, g loss: 0.08034314122051 [6.336729049682617, 0.8819928169250488, 0.9609556198120117, 0.14801596105098724, 0.1573086380958557, 0.1442120522260666, 0.14389488101005554]\n",
      "d loss, g loss: 0.06387440394610167 [6.312352180480957, 0.9396466016769409, 0.9802543520927429, 0.14730992913246155, 0.1513935923576355, 0.13399669528007507, 0.14708656072616577]\n",
      "d loss, g loss: 0.05275533115491271 [6.027585506439209, 0.8732988238334656, 0.9484609365463257, 0.13198159635066986, 0.15195858478546143, 0.12778469920158386, 0.1455000340938568]\n",
      "d loss, g loss: 0.05560575146228075 [6.176573753356934, 0.9127163887023926, 1.0212373733520508, 0.1371861696243286, 0.15172046422958374, 0.1258961409330368, 0.14481452107429504]\n",
      "d loss, g loss: 0.08500949293375015 [6.350517272949219, 0.8179841637611389, 1.1112533807754517, 0.13998180627822876, 0.16062796115875244, 0.13263460993766785, 0.1504017859697342]\n",
      "d loss, g loss: 0.057708455715328455 [6.561379432678223, 0.9033059477806091, 0.9488741159439087, 0.15482470393180847, 0.17137347161769867, 0.1427333801984787, 0.14671021699905396]\n",
      "d loss, g loss: 0.06813145894557238 [6.325298309326172, 0.9199094772338867, 1.0373221635818481, 0.14674806594848633, 0.15106520056724548, 0.13860879838466644, 0.13937795162200928]\n",
      "d loss, g loss: 0.0523254731670022 [6.400739669799805, 0.9133259654045105, 1.0108683109283447, 0.14535897970199585, 0.15899239480495453, 0.13333287835121155, 0.15327344834804535]\n",
      "d loss, g loss: 0.05983530078083277 [5.915388107299805, 0.9650517702102661, 0.9252373576164246, 0.12256030738353729, 0.14940157532691956, 0.11413046717643738, 0.1469656378030777]\n",
      "d loss, g loss: 0.11781170591711998 [5.847182273864746, 0.8190377950668335, 1.0635356903076172, 0.12690892815589905, 0.14089977741241455, 0.12386410683393478, 0.1334402859210968]\n",
      "d loss, g loss: 0.046976013109087944 [6.251191139221191, 0.9455506205558777, 0.9973607063293457, 0.13401900231838226, 0.1572073996067047, 0.1254492700099945, 0.1537538468837738]\n",
      "d loss, g loss: 0.049810407217592 [6.463852405548096, 1.0242897272109985, 1.002637505531311, 0.14214882254600525, 0.15744376182556152, 0.13775843381881714, 0.15044140815734863]\n",
      "d loss, g loss: 0.060697716660797596 [6.210156440734863, 0.9393528699874878, 0.9082117080688477, 0.14995968341827393, 0.14232981204986572, 0.14793644845485687, 0.14000304043293]\n",
      "d loss, g loss: 0.07708697486668825 [6.236316680908203, 0.8560765981674194, 0.9908484816551208, 0.14050449430942535, 0.1569427251815796, 0.13304707407951355, 0.1499367654323578]\n",
      "d loss, g loss: 0.05391034623607993 [6.339102745056152, 0.9674726724624634, 1.0540518760681152, 0.13437700271606445, 0.15962210297584534, 0.1281415820121765, 0.14737586677074432]\n",
      "d loss, g loss: 0.05654320027679205 [6.318073749542236, 0.9590259194374084, 1.0218284130096436, 0.14957652986049652, 0.14150887727737427, 0.14411336183547974, 0.14115969836711884]\n",
      "d loss, g loss: 0.05544983968138695 [6.57478666305542, 0.8757036924362183, 1.0758445262908936, 0.1613216996192932, 0.15779060125350952, 0.15195593237876892, 0.13446709513664246]\n",
      "d loss, g loss: 0.061077564023435116 [5.9374847412109375, 0.8876458406448364, 1.0178184509277344, 0.12500956654548645, 0.1477459818124771, 0.11395420134067535, 0.1469387710094452]\n",
      "d loss, g loss: 0.06213441677391529 [6.473188400268555, 1.0138641595840454, 1.0918430089950562, 0.1434861421585083, 0.1556055247783661, 0.1371605396270752, 0.13815239071846008]\n",
      "d loss, g loss: 0.10926842130720615 [6.0404767990112305, 0.8000087738037109, 1.0510834455490112, 0.13631966710090637, 0.14945363998413086, 0.1242479532957077, 0.14208237826824188]\n",
      "d loss, g loss: 0.08195718377828598 [6.231534004211426, 0.9786707162857056, 0.9573972821235657, 0.1379511058330536, 0.15514135360717773, 0.13320156931877136, 0.1397065818309784]\n",
      "d loss, g loss: 0.07189539074897766 [6.049862384796143, 0.9652341604232788, 1.1176674365997314, 0.13102670013904572, 0.14342635869979858, 0.11289548873901367, 0.13159051537513733]\n",
      "d loss, g loss: 0.1737709417939186 [6.060877799987793, 0.5789241790771484, 0.92281174659729, 0.1667238473892212, 0.14853714406490326, 0.14866577088832855, 0.13264063000679016]\n",
      "d loss, g loss: 0.1282984334975481 [6.53966760635376, 0.7612093687057495, 1.123992681503296, 0.15705257654190063, 0.1691698580980301, 0.13774800300598145, 0.14070037007331848]\n",
      "d loss, g loss: 0.21472540870308876 [6.8196210861206055, 0.8699697256088257, 1.0722815990447998, 0.1774800717830658, 0.16944050788879395, 0.129477858543396, 0.15215492248535156]\n",
      "d loss, g loss: 0.026683638337999582 [6.163233280181885, 0.9496743083000183, 1.0781670808792114, 0.13036346435546875, 0.15090085566043854, 0.11333507299423218, 0.1512148231267929]\n",
      "d loss, g loss: 0.04958173120394349 [6.237027168273926, 0.9620285630226135, 1.042876958847046, 0.13738204538822174, 0.15117359161376953, 0.12865528464317322, 0.14065784215927124]\n"
     ]
    },
    {
     "name": "stdout",
     "output_type": "stream",
     "text": [
      "d loss, g loss: 0.09787111170589924 [6.222155570983887, 0.978054940700531, 1.0157297849655151, 0.14077584445476532, 0.1472090631723404, 0.12926001846790314, 0.14044448733329773]\n"
     ]
    }
   ],
   "source": [
    "iterations_per_epochs = 995//batch_size\n",
    "\n",
    "train(epochs=epochs, iterations_per_epochs=iterations_per_epochs, batch_size=batch_size)"
   ]
  },
  {
   "cell_type": "markdown",
   "metadata": {},
   "source": [
    "学習後のモデル（`G_AB, G_BA`）にテスト画像を入れて、うまく変換できているかを確認してみる。画素値が`[-1, 1]`に規格化されていることに注意。"
   ]
  },
  {
   "cell_type": "code",
   "execution_count": 18,
   "metadata": {},
   "outputs": [],
   "source": [
    "cycle_gan.save(\"./cycle_gan_model.h5\")"
   ]
  },
  {
   "cell_type": "code",
   "execution_count": 19,
   "metadata": {},
   "outputs": [
    {
     "ename": "ValueError",
     "evalue": "in user code:\n\n    /opt/conda/lib/python3.7/site-packages/tensorflow/python/keras/engine/training.py:1462 predict_function  *\n        return step_function(self, iterator)\n    /opt/conda/lib/python3.7/site-packages/tensorflow/python/keras/engine/training.py:1452 step_function  **\n        outputs = model.distribute_strategy.run(run_step, args=(data,))\n    /opt/conda/lib/python3.7/site-packages/tensorflow/python/distribute/distribute_lib.py:1211 run\n        return self._extended.call_for_each_replica(fn, args=args, kwargs=kwargs)\n    /opt/conda/lib/python3.7/site-packages/tensorflow/python/distribute/distribute_lib.py:2585 call_for_each_replica\n        return self._call_for_each_replica(fn, args, kwargs)\n    /opt/conda/lib/python3.7/site-packages/tensorflow/python/distribute/distribute_lib.py:2945 _call_for_each_replica\n        return fn(*args, **kwargs)\n    /opt/conda/lib/python3.7/site-packages/tensorflow/python/keras/engine/training.py:1445 run_step  **\n        outputs = model.predict_step(data)\n    /opt/conda/lib/python3.7/site-packages/tensorflow/python/keras/engine/training.py:1418 predict_step\n        return self(x, training=False)\n    /opt/conda/lib/python3.7/site-packages/tensorflow/python/keras/engine/base_layer.py:983 __call__\n        outputs = call_fn(inputs, *args, **kwargs)\n    /opt/conda/lib/python3.7/site-packages/tensorflow/python/keras/engine/functional.py:386 call\n        inputs, training=training, mask=mask)\n    /opt/conda/lib/python3.7/site-packages/tensorflow/python/keras/engine/functional.py:508 _run_internal_graph\n        outputs = node.layer(*args, **kwargs)\n    /opt/conda/lib/python3.7/site-packages/tensorflow/python/keras/engine/base_layer.py:983 __call__\n        outputs = call_fn(inputs, *args, **kwargs)\n    /opt/conda/lib/python3.7/site-packages/tensorflow/python/keras/engine/functional.py:386 call\n        inputs, training=training, mask=mask)\n    /opt/conda/lib/python3.7/site-packages/tensorflow/python/keras/engine/functional.py:508 _run_internal_graph\n        outputs = node.layer(*args, **kwargs)\n    /opt/conda/lib/python3.7/site-packages/tensorflow/python/keras/engine/base_layer.py:974 __call__\n        self.name)\n    /opt/conda/lib/python3.7/site-packages/tensorflow/python/keras/engine/input_spec.py:196 assert_input_compatibility\n        str(x.shape.as_list()))\n\n    ValueError: Input 0 of layer conv2d_10 is incompatible with the layer: : expected min_ndim=4, found ndim=3. Full shape received: [32, 256, 3]\n",
     "output_type": "error",
     "traceback": [
      "\u001b[0;31m---------------------------------------------------------------------------\u001b[0m",
      "\u001b[0;31mValueError\u001b[0m                                Traceback (most recent call last)",
      "\u001b[0;32m<ipython-input-19-0de586d86a17>\u001b[0m in \u001b[0;36m<module>\u001b[0;34m\u001b[0m\n\u001b[1;32m      3\u001b[0m \u001b[0miii\u001b[0m \u001b[0;34m=\u001b[0m \u001b[0mcv2\u001b[0m\u001b[0;34m.\u001b[0m\u001b[0mimread\u001b[0m\u001b[0;34m(\u001b[0m\u001b[0;34m\"./apple2orange/testA/img/n07740461_10011.jpg\"\u001b[0m\u001b[0;34m)\u001b[0m\u001b[0;34m\u001b[0m\u001b[0;34m\u001b[0m\u001b[0m\n\u001b[1;32m      4\u001b[0m \u001b[0;31m# A_datagen(iii)\u001b[0m\u001b[0;34m\u001b[0m\u001b[0;34m\u001b[0m\u001b[0;34m\u001b[0m\u001b[0m\n\u001b[0;32m----> 5\u001b[0;31m \u001b[0mcycle_gan\u001b[0m\u001b[0;34m.\u001b[0m\u001b[0mpredict\u001b[0m\u001b[0;34m(\u001b[0m\u001b[0miii\u001b[0m\u001b[0;34m)\u001b[0m\u001b[0;34m\u001b[0m\u001b[0;34m\u001b[0m\u001b[0m\n\u001b[0m",
      "\u001b[0;32m/opt/conda/lib/python3.7/site-packages/tensorflow/python/keras/engine/training.py\u001b[0m in \u001b[0;36m_method_wrapper\u001b[0;34m(self, *args, **kwargs)\u001b[0m\n\u001b[1;32m    128\u001b[0m       raise ValueError('{} is not supported in multi-worker mode.'.format(\n\u001b[1;32m    129\u001b[0m           method.__name__))\n\u001b[0;32m--> 130\u001b[0;31m     \u001b[0;32mreturn\u001b[0m \u001b[0mmethod\u001b[0m\u001b[0;34m(\u001b[0m\u001b[0mself\u001b[0m\u001b[0;34m,\u001b[0m \u001b[0;34m*\u001b[0m\u001b[0margs\u001b[0m\u001b[0;34m,\u001b[0m \u001b[0;34m**\u001b[0m\u001b[0mkwargs\u001b[0m\u001b[0;34m)\u001b[0m\u001b[0;34m\u001b[0m\u001b[0;34m\u001b[0m\u001b[0m\n\u001b[0m\u001b[1;32m    131\u001b[0m \u001b[0;34m\u001b[0m\u001b[0m\n\u001b[1;32m    132\u001b[0m   return tf_decorator.make_decorator(\n",
      "\u001b[0;32m/opt/conda/lib/python3.7/site-packages/tensorflow/python/keras/engine/training.py\u001b[0m in \u001b[0;36mpredict\u001b[0;34m(self, x, batch_size, verbose, steps, callbacks, max_queue_size, workers, use_multiprocessing)\u001b[0m\n\u001b[1;32m   1597\u001b[0m           \u001b[0;32mfor\u001b[0m \u001b[0mstep\u001b[0m \u001b[0;32min\u001b[0m \u001b[0mdata_handler\u001b[0m\u001b[0;34m.\u001b[0m\u001b[0msteps\u001b[0m\u001b[0;34m(\u001b[0m\u001b[0;34m)\u001b[0m\u001b[0;34m:\u001b[0m\u001b[0;34m\u001b[0m\u001b[0;34m\u001b[0m\u001b[0m\n\u001b[1;32m   1598\u001b[0m             \u001b[0mcallbacks\u001b[0m\u001b[0;34m.\u001b[0m\u001b[0mon_predict_batch_begin\u001b[0m\u001b[0;34m(\u001b[0m\u001b[0mstep\u001b[0m\u001b[0;34m)\u001b[0m\u001b[0;34m\u001b[0m\u001b[0;34m\u001b[0m\u001b[0m\n\u001b[0;32m-> 1599\u001b[0;31m             \u001b[0mtmp_batch_outputs\u001b[0m \u001b[0;34m=\u001b[0m \u001b[0mpredict_function\u001b[0m\u001b[0;34m(\u001b[0m\u001b[0miterator\u001b[0m\u001b[0;34m)\u001b[0m\u001b[0;34m\u001b[0m\u001b[0;34m\u001b[0m\u001b[0m\n\u001b[0m\u001b[1;32m   1600\u001b[0m             \u001b[0;32mif\u001b[0m \u001b[0mdata_handler\u001b[0m\u001b[0;34m.\u001b[0m\u001b[0mshould_sync\u001b[0m\u001b[0;34m:\u001b[0m\u001b[0;34m\u001b[0m\u001b[0;34m\u001b[0m\u001b[0m\n\u001b[1;32m   1601\u001b[0m               \u001b[0mcontext\u001b[0m\u001b[0;34m.\u001b[0m\u001b[0masync_wait\u001b[0m\u001b[0;34m(\u001b[0m\u001b[0;34m)\u001b[0m\u001b[0;34m\u001b[0m\u001b[0;34m\u001b[0m\u001b[0m\n",
      "\u001b[0;32m/opt/conda/lib/python3.7/site-packages/tensorflow/python/eager/def_function.py\u001b[0m in \u001b[0;36m__call__\u001b[0;34m(self, *args, **kwds)\u001b[0m\n\u001b[1;32m    778\u001b[0m       \u001b[0;32melse\u001b[0m\u001b[0;34m:\u001b[0m\u001b[0;34m\u001b[0m\u001b[0;34m\u001b[0m\u001b[0m\n\u001b[1;32m    779\u001b[0m         \u001b[0mcompiler\u001b[0m \u001b[0;34m=\u001b[0m \u001b[0;34m\"nonXla\"\u001b[0m\u001b[0;34m\u001b[0m\u001b[0;34m\u001b[0m\u001b[0m\n\u001b[0;32m--> 780\u001b[0;31m         \u001b[0mresult\u001b[0m \u001b[0;34m=\u001b[0m \u001b[0mself\u001b[0m\u001b[0;34m.\u001b[0m\u001b[0m_call\u001b[0m\u001b[0;34m(\u001b[0m\u001b[0;34m*\u001b[0m\u001b[0margs\u001b[0m\u001b[0;34m,\u001b[0m \u001b[0;34m**\u001b[0m\u001b[0mkwds\u001b[0m\u001b[0;34m)\u001b[0m\u001b[0;34m\u001b[0m\u001b[0;34m\u001b[0m\u001b[0m\n\u001b[0m\u001b[1;32m    781\u001b[0m \u001b[0;34m\u001b[0m\u001b[0m\n\u001b[1;32m    782\u001b[0m       \u001b[0mnew_tracing_count\u001b[0m \u001b[0;34m=\u001b[0m \u001b[0mself\u001b[0m\u001b[0;34m.\u001b[0m\u001b[0m_get_tracing_count\u001b[0m\u001b[0;34m(\u001b[0m\u001b[0;34m)\u001b[0m\u001b[0;34m\u001b[0m\u001b[0;34m\u001b[0m\u001b[0m\n",
      "\u001b[0;32m/opt/conda/lib/python3.7/site-packages/tensorflow/python/eager/def_function.py\u001b[0m in \u001b[0;36m_call\u001b[0;34m(self, *args, **kwds)\u001b[0m\n\u001b[1;32m    821\u001b[0m       \u001b[0;31m# This is the first call of __call__, so we have to initialize.\u001b[0m\u001b[0;34m\u001b[0m\u001b[0;34m\u001b[0m\u001b[0;34m\u001b[0m\u001b[0m\n\u001b[1;32m    822\u001b[0m       \u001b[0minitializers\u001b[0m \u001b[0;34m=\u001b[0m \u001b[0;34m[\u001b[0m\u001b[0;34m]\u001b[0m\u001b[0;34m\u001b[0m\u001b[0;34m\u001b[0m\u001b[0m\n\u001b[0;32m--> 823\u001b[0;31m       \u001b[0mself\u001b[0m\u001b[0;34m.\u001b[0m\u001b[0m_initialize\u001b[0m\u001b[0;34m(\u001b[0m\u001b[0margs\u001b[0m\u001b[0;34m,\u001b[0m \u001b[0mkwds\u001b[0m\u001b[0;34m,\u001b[0m \u001b[0madd_initializers_to\u001b[0m\u001b[0;34m=\u001b[0m\u001b[0minitializers\u001b[0m\u001b[0;34m)\u001b[0m\u001b[0;34m\u001b[0m\u001b[0;34m\u001b[0m\u001b[0m\n\u001b[0m\u001b[1;32m    824\u001b[0m     \u001b[0;32mfinally\u001b[0m\u001b[0;34m:\u001b[0m\u001b[0;34m\u001b[0m\u001b[0;34m\u001b[0m\u001b[0m\n\u001b[1;32m    825\u001b[0m       \u001b[0;31m# At this point we know that the initialization is complete (or less\u001b[0m\u001b[0;34m\u001b[0m\u001b[0;34m\u001b[0m\u001b[0;34m\u001b[0m\u001b[0m\n",
      "\u001b[0;32m/opt/conda/lib/python3.7/site-packages/tensorflow/python/eager/def_function.py\u001b[0m in \u001b[0;36m_initialize\u001b[0;34m(self, args, kwds, add_initializers_to)\u001b[0m\n\u001b[1;32m    695\u001b[0m     self._concrete_stateful_fn = (\n\u001b[1;32m    696\u001b[0m         self._stateful_fn._get_concrete_function_internal_garbage_collected(  # pylint: disable=protected-access\n\u001b[0;32m--> 697\u001b[0;31m             *args, **kwds))\n\u001b[0m\u001b[1;32m    698\u001b[0m \u001b[0;34m\u001b[0m\u001b[0m\n\u001b[1;32m    699\u001b[0m     \u001b[0;32mdef\u001b[0m \u001b[0minvalid_creator_scope\u001b[0m\u001b[0;34m(\u001b[0m\u001b[0;34m*\u001b[0m\u001b[0munused_args\u001b[0m\u001b[0;34m,\u001b[0m \u001b[0;34m**\u001b[0m\u001b[0munused_kwds\u001b[0m\u001b[0;34m)\u001b[0m\u001b[0;34m:\u001b[0m\u001b[0;34m\u001b[0m\u001b[0;34m\u001b[0m\u001b[0m\n",
      "\u001b[0;32m/opt/conda/lib/python3.7/site-packages/tensorflow/python/eager/function.py\u001b[0m in \u001b[0;36m_get_concrete_function_internal_garbage_collected\u001b[0;34m(self, *args, **kwargs)\u001b[0m\n\u001b[1;32m   2853\u001b[0m       \u001b[0margs\u001b[0m\u001b[0;34m,\u001b[0m \u001b[0mkwargs\u001b[0m \u001b[0;34m=\u001b[0m \u001b[0;32mNone\u001b[0m\u001b[0;34m,\u001b[0m \u001b[0;32mNone\u001b[0m\u001b[0;34m\u001b[0m\u001b[0;34m\u001b[0m\u001b[0m\n\u001b[1;32m   2854\u001b[0m     \u001b[0;32mwith\u001b[0m \u001b[0mself\u001b[0m\u001b[0;34m.\u001b[0m\u001b[0m_lock\u001b[0m\u001b[0;34m:\u001b[0m\u001b[0;34m\u001b[0m\u001b[0;34m\u001b[0m\u001b[0m\n\u001b[0;32m-> 2855\u001b[0;31m       \u001b[0mgraph_function\u001b[0m\u001b[0;34m,\u001b[0m \u001b[0m_\u001b[0m\u001b[0;34m,\u001b[0m \u001b[0m_\u001b[0m \u001b[0;34m=\u001b[0m \u001b[0mself\u001b[0m\u001b[0;34m.\u001b[0m\u001b[0m_maybe_define_function\u001b[0m\u001b[0;34m(\u001b[0m\u001b[0margs\u001b[0m\u001b[0;34m,\u001b[0m \u001b[0mkwargs\u001b[0m\u001b[0;34m)\u001b[0m\u001b[0;34m\u001b[0m\u001b[0;34m\u001b[0m\u001b[0m\n\u001b[0m\u001b[1;32m   2856\u001b[0m     \u001b[0;32mreturn\u001b[0m \u001b[0mgraph_function\u001b[0m\u001b[0;34m\u001b[0m\u001b[0;34m\u001b[0m\u001b[0m\n\u001b[1;32m   2857\u001b[0m \u001b[0;34m\u001b[0m\u001b[0m\n",
      "\u001b[0;32m/opt/conda/lib/python3.7/site-packages/tensorflow/python/eager/function.py\u001b[0m in \u001b[0;36m_maybe_define_function\u001b[0;34m(self, args, kwargs)\u001b[0m\n\u001b[1;32m   3211\u001b[0m \u001b[0;34m\u001b[0m\u001b[0m\n\u001b[1;32m   3212\u001b[0m       \u001b[0mself\u001b[0m\u001b[0;34m.\u001b[0m\u001b[0m_function_cache\u001b[0m\u001b[0;34m.\u001b[0m\u001b[0mmissed\u001b[0m\u001b[0;34m.\u001b[0m\u001b[0madd\u001b[0m\u001b[0;34m(\u001b[0m\u001b[0mcall_context_key\u001b[0m\u001b[0;34m)\u001b[0m\u001b[0;34m\u001b[0m\u001b[0;34m\u001b[0m\u001b[0m\n\u001b[0;32m-> 3213\u001b[0;31m       \u001b[0mgraph_function\u001b[0m \u001b[0;34m=\u001b[0m \u001b[0mself\u001b[0m\u001b[0;34m.\u001b[0m\u001b[0m_create_graph_function\u001b[0m\u001b[0;34m(\u001b[0m\u001b[0margs\u001b[0m\u001b[0;34m,\u001b[0m \u001b[0mkwargs\u001b[0m\u001b[0;34m)\u001b[0m\u001b[0;34m\u001b[0m\u001b[0;34m\u001b[0m\u001b[0m\n\u001b[0m\u001b[1;32m   3214\u001b[0m       \u001b[0mself\u001b[0m\u001b[0;34m.\u001b[0m\u001b[0m_function_cache\u001b[0m\u001b[0;34m.\u001b[0m\u001b[0mprimary\u001b[0m\u001b[0;34m[\u001b[0m\u001b[0mcache_key\u001b[0m\u001b[0;34m]\u001b[0m \u001b[0;34m=\u001b[0m \u001b[0mgraph_function\u001b[0m\u001b[0;34m\u001b[0m\u001b[0;34m\u001b[0m\u001b[0m\n\u001b[1;32m   3215\u001b[0m       \u001b[0;32mreturn\u001b[0m \u001b[0mgraph_function\u001b[0m\u001b[0;34m,\u001b[0m \u001b[0margs\u001b[0m\u001b[0;34m,\u001b[0m \u001b[0mkwargs\u001b[0m\u001b[0;34m\u001b[0m\u001b[0;34m\u001b[0m\u001b[0m\n",
      "\u001b[0;32m/opt/conda/lib/python3.7/site-packages/tensorflow/python/eager/function.py\u001b[0m in \u001b[0;36m_create_graph_function\u001b[0;34m(self, args, kwargs, override_flat_arg_shapes)\u001b[0m\n\u001b[1;32m   3073\u001b[0m             \u001b[0marg_names\u001b[0m\u001b[0;34m=\u001b[0m\u001b[0marg_names\u001b[0m\u001b[0;34m,\u001b[0m\u001b[0;34m\u001b[0m\u001b[0;34m\u001b[0m\u001b[0m\n\u001b[1;32m   3074\u001b[0m             \u001b[0moverride_flat_arg_shapes\u001b[0m\u001b[0;34m=\u001b[0m\u001b[0moverride_flat_arg_shapes\u001b[0m\u001b[0;34m,\u001b[0m\u001b[0;34m\u001b[0m\u001b[0;34m\u001b[0m\u001b[0m\n\u001b[0;32m-> 3075\u001b[0;31m             capture_by_value=self._capture_by_value),\n\u001b[0m\u001b[1;32m   3076\u001b[0m         \u001b[0mself\u001b[0m\u001b[0;34m.\u001b[0m\u001b[0m_function_attributes\u001b[0m\u001b[0;34m,\u001b[0m\u001b[0;34m\u001b[0m\u001b[0;34m\u001b[0m\u001b[0m\n\u001b[1;32m   3077\u001b[0m         \u001b[0mfunction_spec\u001b[0m\u001b[0;34m=\u001b[0m\u001b[0mself\u001b[0m\u001b[0;34m.\u001b[0m\u001b[0mfunction_spec\u001b[0m\u001b[0;34m,\u001b[0m\u001b[0;34m\u001b[0m\u001b[0;34m\u001b[0m\u001b[0m\n",
      "\u001b[0;32m/opt/conda/lib/python3.7/site-packages/tensorflow/python/framework/func_graph.py\u001b[0m in \u001b[0;36mfunc_graph_from_py_func\u001b[0;34m(name, python_func, args, kwargs, signature, func_graph, autograph, autograph_options, add_control_dependencies, arg_names, op_return_value, collections, capture_by_value, override_flat_arg_shapes)\u001b[0m\n\u001b[1;32m    984\u001b[0m         \u001b[0m_\u001b[0m\u001b[0;34m,\u001b[0m \u001b[0moriginal_func\u001b[0m \u001b[0;34m=\u001b[0m \u001b[0mtf_decorator\u001b[0m\u001b[0;34m.\u001b[0m\u001b[0munwrap\u001b[0m\u001b[0;34m(\u001b[0m\u001b[0mpython_func\u001b[0m\u001b[0;34m)\u001b[0m\u001b[0;34m\u001b[0m\u001b[0;34m\u001b[0m\u001b[0m\n\u001b[1;32m    985\u001b[0m \u001b[0;34m\u001b[0m\u001b[0m\n\u001b[0;32m--> 986\u001b[0;31m       \u001b[0mfunc_outputs\u001b[0m \u001b[0;34m=\u001b[0m \u001b[0mpython_func\u001b[0m\u001b[0;34m(\u001b[0m\u001b[0;34m*\u001b[0m\u001b[0mfunc_args\u001b[0m\u001b[0;34m,\u001b[0m \u001b[0;34m**\u001b[0m\u001b[0mfunc_kwargs\u001b[0m\u001b[0;34m)\u001b[0m\u001b[0;34m\u001b[0m\u001b[0;34m\u001b[0m\u001b[0m\n\u001b[0m\u001b[1;32m    987\u001b[0m \u001b[0;34m\u001b[0m\u001b[0m\n\u001b[1;32m    988\u001b[0m       \u001b[0;31m# invariant: `func_outputs` contains only Tensors, CompositeTensors,\u001b[0m\u001b[0;34m\u001b[0m\u001b[0;34m\u001b[0m\u001b[0;34m\u001b[0m\u001b[0m\n",
      "\u001b[0;32m/opt/conda/lib/python3.7/site-packages/tensorflow/python/eager/def_function.py\u001b[0m in \u001b[0;36mwrapped_fn\u001b[0;34m(*args, **kwds)\u001b[0m\n\u001b[1;32m    598\u001b[0m         \u001b[0;31m# __wrapped__ allows AutoGraph to swap in a converted function. We give\u001b[0m\u001b[0;34m\u001b[0m\u001b[0;34m\u001b[0m\u001b[0;34m\u001b[0m\u001b[0m\n\u001b[1;32m    599\u001b[0m         \u001b[0;31m# the function a weak reference to itself to avoid a reference cycle.\u001b[0m\u001b[0;34m\u001b[0m\u001b[0;34m\u001b[0m\u001b[0;34m\u001b[0m\u001b[0m\n\u001b[0;32m--> 600\u001b[0;31m         \u001b[0;32mreturn\u001b[0m \u001b[0mweak_wrapped_fn\u001b[0m\u001b[0;34m(\u001b[0m\u001b[0;34m)\u001b[0m\u001b[0;34m.\u001b[0m\u001b[0m__wrapped__\u001b[0m\u001b[0;34m(\u001b[0m\u001b[0;34m*\u001b[0m\u001b[0margs\u001b[0m\u001b[0;34m,\u001b[0m \u001b[0;34m**\u001b[0m\u001b[0mkwds\u001b[0m\u001b[0;34m)\u001b[0m\u001b[0;34m\u001b[0m\u001b[0;34m\u001b[0m\u001b[0m\n\u001b[0m\u001b[1;32m    601\u001b[0m     \u001b[0mweak_wrapped_fn\u001b[0m \u001b[0;34m=\u001b[0m \u001b[0mweakref\u001b[0m\u001b[0;34m.\u001b[0m\u001b[0mref\u001b[0m\u001b[0;34m(\u001b[0m\u001b[0mwrapped_fn\u001b[0m\u001b[0;34m)\u001b[0m\u001b[0;34m\u001b[0m\u001b[0;34m\u001b[0m\u001b[0m\n\u001b[1;32m    602\u001b[0m \u001b[0;34m\u001b[0m\u001b[0m\n",
      "\u001b[0;32m/opt/conda/lib/python3.7/site-packages/tensorflow/python/framework/func_graph.py\u001b[0m in \u001b[0;36mwrapper\u001b[0;34m(*args, **kwargs)\u001b[0m\n\u001b[1;32m    971\u001b[0m           \u001b[0;32mexcept\u001b[0m \u001b[0mException\u001b[0m \u001b[0;32mas\u001b[0m \u001b[0me\u001b[0m\u001b[0;34m:\u001b[0m  \u001b[0;31m# pylint:disable=broad-except\u001b[0m\u001b[0;34m\u001b[0m\u001b[0;34m\u001b[0m\u001b[0m\n\u001b[1;32m    972\u001b[0m             \u001b[0;32mif\u001b[0m \u001b[0mhasattr\u001b[0m\u001b[0;34m(\u001b[0m\u001b[0me\u001b[0m\u001b[0;34m,\u001b[0m \u001b[0;34m\"ag_error_metadata\"\u001b[0m\u001b[0;34m)\u001b[0m\u001b[0;34m:\u001b[0m\u001b[0;34m\u001b[0m\u001b[0;34m\u001b[0m\u001b[0m\n\u001b[0;32m--> 973\u001b[0;31m               \u001b[0;32mraise\u001b[0m \u001b[0me\u001b[0m\u001b[0;34m.\u001b[0m\u001b[0mag_error_metadata\u001b[0m\u001b[0;34m.\u001b[0m\u001b[0mto_exception\u001b[0m\u001b[0;34m(\u001b[0m\u001b[0me\u001b[0m\u001b[0;34m)\u001b[0m\u001b[0;34m\u001b[0m\u001b[0;34m\u001b[0m\u001b[0m\n\u001b[0m\u001b[1;32m    974\u001b[0m             \u001b[0;32melse\u001b[0m\u001b[0;34m:\u001b[0m\u001b[0;34m\u001b[0m\u001b[0;34m\u001b[0m\u001b[0m\n\u001b[1;32m    975\u001b[0m               \u001b[0;32mraise\u001b[0m\u001b[0;34m\u001b[0m\u001b[0;34m\u001b[0m\u001b[0m\n",
      "\u001b[0;31mValueError\u001b[0m: in user code:\n\n    /opt/conda/lib/python3.7/site-packages/tensorflow/python/keras/engine/training.py:1462 predict_function  *\n        return step_function(self, iterator)\n    /opt/conda/lib/python3.7/site-packages/tensorflow/python/keras/engine/training.py:1452 step_function  **\n        outputs = model.distribute_strategy.run(run_step, args=(data,))\n    /opt/conda/lib/python3.7/site-packages/tensorflow/python/distribute/distribute_lib.py:1211 run\n        return self._extended.call_for_each_replica(fn, args=args, kwargs=kwargs)\n    /opt/conda/lib/python3.7/site-packages/tensorflow/python/distribute/distribute_lib.py:2585 call_for_each_replica\n        return self._call_for_each_replica(fn, args, kwargs)\n    /opt/conda/lib/python3.7/site-packages/tensorflow/python/distribute/distribute_lib.py:2945 _call_for_each_replica\n        return fn(*args, **kwargs)\n    /opt/conda/lib/python3.7/site-packages/tensorflow/python/keras/engine/training.py:1445 run_step  **\n        outputs = model.predict_step(data)\n    /opt/conda/lib/python3.7/site-packages/tensorflow/python/keras/engine/training.py:1418 predict_step\n        return self(x, training=False)\n    /opt/conda/lib/python3.7/site-packages/tensorflow/python/keras/engine/base_layer.py:983 __call__\n        outputs = call_fn(inputs, *args, **kwargs)\n    /opt/conda/lib/python3.7/site-packages/tensorflow/python/keras/engine/functional.py:386 call\n        inputs, training=training, mask=mask)\n    /opt/conda/lib/python3.7/site-packages/tensorflow/python/keras/engine/functional.py:508 _run_internal_graph\n        outputs = node.layer(*args, **kwargs)\n    /opt/conda/lib/python3.7/site-packages/tensorflow/python/keras/engine/base_layer.py:983 __call__\n        outputs = call_fn(inputs, *args, **kwargs)\n    /opt/conda/lib/python3.7/site-packages/tensorflow/python/keras/engine/functional.py:386 call\n        inputs, training=training, mask=mask)\n    /opt/conda/lib/python3.7/site-packages/tensorflow/python/keras/engine/functional.py:508 _run_internal_graph\n        outputs = node.layer(*args, **kwargs)\n    /opt/conda/lib/python3.7/site-packages/tensorflow/python/keras/engine/base_layer.py:974 __call__\n        self.name)\n    /opt/conda/lib/python3.7/site-packages/tensorflow/python/keras/engine/input_spec.py:196 assert_input_compatibility\n        str(x.shape.as_list()))\n\n    ValueError: Input 0 of layer conv2d_10 is incompatible with the layer: : expected min_ndim=4, found ndim=3. Full shape received: [32, 256, 3]\n"
     ]
    }
   ],
   "source": [
    "import cv2\n",
    "\n",
    "iii = cv2.imread(\"./apple2orange/testA/img/n07740461_10011.jpg\")\n",
    "# A_datagen(iii)\n",
    "cycle_gan.predict(iii)"
   ]
  },
  {
   "cell_type": "code",
   "execution_count": null,
   "metadata": {},
   "outputs": [],
   "source": [
    "cycle_gan.history"
   ]
  },
  {
   "cell_type": "code",
   "execution_count": null,
   "metadata": {},
   "outputs": [],
   "source": [
    "!ls ./apple2orange/testA/img/"
   ]
  },
  {
   "cell_type": "code",
   "execution_count": null,
   "metadata": {},
   "outputs": [],
   "source": [
    "!ls \"./apple2orange/testA/img/n07740461_10011.jpg\""
   ]
  },
  {
   "cell_type": "code",
   "execution_count": null,
   "metadata": {},
   "outputs": [],
   "source": []
  },
  {
   "cell_type": "code",
   "execution_count": null,
   "metadata": {},
   "outputs": [],
   "source": [
    "\n",
    "# Model\n",
    "results = G_AB.predict(next(A_generator))"
   ]
  },
  {
   "cell_type": "code",
   "execution_count": null,
   "metadata": {},
   "outputs": [],
   "source": [
    "# cv2.imshow(\"img\",np.array(results[0]*127+127).astype(int))\n",
    "# plt.imshow(np.array(results[0]*127+127).astype(int))"
   ]
  },
  {
   "cell_type": "code",
   "execution_count": null,
   "metadata": {},
   "outputs": [],
   "source": [
    "# cv2.imshow()"
   ]
  },
  {
   "cell_type": "code",
   "execution_count": null,
   "metadata": {},
   "outputs": [],
   "source": [
    "type(Model)"
   ]
  }
 ],
 "metadata": {
  "kernelspec": {
   "display_name": "Python 3",
   "language": "python",
   "name": "python3"
  },
  "varInspector": {
   "cols": {
    "lenName": 16,
    "lenType": 16,
    "lenVar": 40
   },
   "kernels_config": {
    "python": {
     "delete_cmd_postfix": "",
     "delete_cmd_prefix": "del ",
     "library": "var_list.py",
     "varRefreshCmd": "print(var_dic_list())"
    },
    "r": {
     "delete_cmd_postfix": ") ",
     "delete_cmd_prefix": "rm(",
     "library": "var_list.r",
     "varRefreshCmd": "cat(var_dic_list()) "
    }
   },
   "types_to_exclude": [
    "module",
    "function",
    "builtin_function_or_method",
    "instance",
    "_Feature"
   ],
   "window_display": false
  }
 },
 "nbformat": 4,
 "nbformat_minor": 4
}
